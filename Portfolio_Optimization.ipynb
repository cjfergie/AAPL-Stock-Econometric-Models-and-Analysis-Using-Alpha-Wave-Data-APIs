{
  "nbformat": 4,
  "nbformat_minor": 0,
  "metadata": {
    "colab": {
      "provenance": [],
      "authorship_tag": "ABX9TyPP7ReTvIStwFFY4D3FGCnO",
      "include_colab_link": true
    },
    "kernelspec": {
      "name": "python3",
      "display_name": "Python 3"
    },
    "language_info": {
      "name": "python"
    }
  },
  "cells": [
    {
      "cell_type": "markdown",
      "metadata": {
        "id": "view-in-github",
        "colab_type": "text"
      },
      "source": [
        "<a href=\"https://colab.research.google.com/github/cjfergie/AAPL-Stock-Econometric-Models-and-Analysis-Using-Alpha-Wave-Data-APIs/blob/main/Portfolio_Optimization.ipynb\" target=\"_parent\"><img src=\"https://colab.research.google.com/assets/colab-badge.svg\" alt=\"Open In Colab\"/></a>"
      ]
    },
    {
      "cell_type": "code",
      "execution_count": null,
      "metadata": {
        "colab": {
          "base_uri": "https://localhost:8080/"
        },
        "id": "XzNRRc1_PXPq",
        "outputId": "bf1b550a-f944-4a9b-c287-f100ba7809dd"
      },
      "outputs": [
        {
          "output_type": "stream",
          "name": "stdout",
          "text": [
            "--2024-03-19 03:04:31--  https://lazyprogrammer.me/course_files/sp500sub.csv\n",
            "Resolving lazyprogrammer.me (lazyprogrammer.me)... 104.21.23.210, 172.67.213.166, 2606:4700:3030::ac43:d5a6, ...\n",
            "Connecting to lazyprogrammer.me (lazyprogrammer.me)|104.21.23.210|:443... connected.\n",
            "HTTP request sent, awaiting response... 200 OK\n",
            "Length: 25473876 (24M) [text/csv]\n",
            "Saving to: ‘sp500sub.csv’\n",
            "\n",
            "sp500sub.csv        100%[===================>]  24.29M  60.8MB/s    in 0.4s    \n",
            "\n",
            "2024-03-19 03:04:32 (60.8 MB/s) - ‘sp500sub.csv’ saved [25473876/25473876]\n",
            "\n"
          ]
        }
      ],
      "source": [
        "!wget -nc https://lazyprogrammer.me/course_files/sp500sub.csv"
      ]
    },
    {
      "cell_type": "code",
      "source": [
        "import pandas as pd\n",
        "import numpy as np\n",
        "import matplotlib.pyplot as plt\n"
      ],
      "metadata": {
        "id": "oa2EaYE6P38y"
      },
      "execution_count": null,
      "outputs": []
    },
    {
      "cell_type": "code",
      "source": [
        "df = pd.read_csv('sp500sub.csv', index_col = 'Date', parse_dates=True)"
      ],
      "metadata": {
        "id": "8Anmc1-rP_vw"
      },
      "execution_count": null,
      "outputs": []
    },
    {
      "cell_type": "code",
      "source": [
        "df.columns"
      ],
      "metadata": {
        "colab": {
          "base_uri": "https://localhost:8080/"
        },
        "id": "ajB68RztQNuS",
        "outputId": "3b5b18d8-a9c0-4004-d748-3e0a275fe4b6"
      },
      "execution_count": null,
      "outputs": [
        {
          "output_type": "execute_result",
          "data": {
            "text/plain": [
              "Index(['Open', 'High', 'Low', 'Close', 'Adj Close', 'Volume', 'Name'], dtype='object')"
            ]
          },
          "metadata": {},
          "execution_count": 5
        }
      ]
    },
    {
      "cell_type": "code",
      "source": [
        "df['Name'].unique()"
      ],
      "metadata": {
        "colab": {
          "base_uri": "https://localhost:8080/"
        },
        "id": "urm9_uLtQPVO",
        "outputId": "d157bb0d-e90f-459d-af7f-fc2cbf4e0583"
      },
      "execution_count": null,
      "outputs": [
        {
          "output_type": "execute_result",
          "data": {
            "text/plain": [
              "array(['INCY', 'GILD', 'DXC', 'AFL', 'XYL', 'ARE', 'AMD', 'WYNN', 'IBM',\n",
              "       'ATVI', 'AES', 'GPC', 'PRU', 'HST', 'WMB', 'GOOG', 'SRE', 'HSIC',\n",
              "       'UNP', 'UPS', 'K', 'LYB', 'MDT', 'COF', 'HAS', 'CSX', 'GT', 'SYF',\n",
              "       'EBAY', 'KSS', 'AJG', 'JWN', 'SBUX', 'IT', 'PH', 'DVN', 'MMM',\n",
              "       'SPG', 'AKAM', 'IP', 'CPB', 'KMI', 'AAPL', 'NEM', 'KMX', 'TSCO',\n",
              "       'SYY', 'VNO', 'NWS', 'NBL', 'ACN', 'APH', 'PDCO', 'WLTW', 'FIS',\n",
              "       'URI', 'CBOE', 'FISV', 'BA', 'UAA', 'CVS', 'WU', 'SLB', 'AIV',\n",
              "       'VLO', 'MU', 'CAH', 'AZO', 'CCI', 'ZTS', 'MCO', 'ALLE', 'RHI',\n",
              "       'UAL', 'IR', 'CB', 'VMC', 'GD', 'AAP', 'NEE', 'ABT', 'WFC', 'DIS',\n",
              "       'SNA', 'MAR', 'JPM', 'CLX', 'KIM', 'SCG', 'HBI', 'ABBV', 'RSG',\n",
              "       'ETR', 'ADBE', 'COO', 'HLT', 'INTU', 'SLG', 'GWW', 'COG', 'CBS',\n",
              "       'FB', 'CMS', 'MDLZ'], dtype=object)"
            ]
          },
          "metadata": {},
          "execution_count": 6
        }
      ]
    },
    {
      "cell_type": "code",
      "source": [
        "#names = df['Name].unique()\n",
        "names = ['GOOG', 'SBUX', 'KISS', 'NEM']"
      ],
      "metadata": {
        "id": "AgQBfG5oQTsF"
      },
      "execution_count": null,
      "outputs": []
    },
    {
      "cell_type": "code",
      "source": [
        "252/2"
      ],
      "metadata": {
        "colab": {
          "base_uri": "https://localhost:8080/"
        },
        "id": "cPYb5yovQmA1",
        "outputId": "b231d6d7-b80d-4cbc-8690-9e0a2ee9a48e"
      },
      "execution_count": null,
      "outputs": [
        {
          "output_type": "execute_result",
          "data": {
            "text/plain": [
              "126.0"
            ]
          },
          "metadata": {},
          "execution_count": 8
        }
      ]
    },
    {
      "cell_type": "code",
      "source": [
        "all_dates = df.index.unique().sort_values()"
      ],
      "metadata": {
        "id": "7T-epnhOQotS"
      },
      "execution_count": null,
      "outputs": []
    },
    {
      "cell_type": "code",
      "source": [
        "len(all_dates)"
      ],
      "metadata": {
        "colab": {
          "base_uri": "https://localhost:8080/"
        },
        "id": "GX0eutnfQwy0",
        "outputId": "0ddbfc9c-5f7f-48f3-e428-9748ec37a7ce"
      },
      "execution_count": null,
      "outputs": [
        {
          "output_type": "execute_result",
          "data": {
            "text/plain": [
              "2267"
            ]
          },
          "metadata": {},
          "execution_count": 10
        }
      ]
    },
    {
      "cell_type": "code",
      "source": [
        "all_dates.get_loc('2014-01-02')"
      ],
      "metadata": {
        "colab": {
          "base_uri": "https://localhost:8080/"
        },
        "id": "CCd45GH7QzUi",
        "outputId": "4426719a-022f-4721-e170-6897116a90d1"
      },
      "execution_count": null,
      "outputs": [
        {
          "output_type": "execute_result",
          "data": {
            "text/plain": [
              "1007"
            ]
          },
          "metadata": {},
          "execution_count": 11
        }
      ]
    },
    {
      "cell_type": "code",
      "source": [
        "all_dates.get_loc('2014-06-30')"
      ],
      "metadata": {
        "colab": {
          "base_uri": "https://localhost:8080/"
        },
        "id": "msa9JDXYQ9tS",
        "outputId": "8d504f38-0903-4953-dcea-6bb83379e7f4"
      },
      "execution_count": null,
      "outputs": [
        {
          "output_type": "execute_result",
          "data": {
            "text/plain": [
              "1130"
            ]
          },
          "metadata": {},
          "execution_count": 12
        }
      ]
    },
    {
      "cell_type": "code",
      "source": [
        "start = all_dates.get_loc('2014-01-02')\n",
        "end = all_dates.get_loc('2014-06-30')\n",
        "dates = all_dates[start:end+1]"
      ],
      "metadata": {
        "id": "XKB1h55kRFOw"
      },
      "execution_count": null,
      "outputs": []
    },
    {
      "cell_type": "code",
      "source": [
        "type(dates)"
      ],
      "metadata": {
        "colab": {
          "base_uri": "https://localhost:8080/"
        },
        "id": "Ox-BJUOXRX2r",
        "outputId": "7c3621cc-2bce-4b42-a814-52008ef9a244"
      },
      "execution_count": null,
      "outputs": [
        {
          "output_type": "execute_result",
          "data": {
            "text/plain": [
              "pandas.core.indexes.datetimes.DatetimeIndex"
            ]
          },
          "metadata": {},
          "execution_count": 14
        }
      ]
    },
    {
      "cell_type": "code",
      "source": [
        "len(dates)"
      ],
      "metadata": {
        "colab": {
          "base_uri": "https://localhost:8080/"
        },
        "id": "CdtzIjyURke4",
        "outputId": "68f8e0f1-bb0b-4851-d9fe-7eb94b0ae249"
      },
      "execution_count": null,
      "outputs": [
        {
          "output_type": "execute_result",
          "data": {
            "text/plain": [
              "124"
            ]
          },
          "metadata": {},
          "execution_count": 15
        }
      ]
    },
    {
      "cell_type": "code",
      "source": [
        "close_prices = pd.DataFrame(index=dates)"
      ],
      "metadata": {
        "id": "M4Kbw-FyR1bT"
      },
      "execution_count": null,
      "outputs": []
    },
    {
      "cell_type": "code",
      "source": [
        "tmp1 = df.loc[dates]\n",
        "for name in names:\n",
        "  df_sym = tmp1[tmp1['Name'] == name]\n",
        "  df_tmp = pd.DataFrame(data=df_sym['Close'].to_numpy(), \\\n",
        "                        index=df_sym.index, columns=[name])\n",
        "  close_prices = close_prices.join(df_tmp) #left join by default"
      ],
      "metadata": {
        "id": "ZNpgyXIzR7Uh"
      },
      "execution_count": null,
      "outputs": []
    },
    {
      "cell_type": "code",
      "source": [
        "close_prices.head()"
      ],
      "metadata": {
        "colab": {
          "base_uri": "https://localhost:8080/",
          "height": 237
        },
        "id": "C_Y1p1weSwG_",
        "outputId": "8c6981eb-c652-43be-e128-8d5d436a6097"
      },
      "execution_count": null,
      "outputs": [
        {
          "output_type": "execute_result",
          "data": {
            "text/plain": [
              "                  GOOG       SBUX  KISS        NEM\n",
              "Date                                              \n",
              "2014-01-02  554.481689  38.584999   NaN  23.959999\n",
              "2014-01-03  550.436829  38.474998   NaN  23.920000\n",
              "2014-01-06  556.573853  38.084999   NaN  24.080000\n",
              "2014-01-07  567.303589  38.605000   NaN  23.950001\n",
              "2014-01-08  568.484192  39.014999   NaN  23.400000"
            ],
            "text/html": [
              "\n",
              "  <div id=\"df-d4735731-47fd-442b-83f9-5b2f3d73036c\" class=\"colab-df-container\">\n",
              "    <div>\n",
              "<style scoped>\n",
              "    .dataframe tbody tr th:only-of-type {\n",
              "        vertical-align: middle;\n",
              "    }\n",
              "\n",
              "    .dataframe tbody tr th {\n",
              "        vertical-align: top;\n",
              "    }\n",
              "\n",
              "    .dataframe thead th {\n",
              "        text-align: right;\n",
              "    }\n",
              "</style>\n",
              "<table border=\"1\" class=\"dataframe\">\n",
              "  <thead>\n",
              "    <tr style=\"text-align: right;\">\n",
              "      <th></th>\n",
              "      <th>GOOG</th>\n",
              "      <th>SBUX</th>\n",
              "      <th>KISS</th>\n",
              "      <th>NEM</th>\n",
              "    </tr>\n",
              "    <tr>\n",
              "      <th>Date</th>\n",
              "      <th></th>\n",
              "      <th></th>\n",
              "      <th></th>\n",
              "      <th></th>\n",
              "    </tr>\n",
              "  </thead>\n",
              "  <tbody>\n",
              "    <tr>\n",
              "      <th>2014-01-02</th>\n",
              "      <td>554.481689</td>\n",
              "      <td>38.584999</td>\n",
              "      <td>NaN</td>\n",
              "      <td>23.959999</td>\n",
              "    </tr>\n",
              "    <tr>\n",
              "      <th>2014-01-03</th>\n",
              "      <td>550.436829</td>\n",
              "      <td>38.474998</td>\n",
              "      <td>NaN</td>\n",
              "      <td>23.920000</td>\n",
              "    </tr>\n",
              "    <tr>\n",
              "      <th>2014-01-06</th>\n",
              "      <td>556.573853</td>\n",
              "      <td>38.084999</td>\n",
              "      <td>NaN</td>\n",
              "      <td>24.080000</td>\n",
              "    </tr>\n",
              "    <tr>\n",
              "      <th>2014-01-07</th>\n",
              "      <td>567.303589</td>\n",
              "      <td>38.605000</td>\n",
              "      <td>NaN</td>\n",
              "      <td>23.950001</td>\n",
              "    </tr>\n",
              "    <tr>\n",
              "      <th>2014-01-08</th>\n",
              "      <td>568.484192</td>\n",
              "      <td>39.014999</td>\n",
              "      <td>NaN</td>\n",
              "      <td>23.400000</td>\n",
              "    </tr>\n",
              "  </tbody>\n",
              "</table>\n",
              "</div>\n",
              "    <div class=\"colab-df-buttons\">\n",
              "\n",
              "  <div class=\"colab-df-container\">\n",
              "    <button class=\"colab-df-convert\" onclick=\"convertToInteractive('df-d4735731-47fd-442b-83f9-5b2f3d73036c')\"\n",
              "            title=\"Convert this dataframe to an interactive table.\"\n",
              "            style=\"display:none;\">\n",
              "\n",
              "  <svg xmlns=\"http://www.w3.org/2000/svg\" height=\"24px\" viewBox=\"0 -960 960 960\">\n",
              "    <path d=\"M120-120v-720h720v720H120Zm60-500h600v-160H180v160Zm220 220h160v-160H400v160Zm0 220h160v-160H400v160ZM180-400h160v-160H180v160Zm440 0h160v-160H620v160ZM180-180h160v-160H180v160Zm440 0h160v-160H620v160Z\"/>\n",
              "  </svg>\n",
              "    </button>\n",
              "\n",
              "  <style>\n",
              "    .colab-df-container {\n",
              "      display:flex;\n",
              "      gap: 12px;\n",
              "    }\n",
              "\n",
              "    .colab-df-convert {\n",
              "      background-color: #E8F0FE;\n",
              "      border: none;\n",
              "      border-radius: 50%;\n",
              "      cursor: pointer;\n",
              "      display: none;\n",
              "      fill: #1967D2;\n",
              "      height: 32px;\n",
              "      padding: 0 0 0 0;\n",
              "      width: 32px;\n",
              "    }\n",
              "\n",
              "    .colab-df-convert:hover {\n",
              "      background-color: #E2EBFA;\n",
              "      box-shadow: 0px 1px 2px rgba(60, 64, 67, 0.3), 0px 1px 3px 1px rgba(60, 64, 67, 0.15);\n",
              "      fill: #174EA6;\n",
              "    }\n",
              "\n",
              "    .colab-df-buttons div {\n",
              "      margin-bottom: 4px;\n",
              "    }\n",
              "\n",
              "    [theme=dark] .colab-df-convert {\n",
              "      background-color: #3B4455;\n",
              "      fill: #D2E3FC;\n",
              "    }\n",
              "\n",
              "    [theme=dark] .colab-df-convert:hover {\n",
              "      background-color: #434B5C;\n",
              "      box-shadow: 0px 1px 3px 1px rgba(0, 0, 0, 0.15);\n",
              "      filter: drop-shadow(0px 1px 2px rgba(0, 0, 0, 0.3));\n",
              "      fill: #FFFFFF;\n",
              "    }\n",
              "  </style>\n",
              "\n",
              "    <script>\n",
              "      const buttonEl =\n",
              "        document.querySelector('#df-d4735731-47fd-442b-83f9-5b2f3d73036c button.colab-df-convert');\n",
              "      buttonEl.style.display =\n",
              "        google.colab.kernel.accessAllowed ? 'block' : 'none';\n",
              "\n",
              "      async function convertToInteractive(key) {\n",
              "        const element = document.querySelector('#df-d4735731-47fd-442b-83f9-5b2f3d73036c');\n",
              "        const dataTable =\n",
              "          await google.colab.kernel.invokeFunction('convertToInteractive',\n",
              "                                                    [key], {});\n",
              "        if (!dataTable) return;\n",
              "\n",
              "        const docLinkHtml = 'Like what you see? Visit the ' +\n",
              "          '<a target=\"_blank\" href=https://colab.research.google.com/notebooks/data_table.ipynb>data table notebook</a>'\n",
              "          + ' to learn more about interactive tables.';\n",
              "        element.innerHTML = '';\n",
              "        dataTable['output_type'] = 'display_data';\n",
              "        await google.colab.output.renderOutput(dataTable, element);\n",
              "        const docLink = document.createElement('div');\n",
              "        docLink.innerHTML = docLinkHtml;\n",
              "        element.appendChild(docLink);\n",
              "      }\n",
              "    </script>\n",
              "  </div>\n",
              "\n",
              "\n",
              "<div id=\"df-afc71876-4dc8-46aa-8a26-5e4b39a303d9\">\n",
              "  <button class=\"colab-df-quickchart\" onclick=\"quickchart('df-afc71876-4dc8-46aa-8a26-5e4b39a303d9')\"\n",
              "            title=\"Suggest charts\"\n",
              "            style=\"display:none;\">\n",
              "\n",
              "<svg xmlns=\"http://www.w3.org/2000/svg\" height=\"24px\"viewBox=\"0 0 24 24\"\n",
              "     width=\"24px\">\n",
              "    <g>\n",
              "        <path d=\"M19 3H5c-1.1 0-2 .9-2 2v14c0 1.1.9 2 2 2h14c1.1 0 2-.9 2-2V5c0-1.1-.9-2-2-2zM9 17H7v-7h2v7zm4 0h-2V7h2v10zm4 0h-2v-4h2v4z\"/>\n",
              "    </g>\n",
              "</svg>\n",
              "  </button>\n",
              "\n",
              "<style>\n",
              "  .colab-df-quickchart {\n",
              "      --bg-color: #E8F0FE;\n",
              "      --fill-color: #1967D2;\n",
              "      --hover-bg-color: #E2EBFA;\n",
              "      --hover-fill-color: #174EA6;\n",
              "      --disabled-fill-color: #AAA;\n",
              "      --disabled-bg-color: #DDD;\n",
              "  }\n",
              "\n",
              "  [theme=dark] .colab-df-quickchart {\n",
              "      --bg-color: #3B4455;\n",
              "      --fill-color: #D2E3FC;\n",
              "      --hover-bg-color: #434B5C;\n",
              "      --hover-fill-color: #FFFFFF;\n",
              "      --disabled-bg-color: #3B4455;\n",
              "      --disabled-fill-color: #666;\n",
              "  }\n",
              "\n",
              "  .colab-df-quickchart {\n",
              "    background-color: var(--bg-color);\n",
              "    border: none;\n",
              "    border-radius: 50%;\n",
              "    cursor: pointer;\n",
              "    display: none;\n",
              "    fill: var(--fill-color);\n",
              "    height: 32px;\n",
              "    padding: 0;\n",
              "    width: 32px;\n",
              "  }\n",
              "\n",
              "  .colab-df-quickchart:hover {\n",
              "    background-color: var(--hover-bg-color);\n",
              "    box-shadow: 0 1px 2px rgba(60, 64, 67, 0.3), 0 1px 3px 1px rgba(60, 64, 67, 0.15);\n",
              "    fill: var(--button-hover-fill-color);\n",
              "  }\n",
              "\n",
              "  .colab-df-quickchart-complete:disabled,\n",
              "  .colab-df-quickchart-complete:disabled:hover {\n",
              "    background-color: var(--disabled-bg-color);\n",
              "    fill: var(--disabled-fill-color);\n",
              "    box-shadow: none;\n",
              "  }\n",
              "\n",
              "  .colab-df-spinner {\n",
              "    border: 2px solid var(--fill-color);\n",
              "    border-color: transparent;\n",
              "    border-bottom-color: var(--fill-color);\n",
              "    animation:\n",
              "      spin 1s steps(1) infinite;\n",
              "  }\n",
              "\n",
              "  @keyframes spin {\n",
              "    0% {\n",
              "      border-color: transparent;\n",
              "      border-bottom-color: var(--fill-color);\n",
              "      border-left-color: var(--fill-color);\n",
              "    }\n",
              "    20% {\n",
              "      border-color: transparent;\n",
              "      border-left-color: var(--fill-color);\n",
              "      border-top-color: var(--fill-color);\n",
              "    }\n",
              "    30% {\n",
              "      border-color: transparent;\n",
              "      border-left-color: var(--fill-color);\n",
              "      border-top-color: var(--fill-color);\n",
              "      border-right-color: var(--fill-color);\n",
              "    }\n",
              "    40% {\n",
              "      border-color: transparent;\n",
              "      border-right-color: var(--fill-color);\n",
              "      border-top-color: var(--fill-color);\n",
              "    }\n",
              "    60% {\n",
              "      border-color: transparent;\n",
              "      border-right-color: var(--fill-color);\n",
              "    }\n",
              "    80% {\n",
              "      border-color: transparent;\n",
              "      border-right-color: var(--fill-color);\n",
              "      border-bottom-color: var(--fill-color);\n",
              "    }\n",
              "    90% {\n",
              "      border-color: transparent;\n",
              "      border-bottom-color: var(--fill-color);\n",
              "    }\n",
              "  }\n",
              "</style>\n",
              "\n",
              "  <script>\n",
              "    async function quickchart(key) {\n",
              "      const quickchartButtonEl =\n",
              "        document.querySelector('#' + key + ' button');\n",
              "      quickchartButtonEl.disabled = true;  // To prevent multiple clicks.\n",
              "      quickchartButtonEl.classList.add('colab-df-spinner');\n",
              "      try {\n",
              "        const charts = await google.colab.kernel.invokeFunction(\n",
              "            'suggestCharts', [key], {});\n",
              "      } catch (error) {\n",
              "        console.error('Error during call to suggestCharts:', error);\n",
              "      }\n",
              "      quickchartButtonEl.classList.remove('colab-df-spinner');\n",
              "      quickchartButtonEl.classList.add('colab-df-quickchart-complete');\n",
              "    }\n",
              "    (() => {\n",
              "      let quickchartButtonEl =\n",
              "        document.querySelector('#df-afc71876-4dc8-46aa-8a26-5e4b39a303d9 button');\n",
              "      quickchartButtonEl.style.display =\n",
              "        google.colab.kernel.accessAllowed ? 'block' : 'none';\n",
              "    })();\n",
              "  </script>\n",
              "</div>\n",
              "\n",
              "    </div>\n",
              "  </div>\n"
            ],
            "application/vnd.google.colaboratory.intrinsic+json": {
              "type": "dataframe",
              "variable_name": "close_prices",
              "summary": "{\n  \"name\": \"close_prices\",\n  \"rows\": 124,\n  \"fields\": [\n    {\n      \"column\": \"Date\",\n      \"properties\": {\n        \"dtype\": \"date\",\n        \"min\": \"2014-01-02 00:00:00\",\n        \"max\": \"2014-06-30 00:00:00\",\n        \"num_unique_values\": 124,\n        \"samples\": [\n          \"2014-01-29 00:00:00\",\n          \"2014-03-05 00:00:00\",\n          \"2014-02-25 00:00:00\"\n        ],\n        \"semantic_type\": \"\",\n        \"description\": \"\"\n      }\n    },\n    {\n      \"column\": \"GOOG\",\n      \"properties\": {\n        \"dtype\": \"number\",\n        \"std\": 27.070691774071843,\n        \"min\": 508.5637512207031,\n        \"max\": 607.8067626953125,\n        \"num_unique_values\": 123,\n        \"samples\": [\n          551.3932495117189,\n          603.5228271484375,\n          601.3958129882812\n        ],\n        \"semantic_type\": \"\",\n        \"description\": \"\"\n      }\n    },\n    {\n      \"column\": \"SBUX\",\n      \"properties\": {\n        \"dtype\": \"number\",\n        \"std\": 1.2171043663056051,\n        \"min\": 34.365001678466804,\n        \"max\": 39.060001373291016,\n        \"num_unique_values\": 115,\n        \"samples\": [\n          35.459999084472656,\n          39.01499938964844,\n          35.83000183105469\n        ],\n        \"semantic_type\": \"\",\n        \"description\": \"\"\n      }\n    },\n    {\n      \"column\": \"KISS\",\n      \"properties\": {\n        \"dtype\": \"number\",\n        \"std\": null,\n        \"min\": null,\n        \"max\": null,\n        \"num_unique_values\": 0,\n        \"samples\": [],\n        \"semantic_type\": \"\",\n        \"description\": \"\"\n      }\n    },\n    {\n      \"column\": \"NEM\",\n      \"properties\": {\n        \"dtype\": \"number\",\n        \"std\": 1.0360224659369717,\n        \"min\": 20.8700008392334,\n        \"max\": 26.45000076293945,\n        \"num_unique_values\": 110,\n        \"samples\": [],\n        \"semantic_type\": \"\",\n        \"description\": \"\"\n      }\n    }\n  ]\n}"
            }
          },
          "metadata": {},
          "execution_count": 18
        }
      ]
    },
    {
      "cell_type": "code",
      "source": [
        "close_prices.isna().sum().sum()"
      ],
      "metadata": {
        "colab": {
          "base_uri": "https://localhost:8080/"
        },
        "id": "9P8v26XTSzfJ",
        "outputId": "bcc522c3-48d7-4647-872b-a1dc5af9df7a"
      },
      "execution_count": null,
      "outputs": [
        {
          "output_type": "execute_result",
          "data": {
            "text/plain": [
              "124"
            ]
          },
          "metadata": {},
          "execution_count": 19
        }
      ]
    },
    {
      "cell_type": "code",
      "source": [
        "close_prices.fillna(method='ffill', inplace=True)"
      ],
      "metadata": {
        "id": "CX7VSrJuS9tb"
      },
      "execution_count": null,
      "outputs": []
    },
    {
      "cell_type": "code",
      "source": [
        "close_prices.isna().sum().sum()"
      ],
      "metadata": {
        "colab": {
          "base_uri": "https://localhost:8080/"
        },
        "id": "0SKcFZKwTJl_",
        "outputId": "488f3e91-9ba1-42fb-8dce-6faec8806414"
      },
      "execution_count": null,
      "outputs": [
        {
          "output_type": "execute_result",
          "data": {
            "text/plain": [
              "124"
            ]
          },
          "metadata": {},
          "execution_count": 21
        }
      ]
    },
    {
      "cell_type": "code",
      "source": [
        "#empty data frame\n",
        "returns = pd.DataFrame(index=dates[1:])"
      ],
      "metadata": {
        "id": "RvPENkIuTPWB"
      },
      "execution_count": null,
      "outputs": []
    },
    {
      "cell_type": "code",
      "source": [
        "for name in names:\n",
        "  current_returns = close_prices[name].pct_change()\n",
        "  returns[name] = current_returns.iloc[1:] * 100"
      ],
      "metadata": {
        "id": "o-wlehYoTbES"
      },
      "execution_count": null,
      "outputs": []
    },
    {
      "cell_type": "code",
      "source": [
        "returns.head()"
      ],
      "metadata": {
        "colab": {
          "base_uri": "https://localhost:8080/",
          "height": 237
        },
        "id": "uU28vhQjT3Gq",
        "outputId": "5f461c53-ae73-43bb-fd03-546890181b03"
      },
      "execution_count": null,
      "outputs": [
        {
          "output_type": "execute_result",
          "data": {
            "text/plain": [
              "                GOOG      SBUX  KISS       NEM\n",
              "Date                                          \n",
              "2014-01-03 -0.729485 -0.285086   NaN -0.166941\n",
              "2014-01-06  1.114937 -1.013644   NaN  0.668896\n",
              "2014-01-07  1.927819  1.365368   NaN -0.539864\n",
              "2014-01-08  0.208108  1.062038   NaN -2.296456\n",
              "2014-01-09 -0.962997 -0.551071   NaN -0.854696"
            ],
            "text/html": [
              "\n",
              "  <div id=\"df-ade9bd50-772b-47b0-8865-ef1b56dd185d\" class=\"colab-df-container\">\n",
              "    <div>\n",
              "<style scoped>\n",
              "    .dataframe tbody tr th:only-of-type {\n",
              "        vertical-align: middle;\n",
              "    }\n",
              "\n",
              "    .dataframe tbody tr th {\n",
              "        vertical-align: top;\n",
              "    }\n",
              "\n",
              "    .dataframe thead th {\n",
              "        text-align: right;\n",
              "    }\n",
              "</style>\n",
              "<table border=\"1\" class=\"dataframe\">\n",
              "  <thead>\n",
              "    <tr style=\"text-align: right;\">\n",
              "      <th></th>\n",
              "      <th>GOOG</th>\n",
              "      <th>SBUX</th>\n",
              "      <th>KISS</th>\n",
              "      <th>NEM</th>\n",
              "    </tr>\n",
              "    <tr>\n",
              "      <th>Date</th>\n",
              "      <th></th>\n",
              "      <th></th>\n",
              "      <th></th>\n",
              "      <th></th>\n",
              "    </tr>\n",
              "  </thead>\n",
              "  <tbody>\n",
              "    <tr>\n",
              "      <th>2014-01-03</th>\n",
              "      <td>-0.729485</td>\n",
              "      <td>-0.285086</td>\n",
              "      <td>NaN</td>\n",
              "      <td>-0.166941</td>\n",
              "    </tr>\n",
              "    <tr>\n",
              "      <th>2014-01-06</th>\n",
              "      <td>1.114937</td>\n",
              "      <td>-1.013644</td>\n",
              "      <td>NaN</td>\n",
              "      <td>0.668896</td>\n",
              "    </tr>\n",
              "    <tr>\n",
              "      <th>2014-01-07</th>\n",
              "      <td>1.927819</td>\n",
              "      <td>1.365368</td>\n",
              "      <td>NaN</td>\n",
              "      <td>-0.539864</td>\n",
              "    </tr>\n",
              "    <tr>\n",
              "      <th>2014-01-08</th>\n",
              "      <td>0.208108</td>\n",
              "      <td>1.062038</td>\n",
              "      <td>NaN</td>\n",
              "      <td>-2.296456</td>\n",
              "    </tr>\n",
              "    <tr>\n",
              "      <th>2014-01-09</th>\n",
              "      <td>-0.962997</td>\n",
              "      <td>-0.551071</td>\n",
              "      <td>NaN</td>\n",
              "      <td>-0.854696</td>\n",
              "    </tr>\n",
              "  </tbody>\n",
              "</table>\n",
              "</div>\n",
              "    <div class=\"colab-df-buttons\">\n",
              "\n",
              "  <div class=\"colab-df-container\">\n",
              "    <button class=\"colab-df-convert\" onclick=\"convertToInteractive('df-ade9bd50-772b-47b0-8865-ef1b56dd185d')\"\n",
              "            title=\"Convert this dataframe to an interactive table.\"\n",
              "            style=\"display:none;\">\n",
              "\n",
              "  <svg xmlns=\"http://www.w3.org/2000/svg\" height=\"24px\" viewBox=\"0 -960 960 960\">\n",
              "    <path d=\"M120-120v-720h720v720H120Zm60-500h600v-160H180v160Zm220 220h160v-160H400v160Zm0 220h160v-160H400v160ZM180-400h160v-160H180v160Zm440 0h160v-160H620v160ZM180-180h160v-160H180v160Zm440 0h160v-160H620v160Z\"/>\n",
              "  </svg>\n",
              "    </button>\n",
              "\n",
              "  <style>\n",
              "    .colab-df-container {\n",
              "      display:flex;\n",
              "      gap: 12px;\n",
              "    }\n",
              "\n",
              "    .colab-df-convert {\n",
              "      background-color: #E8F0FE;\n",
              "      border: none;\n",
              "      border-radius: 50%;\n",
              "      cursor: pointer;\n",
              "      display: none;\n",
              "      fill: #1967D2;\n",
              "      height: 32px;\n",
              "      padding: 0 0 0 0;\n",
              "      width: 32px;\n",
              "    }\n",
              "\n",
              "    .colab-df-convert:hover {\n",
              "      background-color: #E2EBFA;\n",
              "      box-shadow: 0px 1px 2px rgba(60, 64, 67, 0.3), 0px 1px 3px 1px rgba(60, 64, 67, 0.15);\n",
              "      fill: #174EA6;\n",
              "    }\n",
              "\n",
              "    .colab-df-buttons div {\n",
              "      margin-bottom: 4px;\n",
              "    }\n",
              "\n",
              "    [theme=dark] .colab-df-convert {\n",
              "      background-color: #3B4455;\n",
              "      fill: #D2E3FC;\n",
              "    }\n",
              "\n",
              "    [theme=dark] .colab-df-convert:hover {\n",
              "      background-color: #434B5C;\n",
              "      box-shadow: 0px 1px 3px 1px rgba(0, 0, 0, 0.15);\n",
              "      filter: drop-shadow(0px 1px 2px rgba(0, 0, 0, 0.3));\n",
              "      fill: #FFFFFF;\n",
              "    }\n",
              "  </style>\n",
              "\n",
              "    <script>\n",
              "      const buttonEl =\n",
              "        document.querySelector('#df-ade9bd50-772b-47b0-8865-ef1b56dd185d button.colab-df-convert');\n",
              "      buttonEl.style.display =\n",
              "        google.colab.kernel.accessAllowed ? 'block' : 'none';\n",
              "\n",
              "      async function convertToInteractive(key) {\n",
              "        const element = document.querySelector('#df-ade9bd50-772b-47b0-8865-ef1b56dd185d');\n",
              "        const dataTable =\n",
              "          await google.colab.kernel.invokeFunction('convertToInteractive',\n",
              "                                                    [key], {});\n",
              "        if (!dataTable) return;\n",
              "\n",
              "        const docLinkHtml = 'Like what you see? Visit the ' +\n",
              "          '<a target=\"_blank\" href=https://colab.research.google.com/notebooks/data_table.ipynb>data table notebook</a>'\n",
              "          + ' to learn more about interactive tables.';\n",
              "        element.innerHTML = '';\n",
              "        dataTable['output_type'] = 'display_data';\n",
              "        await google.colab.output.renderOutput(dataTable, element);\n",
              "        const docLink = document.createElement('div');\n",
              "        docLink.innerHTML = docLinkHtml;\n",
              "        element.appendChild(docLink);\n",
              "      }\n",
              "    </script>\n",
              "  </div>\n",
              "\n",
              "\n",
              "<div id=\"df-4d746a2c-845b-45f7-ba48-f067613888af\">\n",
              "  <button class=\"colab-df-quickchart\" onclick=\"quickchart('df-4d746a2c-845b-45f7-ba48-f067613888af')\"\n",
              "            title=\"Suggest charts\"\n",
              "            style=\"display:none;\">\n",
              "\n",
              "<svg xmlns=\"http://www.w3.org/2000/svg\" height=\"24px\"viewBox=\"0 0 24 24\"\n",
              "     width=\"24px\">\n",
              "    <g>\n",
              "        <path d=\"M19 3H5c-1.1 0-2 .9-2 2v14c0 1.1.9 2 2 2h14c1.1 0 2-.9 2-2V5c0-1.1-.9-2-2-2zM9 17H7v-7h2v7zm4 0h-2V7h2v10zm4 0h-2v-4h2v4z\"/>\n",
              "    </g>\n",
              "</svg>\n",
              "  </button>\n",
              "\n",
              "<style>\n",
              "  .colab-df-quickchart {\n",
              "      --bg-color: #E8F0FE;\n",
              "      --fill-color: #1967D2;\n",
              "      --hover-bg-color: #E2EBFA;\n",
              "      --hover-fill-color: #174EA6;\n",
              "      --disabled-fill-color: #AAA;\n",
              "      --disabled-bg-color: #DDD;\n",
              "  }\n",
              "\n",
              "  [theme=dark] .colab-df-quickchart {\n",
              "      --bg-color: #3B4455;\n",
              "      --fill-color: #D2E3FC;\n",
              "      --hover-bg-color: #434B5C;\n",
              "      --hover-fill-color: #FFFFFF;\n",
              "      --disabled-bg-color: #3B4455;\n",
              "      --disabled-fill-color: #666;\n",
              "  }\n",
              "\n",
              "  .colab-df-quickchart {\n",
              "    background-color: var(--bg-color);\n",
              "    border: none;\n",
              "    border-radius: 50%;\n",
              "    cursor: pointer;\n",
              "    display: none;\n",
              "    fill: var(--fill-color);\n",
              "    height: 32px;\n",
              "    padding: 0;\n",
              "    width: 32px;\n",
              "  }\n",
              "\n",
              "  .colab-df-quickchart:hover {\n",
              "    background-color: var(--hover-bg-color);\n",
              "    box-shadow: 0 1px 2px rgba(60, 64, 67, 0.3), 0 1px 3px 1px rgba(60, 64, 67, 0.15);\n",
              "    fill: var(--button-hover-fill-color);\n",
              "  }\n",
              "\n",
              "  .colab-df-quickchart-complete:disabled,\n",
              "  .colab-df-quickchart-complete:disabled:hover {\n",
              "    background-color: var(--disabled-bg-color);\n",
              "    fill: var(--disabled-fill-color);\n",
              "    box-shadow: none;\n",
              "  }\n",
              "\n",
              "  .colab-df-spinner {\n",
              "    border: 2px solid var(--fill-color);\n",
              "    border-color: transparent;\n",
              "    border-bottom-color: var(--fill-color);\n",
              "    animation:\n",
              "      spin 1s steps(1) infinite;\n",
              "  }\n",
              "\n",
              "  @keyframes spin {\n",
              "    0% {\n",
              "      border-color: transparent;\n",
              "      border-bottom-color: var(--fill-color);\n",
              "      border-left-color: var(--fill-color);\n",
              "    }\n",
              "    20% {\n",
              "      border-color: transparent;\n",
              "      border-left-color: var(--fill-color);\n",
              "      border-top-color: var(--fill-color);\n",
              "    }\n",
              "    30% {\n",
              "      border-color: transparent;\n",
              "      border-left-color: var(--fill-color);\n",
              "      border-top-color: var(--fill-color);\n",
              "      border-right-color: var(--fill-color);\n",
              "    }\n",
              "    40% {\n",
              "      border-color: transparent;\n",
              "      border-right-color: var(--fill-color);\n",
              "      border-top-color: var(--fill-color);\n",
              "    }\n",
              "    60% {\n",
              "      border-color: transparent;\n",
              "      border-right-color: var(--fill-color);\n",
              "    }\n",
              "    80% {\n",
              "      border-color: transparent;\n",
              "      border-right-color: var(--fill-color);\n",
              "      border-bottom-color: var(--fill-color);\n",
              "    }\n",
              "    90% {\n",
              "      border-color: transparent;\n",
              "      border-bottom-color: var(--fill-color);\n",
              "    }\n",
              "  }\n",
              "</style>\n",
              "\n",
              "  <script>\n",
              "    async function quickchart(key) {\n",
              "      const quickchartButtonEl =\n",
              "        document.querySelector('#' + key + ' button');\n",
              "      quickchartButtonEl.disabled = true;  // To prevent multiple clicks.\n",
              "      quickchartButtonEl.classList.add('colab-df-spinner');\n",
              "      try {\n",
              "        const charts = await google.colab.kernel.invokeFunction(\n",
              "            'suggestCharts', [key], {});\n",
              "      } catch (error) {\n",
              "        console.error('Error during call to suggestCharts:', error);\n",
              "      }\n",
              "      quickchartButtonEl.classList.remove('colab-df-spinner');\n",
              "      quickchartButtonEl.classList.add('colab-df-quickchart-complete');\n",
              "    }\n",
              "    (() => {\n",
              "      let quickchartButtonEl =\n",
              "        document.querySelector('#df-4d746a2c-845b-45f7-ba48-f067613888af button');\n",
              "      quickchartButtonEl.style.display =\n",
              "        google.colab.kernel.accessAllowed ? 'block' : 'none';\n",
              "    })();\n",
              "  </script>\n",
              "</div>\n",
              "\n",
              "    </div>\n",
              "  </div>\n"
            ],
            "application/vnd.google.colaboratory.intrinsic+json": {
              "type": "dataframe",
              "variable_name": "returns",
              "summary": "{\n  \"name\": \"returns\",\n  \"rows\": 123,\n  \"fields\": [\n    {\n      \"column\": \"Date\",\n      \"properties\": {\n        \"dtype\": \"date\",\n        \"min\": \"2014-01-03 00:00:00\",\n        \"max\": \"2014-06-30 00:00:00\",\n        \"num_unique_values\": 123,\n        \"samples\": [\n          \"2014-01-30 00:00:00\",\n          \"2014-03-11 00:00:00\",\n          \"2014-03-13 00:00:00\"\n        ],\n        \"semantic_type\": \"\",\n        \"description\": \"\"\n      }\n    },\n    {\n      \"column\": \"GOOG\",\n      \"properties\": {\n        \"dtype\": \"number\",\n        \"std\": 1.4854510354905268,\n        \"min\": -4.668794772233786,\n        \"max\": 4.014479437605756,\n        \"num_unique_values\": 123,\n        \"samples\": [\n          2.571998069078152,\n          -0.9557834969202483,\n          -1.510808240392092\n        ],\n        \"semantic_type\": \"\",\n        \"description\": \"\"\n      }\n    },\n    {\n      \"column\": \"SBUX\",\n      \"properties\": {\n        \"dtype\": \"number\",\n        \"std\": 1.2483614652170756,\n        \"min\": -3.2831150797977493,\n        \"max\": 2.7580222713202707,\n        \"num_unique_values\": 123,\n        \"samples\": [\n          0.4891086018121271,\n          1.9983704044201245,\n          -1.5866679780792148\n        ],\n        \"semantic_type\": \"\",\n        \"description\": \"\"\n      }\n    },\n    {\n      \"column\": \"KISS\",\n      \"properties\": {\n        \"dtype\": \"number\",\n        \"std\": null,\n        \"min\": null,\n        \"max\": null,\n        \"num_unique_values\": 0,\n        \"samples\": [],\n        \"semantic_type\": \"\",\n        \"description\": \"\"\n      }\n    },\n    {\n      \"column\": \"NEM\",\n      \"properties\": {\n        \"dtype\": \"number\",\n        \"std\": 2.194334508075734,\n        \"min\": -10.373443819205209,\n        \"max\": 6.414606044204474,\n        \"num_unique_values\": 123,\n        \"samples\": [],\n        \"semantic_type\": \"\",\n        \"description\": \"\"\n      }\n    }\n  ]\n}"
            }
          },
          "metadata": {},
          "execution_count": 24
        }
      ]
    },
    {
      "cell_type": "code",
      "source": [
        "mean_return = returns.mean()\n",
        "mean_return"
      ],
      "metadata": {
        "colab": {
          "base_uri": "https://localhost:8080/"
        },
        "id": "Bn6ZTN_fT5fj",
        "outputId": "574912c3-cbfb-43f0-b5eb-a31a1babb097"
      },
      "execution_count": null,
      "outputs": [
        {
          "output_type": "execute_result",
          "data": {
            "text/plain": [
              "GOOG    0.038691\n",
              "SBUX    0.009955\n",
              "KISS         NaN\n",
              "NEM     0.072932\n",
              "dtype: float64"
            ]
          },
          "metadata": {},
          "execution_count": 25
        }
      ]
    },
    {
      "cell_type": "code",
      "source": [
        "cov = returns.cov()\n",
        "cov"
      ],
      "metadata": {
        "colab": {
          "base_uri": "https://localhost:8080/",
          "height": 174
        },
        "id": "dITAEv-bUCf9",
        "outputId": "0386d031-9d95-46a5-f1a9-266eb32e127f"
      },
      "execution_count": null,
      "outputs": [
        {
          "output_type": "execute_result",
          "data": {
            "text/plain": [
              "          GOOG      SBUX  KISS       NEM\n",
              "GOOG  2.206565  0.832469   NaN -0.033600\n",
              "SBUX  0.832469  1.558406   NaN  0.374448\n",
              "KISS       NaN       NaN   NaN       NaN\n",
              "NEM  -0.033600  0.374448   NaN  4.815104"
            ],
            "text/html": [
              "\n",
              "  <div id=\"df-d3aa70c5-c11f-4d55-bd42-4458f99678df\" class=\"colab-df-container\">\n",
              "    <div>\n",
              "<style scoped>\n",
              "    .dataframe tbody tr th:only-of-type {\n",
              "        vertical-align: middle;\n",
              "    }\n",
              "\n",
              "    .dataframe tbody tr th {\n",
              "        vertical-align: top;\n",
              "    }\n",
              "\n",
              "    .dataframe thead th {\n",
              "        text-align: right;\n",
              "    }\n",
              "</style>\n",
              "<table border=\"1\" class=\"dataframe\">\n",
              "  <thead>\n",
              "    <tr style=\"text-align: right;\">\n",
              "      <th></th>\n",
              "      <th>GOOG</th>\n",
              "      <th>SBUX</th>\n",
              "      <th>KISS</th>\n",
              "      <th>NEM</th>\n",
              "    </tr>\n",
              "  </thead>\n",
              "  <tbody>\n",
              "    <tr>\n",
              "      <th>GOOG</th>\n",
              "      <td>2.206565</td>\n",
              "      <td>0.832469</td>\n",
              "      <td>NaN</td>\n",
              "      <td>-0.033600</td>\n",
              "    </tr>\n",
              "    <tr>\n",
              "      <th>SBUX</th>\n",
              "      <td>0.832469</td>\n",
              "      <td>1.558406</td>\n",
              "      <td>NaN</td>\n",
              "      <td>0.374448</td>\n",
              "    </tr>\n",
              "    <tr>\n",
              "      <th>KISS</th>\n",
              "      <td>NaN</td>\n",
              "      <td>NaN</td>\n",
              "      <td>NaN</td>\n",
              "      <td>NaN</td>\n",
              "    </tr>\n",
              "    <tr>\n",
              "      <th>NEM</th>\n",
              "      <td>-0.033600</td>\n",
              "      <td>0.374448</td>\n",
              "      <td>NaN</td>\n",
              "      <td>4.815104</td>\n",
              "    </tr>\n",
              "  </tbody>\n",
              "</table>\n",
              "</div>\n",
              "    <div class=\"colab-df-buttons\">\n",
              "\n",
              "  <div class=\"colab-df-container\">\n",
              "    <button class=\"colab-df-convert\" onclick=\"convertToInteractive('df-d3aa70c5-c11f-4d55-bd42-4458f99678df')\"\n",
              "            title=\"Convert this dataframe to an interactive table.\"\n",
              "            style=\"display:none;\">\n",
              "\n",
              "  <svg xmlns=\"http://www.w3.org/2000/svg\" height=\"24px\" viewBox=\"0 -960 960 960\">\n",
              "    <path d=\"M120-120v-720h720v720H120Zm60-500h600v-160H180v160Zm220 220h160v-160H400v160Zm0 220h160v-160H400v160ZM180-400h160v-160H180v160Zm440 0h160v-160H620v160ZM180-180h160v-160H180v160Zm440 0h160v-160H620v160Z\"/>\n",
              "  </svg>\n",
              "    </button>\n",
              "\n",
              "  <style>\n",
              "    .colab-df-container {\n",
              "      display:flex;\n",
              "      gap: 12px;\n",
              "    }\n",
              "\n",
              "    .colab-df-convert {\n",
              "      background-color: #E8F0FE;\n",
              "      border: none;\n",
              "      border-radius: 50%;\n",
              "      cursor: pointer;\n",
              "      display: none;\n",
              "      fill: #1967D2;\n",
              "      height: 32px;\n",
              "      padding: 0 0 0 0;\n",
              "      width: 32px;\n",
              "    }\n",
              "\n",
              "    .colab-df-convert:hover {\n",
              "      background-color: #E2EBFA;\n",
              "      box-shadow: 0px 1px 2px rgba(60, 64, 67, 0.3), 0px 1px 3px 1px rgba(60, 64, 67, 0.15);\n",
              "      fill: #174EA6;\n",
              "    }\n",
              "\n",
              "    .colab-df-buttons div {\n",
              "      margin-bottom: 4px;\n",
              "    }\n",
              "\n",
              "    [theme=dark] .colab-df-convert {\n",
              "      background-color: #3B4455;\n",
              "      fill: #D2E3FC;\n",
              "    }\n",
              "\n",
              "    [theme=dark] .colab-df-convert:hover {\n",
              "      background-color: #434B5C;\n",
              "      box-shadow: 0px 1px 3px 1px rgba(0, 0, 0, 0.15);\n",
              "      filter: drop-shadow(0px 1px 2px rgba(0, 0, 0, 0.3));\n",
              "      fill: #FFFFFF;\n",
              "    }\n",
              "  </style>\n",
              "\n",
              "    <script>\n",
              "      const buttonEl =\n",
              "        document.querySelector('#df-d3aa70c5-c11f-4d55-bd42-4458f99678df button.colab-df-convert');\n",
              "      buttonEl.style.display =\n",
              "        google.colab.kernel.accessAllowed ? 'block' : 'none';\n",
              "\n",
              "      async function convertToInteractive(key) {\n",
              "        const element = document.querySelector('#df-d3aa70c5-c11f-4d55-bd42-4458f99678df');\n",
              "        const dataTable =\n",
              "          await google.colab.kernel.invokeFunction('convertToInteractive',\n",
              "                                                    [key], {});\n",
              "        if (!dataTable) return;\n",
              "\n",
              "        const docLinkHtml = 'Like what you see? Visit the ' +\n",
              "          '<a target=\"_blank\" href=https://colab.research.google.com/notebooks/data_table.ipynb>data table notebook</a>'\n",
              "          + ' to learn more about interactive tables.';\n",
              "        element.innerHTML = '';\n",
              "        dataTable['output_type'] = 'display_data';\n",
              "        await google.colab.output.renderOutput(dataTable, element);\n",
              "        const docLink = document.createElement('div');\n",
              "        docLink.innerHTML = docLinkHtml;\n",
              "        element.appendChild(docLink);\n",
              "      }\n",
              "    </script>\n",
              "  </div>\n",
              "\n",
              "\n",
              "<div id=\"df-768c5869-357d-4e70-b6ba-53d09f3ae644\">\n",
              "  <button class=\"colab-df-quickchart\" onclick=\"quickchart('df-768c5869-357d-4e70-b6ba-53d09f3ae644')\"\n",
              "            title=\"Suggest charts\"\n",
              "            style=\"display:none;\">\n",
              "\n",
              "<svg xmlns=\"http://www.w3.org/2000/svg\" height=\"24px\"viewBox=\"0 0 24 24\"\n",
              "     width=\"24px\">\n",
              "    <g>\n",
              "        <path d=\"M19 3H5c-1.1 0-2 .9-2 2v14c0 1.1.9 2 2 2h14c1.1 0 2-.9 2-2V5c0-1.1-.9-2-2-2zM9 17H7v-7h2v7zm4 0h-2V7h2v10zm4 0h-2v-4h2v4z\"/>\n",
              "    </g>\n",
              "</svg>\n",
              "  </button>\n",
              "\n",
              "<style>\n",
              "  .colab-df-quickchart {\n",
              "      --bg-color: #E8F0FE;\n",
              "      --fill-color: #1967D2;\n",
              "      --hover-bg-color: #E2EBFA;\n",
              "      --hover-fill-color: #174EA6;\n",
              "      --disabled-fill-color: #AAA;\n",
              "      --disabled-bg-color: #DDD;\n",
              "  }\n",
              "\n",
              "  [theme=dark] .colab-df-quickchart {\n",
              "      --bg-color: #3B4455;\n",
              "      --fill-color: #D2E3FC;\n",
              "      --hover-bg-color: #434B5C;\n",
              "      --hover-fill-color: #FFFFFF;\n",
              "      --disabled-bg-color: #3B4455;\n",
              "      --disabled-fill-color: #666;\n",
              "  }\n",
              "\n",
              "  .colab-df-quickchart {\n",
              "    background-color: var(--bg-color);\n",
              "    border: none;\n",
              "    border-radius: 50%;\n",
              "    cursor: pointer;\n",
              "    display: none;\n",
              "    fill: var(--fill-color);\n",
              "    height: 32px;\n",
              "    padding: 0;\n",
              "    width: 32px;\n",
              "  }\n",
              "\n",
              "  .colab-df-quickchart:hover {\n",
              "    background-color: var(--hover-bg-color);\n",
              "    box-shadow: 0 1px 2px rgba(60, 64, 67, 0.3), 0 1px 3px 1px rgba(60, 64, 67, 0.15);\n",
              "    fill: var(--button-hover-fill-color);\n",
              "  }\n",
              "\n",
              "  .colab-df-quickchart-complete:disabled,\n",
              "  .colab-df-quickchart-complete:disabled:hover {\n",
              "    background-color: var(--disabled-bg-color);\n",
              "    fill: var(--disabled-fill-color);\n",
              "    box-shadow: none;\n",
              "  }\n",
              "\n",
              "  .colab-df-spinner {\n",
              "    border: 2px solid var(--fill-color);\n",
              "    border-color: transparent;\n",
              "    border-bottom-color: var(--fill-color);\n",
              "    animation:\n",
              "      spin 1s steps(1) infinite;\n",
              "  }\n",
              "\n",
              "  @keyframes spin {\n",
              "    0% {\n",
              "      border-color: transparent;\n",
              "      border-bottom-color: var(--fill-color);\n",
              "      border-left-color: var(--fill-color);\n",
              "    }\n",
              "    20% {\n",
              "      border-color: transparent;\n",
              "      border-left-color: var(--fill-color);\n",
              "      border-top-color: var(--fill-color);\n",
              "    }\n",
              "    30% {\n",
              "      border-color: transparent;\n",
              "      border-left-color: var(--fill-color);\n",
              "      border-top-color: var(--fill-color);\n",
              "      border-right-color: var(--fill-color);\n",
              "    }\n",
              "    40% {\n",
              "      border-color: transparent;\n",
              "      border-right-color: var(--fill-color);\n",
              "      border-top-color: var(--fill-color);\n",
              "    }\n",
              "    60% {\n",
              "      border-color: transparent;\n",
              "      border-right-color: var(--fill-color);\n",
              "    }\n",
              "    80% {\n",
              "      border-color: transparent;\n",
              "      border-right-color: var(--fill-color);\n",
              "      border-bottom-color: var(--fill-color);\n",
              "    }\n",
              "    90% {\n",
              "      border-color: transparent;\n",
              "      border-bottom-color: var(--fill-color);\n",
              "    }\n",
              "  }\n",
              "</style>\n",
              "\n",
              "  <script>\n",
              "    async function quickchart(key) {\n",
              "      const quickchartButtonEl =\n",
              "        document.querySelector('#' + key + ' button');\n",
              "      quickchartButtonEl.disabled = true;  // To prevent multiple clicks.\n",
              "      quickchartButtonEl.classList.add('colab-df-spinner');\n",
              "      try {\n",
              "        const charts = await google.colab.kernel.invokeFunction(\n",
              "            'suggestCharts', [key], {});\n",
              "      } catch (error) {\n",
              "        console.error('Error during call to suggestCharts:', error);\n",
              "      }\n",
              "      quickchartButtonEl.classList.remove('colab-df-spinner');\n",
              "      quickchartButtonEl.classList.add('colab-df-quickchart-complete');\n",
              "    }\n",
              "    (() => {\n",
              "      let quickchartButtonEl =\n",
              "        document.querySelector('#df-768c5869-357d-4e70-b6ba-53d09f3ae644 button');\n",
              "      quickchartButtonEl.style.display =\n",
              "        google.colab.kernel.accessAllowed ? 'block' : 'none';\n",
              "    })();\n",
              "  </script>\n",
              "</div>\n",
              "\n",
              "  <div id=\"id_0d16b834-f79d-4929-9065-c6213cfbf4e9\">\n",
              "    <style>\n",
              "      .colab-df-generate {\n",
              "        background-color: #E8F0FE;\n",
              "        border: none;\n",
              "        border-radius: 50%;\n",
              "        cursor: pointer;\n",
              "        display: none;\n",
              "        fill: #1967D2;\n",
              "        height: 32px;\n",
              "        padding: 0 0 0 0;\n",
              "        width: 32px;\n",
              "      }\n",
              "\n",
              "      .colab-df-generate:hover {\n",
              "        background-color: #E2EBFA;\n",
              "        box-shadow: 0px 1px 2px rgba(60, 64, 67, 0.3), 0px 1px 3px 1px rgba(60, 64, 67, 0.15);\n",
              "        fill: #174EA6;\n",
              "      }\n",
              "\n",
              "      [theme=dark] .colab-df-generate {\n",
              "        background-color: #3B4455;\n",
              "        fill: #D2E3FC;\n",
              "      }\n",
              "\n",
              "      [theme=dark] .colab-df-generate:hover {\n",
              "        background-color: #434B5C;\n",
              "        box-shadow: 0px 1px 3px 1px rgba(0, 0, 0, 0.15);\n",
              "        filter: drop-shadow(0px 1px 2px rgba(0, 0, 0, 0.3));\n",
              "        fill: #FFFFFF;\n",
              "      }\n",
              "    </style>\n",
              "    <button class=\"colab-df-generate\" onclick=\"generateWithVariable('cov')\"\n",
              "            title=\"Generate code using this dataframe.\"\n",
              "            style=\"display:none;\">\n",
              "\n",
              "  <svg xmlns=\"http://www.w3.org/2000/svg\" height=\"24px\"viewBox=\"0 0 24 24\"\n",
              "       width=\"24px\">\n",
              "    <path d=\"M7,19H8.4L18.45,9,17,7.55,7,17.6ZM5,21V16.75L18.45,3.32a2,2,0,0,1,2.83,0l1.4,1.43a1.91,1.91,0,0,1,.58,1.4,1.91,1.91,0,0,1-.58,1.4L9.25,21ZM18.45,9,17,7.55Zm-12,3A5.31,5.31,0,0,0,4.9,8.1,5.31,5.31,0,0,0,1,6.5,5.31,5.31,0,0,0,4.9,4.9,5.31,5.31,0,0,0,6.5,1,5.31,5.31,0,0,0,8.1,4.9,5.31,5.31,0,0,0,12,6.5,5.46,5.46,0,0,0,6.5,12Z\"/>\n",
              "  </svg>\n",
              "    </button>\n",
              "    <script>\n",
              "      (() => {\n",
              "      const buttonEl =\n",
              "        document.querySelector('#id_0d16b834-f79d-4929-9065-c6213cfbf4e9 button.colab-df-generate');\n",
              "      buttonEl.style.display =\n",
              "        google.colab.kernel.accessAllowed ? 'block' : 'none';\n",
              "\n",
              "      buttonEl.onclick = () => {\n",
              "        google.colab.notebook.generateWithVariable('cov');\n",
              "      }\n",
              "      })();\n",
              "    </script>\n",
              "  </div>\n",
              "\n",
              "    </div>\n",
              "  </div>\n"
            ],
            "application/vnd.google.colaboratory.intrinsic+json": {
              "type": "dataframe",
              "variable_name": "cov",
              "summary": "{\n  \"name\": \"cov\",\n  \"rows\": 4,\n  \"fields\": [\n    {\n      \"column\": \"GOOG\",\n      \"properties\": {\n        \"dtype\": \"number\",\n        \"std\": 1.1296426204322045,\n        \"min\": -0.033600280334163,\n        \"max\": 2.2065647788398786,\n        \"num_unique_values\": 3,\n        \"samples\": [\n          2.2065647788398786,\n          0.8324690007152388,\n          -0.033600280334163\n        ],\n        \"semantic_type\": \"\",\n        \"description\": \"\"\n      }\n    },\n    {\n      \"column\": \"SBUX\",\n      \"properties\": {\n        \"dtype\": \"number\",\n        \"std\": 0.5970099219137438,\n        \"min\": 0.37444816969822625,\n        \"max\": 1.5584063478389234,\n        \"num_unique_values\": 3,\n        \"samples\": [\n          0.8324690007152388,\n          1.5584063478389234,\n          0.37444816969822625\n        ],\n        \"semantic_type\": \"\",\n        \"description\": \"\"\n      }\n    },\n    {\n      \"column\": \"KISS\",\n      \"properties\": {\n        \"dtype\": \"number\",\n        \"std\": null,\n        \"min\": null,\n        \"max\": null,\n        \"num_unique_values\": 0,\n        \"samples\": [],\n        \"semantic_type\": \"\",\n        \"description\": \"\"\n      }\n    },\n    {\n      \"column\": \"NEM\",\n      \"properties\": {\n        \"dtype\": \"number\",\n        \"std\": 2.6893574108663723,\n        \"min\": -0.033600280334163,\n        \"max\": 4.815103933331977,\n        \"num_unique_values\": 3,\n        \"samples\": [],\n        \"semantic_type\": \"\",\n        \"description\": \"\"\n      }\n    }\n  ]\n}"
            }
          },
          "metadata": {},
          "execution_count": 26
        }
      ]
    },
    {
      "cell_type": "code",
      "source": [
        "cov_np = cov.to_numpy()\n",
        "cov_np"
      ],
      "metadata": {
        "colab": {
          "base_uri": "https://localhost:8080/"
        },
        "id": "xl9W_wH9UPUP",
        "outputId": "fad7ae0d-dcb5-4d70-d895-c241ae6b005c"
      },
      "execution_count": null,
      "outputs": [
        {
          "output_type": "execute_result",
          "data": {
            "text/plain": [
              "array([[ 2.20656478,  0.832469  ,         nan, -0.03360028],\n",
              "       [ 0.832469  ,  1.55840635,         nan,  0.37444817],\n",
              "       [        nan,         nan,         nan,         nan],\n",
              "       [-0.03360028,  0.37444817,         nan,  4.81510393]])"
            ]
          },
          "metadata": {},
          "execution_count": 27
        }
      ]
    },
    {
      "cell_type": "code",
      "source": [
        "N = 10000\n",
        "D = len(mean_return)\n",
        "returns = np.zeros(N)\n",
        "risks = np.zeros(N)\n",
        "random_weights = []\n",
        "for i in range(N):\n",
        "  rand_range = 1.0\n",
        "  w = np.random.random(D)*rand_range - rand_range / 2 #with short selling\n",
        "  w[-1] = 1 - w[:-1].sum()\n",
        "  np.random.shuffle(w)\n",
        "  random_weights.append(w)\n",
        "  ret = mean_return.dot(w)\n",
        "  risk = np.sqrt(w.dot(cov_np).dot(w))\n",
        "  returns[i] = ret\n",
        "  risks[i] = risk"
      ],
      "metadata": {
        "id": "LhBws0ilUYOk"
      },
      "execution_count": null,
      "outputs": []
    },
    {
      "cell_type": "code",
      "source": [
        "single_asset_returns = np.zeros(D)\n",
        "single_asset_risks = np.zeros(D)\n",
        "for i in range(D):\n",
        "  ret = mean_return[i]\n",
        "  risk = np.sqrt(cov_np[i,i])\n",
        "\n",
        "  single_asset_returns[i] = ret\n",
        "  single_asset_risks[i] = risk"
      ],
      "metadata": {
        "id": "6SJd-D37T-wS"
      },
      "execution_count": null,
      "outputs": []
    },
    {
      "cell_type": "code",
      "source": [
        "plt.scatter(risks, returns, alpha=0.1);\n",
        "plt.scatter(single_asset_risks, single_asset_returns, c='red');"
      ],
      "metadata": {
        "colab": {
          "base_uri": "https://localhost:8080/",
          "height": 430
        },
        "id": "UngBGQi6WMaj",
        "outputId": "58700e08-66a1-4c7f-a7e9-1821a5783d84"
      },
      "execution_count": null,
      "outputs": [
        {
          "output_type": "display_data",
          "data": {
            "text/plain": [
              "<Figure size 640x480 with 1 Axes>"
            ],
            "image/png": "[encoded data removed]"
          },
          "metadata": {}
        }
      ]
    },
    {
      "cell_type": "code",
      "source": [
        "for idx, val in cov['GOOG'].iteritems():\n",
        "  print(idx, val)"
      ],
      "metadata": {
        "colab": {
          "base_uri": "https://localhost:8080/"
        },
        "id": "nt5vplmYW6DW",
        "outputId": "139787b5-b3ef-4d9f-fad2-fc68c3f7cb66"
      },
      "execution_count": null,
      "outputs": [
        {
          "output_type": "stream",
          "name": "stdout",
          "text": [
            "GOOG 2.2065647788398786\n",
            "SBUX 0.8324690007152388\n",
            "KISS nan\n",
            "NEM -0.033600280334163\n"
          ]
        },
        {
          "output_type": "stream",
          "name": "stderr",
          "text": [
            "<ipython-input-31-71544aada479>:1: FutureWarning: iteritems is deprecated and will be removed in a future version. Use .items instead.\n",
            "  for idx, val in cov['GOOG'].iteritems():\n"
          ]
        }
      ]
    },
    {
      "cell_type": "code",
      "source": [
        "for idx, val in cov['GOOG'].items(): # .items to be used instead of iteritems\n",
        "  print(idx, val)"
      ],
      "metadata": {
        "colab": {
          "base_uri": "https://localhost:8080/"
        },
        "id": "CpRu9BXDXDhv",
        "outputId": "ad10e572-c575-4455-f72b-f7626ee905b4"
      },
      "execution_count": null,
      "outputs": [
        {
          "output_type": "stream",
          "name": "stdout",
          "text": [
            "GOOG 2.2065647788398786\n",
            "SBUX 0.8324690007152388\n",
            "KISS nan\n",
            "NEM -0.033600280334163\n"
          ]
        }
      ]
    },
    {
      "cell_type": "markdown",
      "source": [
        "# Max and Min Return"
      ],
      "metadata": {
        "id": "O1i7Hf7QXcZl"
      }
    },
    {
      "cell_type": "code",
      "source": [
        "from scipy.optimize import linprog"
      ],
      "metadata": {
        "id": "i7l3MNYsXZds"
      },
      "execution_count": null,
      "outputs": []
    },
    {
      "cell_type": "code",
      "source": [
        "D = len(mean_return)"
      ],
      "metadata": {
        "id": "c3tr5QNrLv8j"
      },
      "execution_count": null,
      "outputs": []
    },
    {
      "cell_type": "code",
      "source": [
        "A_eq = np.ones((1, D))\n",
        "b_eq = np.ones(1)"
      ],
      "metadata": {
        "id": "gZ1r1P4UL0g0"
      },
      "execution_count": null,
      "outputs": []
    },
    {
      "cell_type": "code",
      "source": [
        "### NOTE: The bounds are by default (0, None) unless otherwise specified.\n",
        "# bounds = None\n",
        "bounds = [(-0.5, None)]*D\n",
        "bounds"
      ],
      "metadata": {
        "colab": {
          "base_uri": "https://localhost:8080/"
        },
        "id": "rwZTWG5UL9br",
        "outputId": "432b928a-be8d-4cb5-e65f-b16b2b7e2990"
      },
      "execution_count": null,
      "outputs": [
        {
          "output_type": "execute_result",
          "data": {
            "text/plain": [
              "[(-0.5, None), (-0.5, None), (-0.5, None), (-0.5, None)]"
            ]
          },
          "metadata": {},
          "execution_count": 77
        }
      ]
    },
    {
      "cell_type": "code",
      "source": [
        "#minimize\n",
        "res = linprog(mean_return, A_eq=A_eq, b_eq=b_eq, bounds=bounds)\n",
        "res\n"
      ],
      "metadata": {
        "colab": {
          "base_uri": "https://localhost:8080/"
        },
        "id": "tqCU14lGMOT2",
        "outputId": "81eb1efe-fa74-4adb-dfdb-580d19bd9e3f"
      },
      "execution_count": null,
      "outputs": [
        {
          "output_type": "execute_result",
          "data": {
            "text/plain": [
              "        message: Optimization terminated successfully. (HiGHS Status 7: Optimal)\n",
              "        success: True\n",
              "         status: 0\n",
              "            fun: -0.06078902062505727\n",
              "              x: [-5.000e-01 -5.000e-01  2.500e+00 -5.000e-01]\n",
              "            nit: 0\n",
              "          lower:  residual: [ 0.000e+00  0.000e+00  3.000e+00  0.000e+00]\n",
              "                 marginals: [ 3.869e-02  9.955e-03  0.000e+00  7.293e-02]\n",
              "          upper:  residual: [       inf        inf        inf        inf]\n",
              "                 marginals: [ 0.000e+00  0.000e+00  0.000e+00  0.000e+00]\n",
              "          eqlin:  residual: [ 0.000e+00]\n",
              "                 marginals: [-0.000e+00]\n",
              "        ineqlin:  residual: []\n",
              "                 marginals: []\n",
              " mip_node_count: 0\n",
              " mip_dual_bound: 0.0\n",
              "        mip_gap: 0.0"
            ]
          },
          "metadata": {},
          "execution_count": 79
        }
      ]
    },
    {
      "cell_type": "code",
      "source": [
        "min_return = res.fun"
      ],
      "metadata": {
        "id": "3J0Hu4LONs3y"
      },
      "execution_count": null,
      "outputs": []
    },
    {
      "cell_type": "code",
      "source": [
        "# maximize\n",
        "max_return = -res.fun\n",
        "max_return"
      ],
      "metadata": {
        "colab": {
          "base_uri": "https://localhost:8080/"
        },
        "id": "5JguouroOhVl",
        "outputId": "4af10f79-6579-4998-a9bb-15dae2591495"
      },
      "execution_count": null,
      "outputs": [
        {
          "output_type": "execute_result",
          "data": {
            "text/plain": [
              "0.06078902062505727"
            ]
          },
          "metadata": {},
          "execution_count": 81
        }
      ]
    },
    {
      "cell_type": "code",
      "source": [
        "min_return, max_return"
      ],
      "metadata": {
        "colab": {
          "base_uri": "https://localhost:8080/"
        },
        "id": "RFnMabPiOtjM",
        "outputId": "8b36dc44-a13e-470c-e687-e815509f1b70"
      },
      "execution_count": null,
      "outputs": [
        {
          "output_type": "execute_result",
          "data": {
            "text/plain": [
              "(-0.06078902062505727, 0.06078902062505727)"
            ]
          },
          "metadata": {},
          "execution_count": 82
        }
      ]
    },
    {
      "cell_type": "markdown",
      "source": [
        "# Mean-Variance Optimal Portfolios"
      ],
      "metadata": {
        "id": "gEaxC8qgO0LY"
      }
    },
    {
      "cell_type": "code",
      "source": [
        "N = 100\n",
        "target_returns = np.linspace(min_return, max_return, num=N)"
      ],
      "metadata": {
        "id": "MDNNRWdsOw2p"
      },
      "execution_count": null,
      "outputs": []
    },
    {
      "cell_type": "code",
      "source": [
        "from scipy.optimize import minimize"
      ],
      "metadata": {
        "id": "djSPM3d3PIoN"
      },
      "execution_count": null,
      "outputs": []
    },
    {
      "cell_type": "code",
      "source": [
        "def get_portfolio_variance(weights):\n",
        "  return weights.dot(cov).dot(weights)\n"
      ],
      "metadata": {
        "id": "_9PSjSv7dze1"
      },
      "execution_count": null,
      "outputs": []
    },
    {
      "cell_type": "code",
      "source": [
        "def target_return_constraint(weights, target):\n",
        "  return weights.dot(mean_return) - target\n"
      ],
      "metadata": {
        "id": "-nQtNVo6fRNk"
      },
      "execution_count": null,
      "outputs": []
    },
    {
      "cell_type": "code",
      "source": [
        "def portfolio_constraint(weights):\n",
        "  return weights.sum() - 1"
      ],
      "metadata": {
        "id": "XkcyZpYVd99Y"
      },
      "execution_count": null,
      "outputs": []
    },
    {
      "cell_type": "code",
      "source": [
        "constraints = [\n",
        "    {\n",
        "        'type': 'eq',\n",
        "        'fun': target_return_constraint,\n",
        "        'args': [target_returns[0]], # will be updated in loop\n",
        "    },\n",
        "    {\n",
        "        'type': 'eq',\n",
        "        'fun': portfolio_constraint,\n",
        "    }\n",
        "]"
      ],
      "metadata": {
        "id": "i-XKolR-eGp7"
      },
      "execution_count": null,
      "outputs": []
    },
    {
      "cell_type": "code",
      "source": [
        "# check if it works\n",
        "res = minimize(\n",
        "    fun=get_portfolio_variance,\n",
        "    x0=np.ones(D) / D, # uniform\n",
        "    method='SLSQP',\n",
        "    constraints=constraints,\n",
        ")\n",
        "res"
      ],
      "metadata": {
        "colab": {
          "base_uri": "https://localhost:8080/"
        },
        "id": "oyBKpMLXfnA1",
        "outputId": "e82c251c-0624-4694-ebe0-e7cdd59cb413"
      },
      "execution_count": null,
      "outputs": [
        {
          "output_type": "execute_result",
          "data": {
            "text/plain": [
              " message: Iteration limit reached\n",
              " success: False\n",
              "  status: 9\n",
              "     fun: nan\n",
              "       x: [       nan        nan        nan        nan]\n",
              "     nit: 100\n",
              "     jac: [       nan        nan        nan        nan]\n",
              "    nfev: 1589\n",
              "    njev: 100"
            ]
          },
          "metadata": {},
          "execution_count": 89
        }
      ]
    },
    {
      "cell_type": "code",
      "source": [
        "# Let's limit the magnitude of the weights\n",
        "res = minimize(\n",
        "    fun=get_portfolio_variance,\n",
        "    x0=np.ones(D) / D, # uniform\n",
        "    method='SLSQP',\n",
        "    constraints=constraints,\n",
        "    bounds=bounds,\n",
        ")\n",
        "res"
      ],
      "metadata": {
        "colab": {
          "base_uri": "https://localhost:8080/"
        },
        "id": "0Dn2OF1ygGOn",
        "outputId": "10c83986-30a3-4c14-e646-6d520d0f950e"
      },
      "execution_count": null,
      "outputs": [
        {
          "output_type": "execute_result",
          "data": {
            "text/plain": [
              " message: Inequality constraints incompatible\n",
              " success: False\n",
              "  status: 4\n",
              "     fun: nan\n",
              "       x: [ 2.500e-01  2.500e-01  2.500e-01  2.500e-01]\n",
              "     nit: 1\n",
              "     jac: [       nan        nan        nan        nan]\n",
              "    nfev: 5\n",
              "    njev: 1"
            ]
          },
          "metadata": {},
          "execution_count": 90
        }
      ]
    },
    {
      "cell_type": "code",
      "source": [
        "optimized_risks = []\n",
        "for target in target_returns:\n",
        "  # set target return constraint\n",
        "  constraints[0]['args'] = [target]\n",
        "\n",
        "  res = minimize(\n",
        "      fun=get_portfolio_variance,\n",
        "      x0=np.ones(D) / D, # uniform\n",
        "      method='SLSQP',\n",
        "      constraints=constraints,\n",
        "      bounds=bounds,\n",
        "  )\n",
        "  optimized_risks.append(np.sqrt(res.fun))\n",
        "  if res.status != 0:\n",
        "    print(res)"
      ],
      "metadata": {
        "colab": {
          "base_uri": "https://localhost:8080/"
        },
        "id": "UsHqzoHDttQL",
        "outputId": "b4d181f0-81cc-4786-e4e9-469ab17d6498"
      },
      "execution_count": null,
      "outputs": [
        {
          "output_type": "stream",
          "name": "stdout",
          "text": [
            " message: Inequality constraints incompatible\n",
            " success: False\n",
            "  status: 4\n",
            "     fun: nan\n",
            "       x: [ 2.500e-01  2.500e-01  2.500e-01  2.500e-01]\n",
            "     nit: 1\n",
            "     jac: [       nan        nan        nan        nan]\n",
            "    nfev: 5\n",
            "    njev: 1\n",
            " message: Inequality constraints incompatible\n",
            " success: False\n",
            "  status: 4\n",
            "     fun: nan\n",
            "       x: [ 2.500e-01  2.500e-01  2.500e-01  2.500e-01]\n",
            "     nit: 1\n",
            "     jac: [       nan        nan        nan        nan]\n",
            "    nfev: 5\n",
            "    njev: 1\n",
            " message: Inequality constraints incompatible\n",
            " success: False\n",
            "  status: 4\n",
            "     fun: nan\n",
            "       x: [ 2.500e-01  2.500e-01  2.500e-01  2.500e-01]\n",
            "     nit: 1\n",
            "     jac: [       nan        nan        nan        nan]\n",
            "    nfev: 5\n",
            "    njev: 1\n",
            " message: Inequality constraints incompatible\n",
            " success: False\n",
            "  status: 4\n",
            "     fun: nan\n",
            "       x: [ 2.500e-01  2.500e-01  2.500e-01  2.500e-01]\n",
            "     nit: 1\n",
            "     jac: [       nan        nan        nan        nan]\n",
            "    nfev: 5\n",
            "    njev: 1\n",
            " message: Inequality constraints incompatible\n",
            " success: False\n",
            "  status: 4\n",
            "     fun: nan\n",
            "       x: [ 2.500e-01  2.500e-01  2.500e-01  2.500e-01]\n",
            "     nit: 1\n",
            "     jac: [       nan        nan        nan        nan]\n",
            "    nfev: 5\n",
            "    njev: 1\n",
            " message: Inequality constraints incompatible\n",
            " success: False\n",
            "  status: 4\n",
            "     fun: nan\n",
            "       x: [ 2.500e-01  2.500e-01  2.500e-01  2.500e-01]\n",
            "     nit: 1\n",
            "     jac: [       nan        nan        nan        nan]\n",
            "    nfev: 5\n",
            "    njev: 1\n",
            " message: Inequality constraints incompatible\n",
            " success: False\n",
            "  status: 4\n",
            "     fun: nan\n",
            "       x: [ 2.500e-01  2.500e-01  2.500e-01  2.500e-01]\n",
            "     nit: 1\n",
            "     jac: [       nan        nan        nan        nan]\n",
            "    nfev: 5\n",
            "    njev: 1\n",
            " message: Inequality constraints incompatible\n",
            " success: False\n",
            "  status: 4\n",
            "     fun: nan\n",
            "       x: [ 2.500e-01  2.500e-01  2.500e-01  2.500e-01]\n",
            "     nit: 1\n",
            "     jac: [       nan        nan        nan        nan]\n",
            "    nfev: 5\n",
            "    njev: 1\n",
            " message: Inequality constraints incompatible\n",
            " success: False\n",
            "  status: 4\n",
            "     fun: nan\n",
            "       x: [ 2.500e-01  2.500e-01  2.500e-01  2.500e-01]\n",
            "     nit: 1\n",
            "     jac: [       nan        nan        nan        nan]\n",
            "    nfev: 5\n",
            "    njev: 1\n",
            " message: Inequality constraints incompatible\n",
            " success: False\n",
            "  status: 4\n",
            "     fun: nan\n",
            "       x: [ 2.500e-01  2.500e-01  2.500e-01  2.500e-01]\n",
            "     nit: 1\n",
            "     jac: [       nan        nan        nan        nan]\n",
            "    nfev: 5\n",
            "    njev: 1\n",
            " message: Inequality constraints incompatible\n",
            " success: False\n",
            "  status: 4\n",
            "     fun: nan\n",
            "       x: [ 2.500e-01  2.500e-01  2.500e-01  2.500e-01]\n",
            "     nit: 1\n",
            "     jac: [       nan        nan        nan        nan]\n",
            "    nfev: 5\n",
            "    njev: 1\n",
            " message: Inequality constraints incompatible\n",
            " success: False\n",
            "  status: 4\n",
            "     fun: nan\n",
            "       x: [ 2.500e-01  2.500e-01  2.500e-01  2.500e-01]\n",
            "     nit: 1\n",
            "     jac: [       nan        nan        nan        nan]\n",
            "    nfev: 5\n",
            "    njev: 1\n",
            " message: Inequality constraints incompatible\n",
            " success: False\n",
            "  status: 4\n",
            "     fun: nan\n",
            "       x: [ 2.500e-01  2.500e-01  2.500e-01  2.500e-01]\n",
            "     nit: 1\n",
            "     jac: [       nan        nan        nan        nan]\n",
            "    nfev: 5\n",
            "    njev: 1\n",
            " message: Inequality constraints incompatible\n",
            " success: False\n",
            "  status: 4\n",
            "     fun: nan\n",
            "       x: [ 2.500e-01  2.500e-01  2.500e-01  2.500e-01]\n",
            "     nit: 1\n",
            "     jac: [       nan        nan        nan        nan]\n",
            "    nfev: 5\n",
            "    njev: 1\n",
            " message: Inequality constraints incompatible\n",
            " success: False\n",
            "  status: 4\n",
            "     fun: nan\n",
            "       x: [ 2.500e-01  2.500e-01  2.500e-01  2.500e-01]\n",
            "     nit: 1\n",
            "     jac: [       nan        nan        nan        nan]\n",
            "    nfev: 5\n",
            "    njev: 1\n",
            " message: Inequality constraints incompatible\n",
            " success: False\n",
            "  status: 4\n",
            "     fun: nan\n",
            "       x: [ 2.500e-01  2.500e-01  2.500e-01  2.500e-01]\n",
            "     nit: 1\n",
            "     jac: [       nan        nan        nan        nan]\n",
            "    nfev: 5\n",
            "    njev: 1\n",
            " message: Inequality constraints incompatible\n",
            " success: False\n",
            "  status: 4\n",
            "     fun: nan\n",
            "       x: [ 2.500e-01  2.500e-01  2.500e-01  2.500e-01]\n",
            "     nit: 1\n",
            "     jac: [       nan        nan        nan        nan]\n",
            "    nfev: 5\n",
            "    njev: 1\n",
            " message: Inequality constraints incompatible\n",
            " success: False\n",
            "  status: 4\n",
            "     fun: nan\n",
            "       x: [ 2.500e-01  2.500e-01  2.500e-01  2.500e-01]\n",
            "     nit: 1\n",
            "     jac: [       nan        nan        nan        nan]\n",
            "    nfev: 5\n",
            "    njev: 1\n",
            " message: Inequality constraints incompatible\n",
            " success: False\n",
            "  status: 4\n",
            "     fun: nan\n",
            "       x: [ 2.500e-01  2.500e-01  2.500e-01  2.500e-01]\n",
            "     nit: 1\n",
            "     jac: [       nan        nan        nan        nan]\n",
            "    nfev: 5\n",
            "    njev: 1\n",
            " message: Inequality constraints incompatible\n",
            " success: False\n",
            "  status: 4\n",
            "     fun: nan\n",
            "       x: [ 2.500e-01  2.500e-01  2.500e-01  2.500e-01]\n",
            "     nit: 1\n",
            "     jac: [       nan        nan        nan        nan]\n",
            "    nfev: 5\n",
            "    njev: 1\n",
            " message: Inequality constraints incompatible\n",
            " success: False\n",
            "  status: 4\n",
            "     fun: nan\n",
            "       x: [ 2.500e-01  2.500e-01  2.500e-01  2.500e-01]\n",
            "     nit: 1\n",
            "     jac: [       nan        nan        nan        nan]\n",
            "    nfev: 5\n",
            "    njev: 1\n",
            " message: Inequality constraints incompatible\n",
            " success: False\n",
            "  status: 4\n",
            "     fun: nan\n",
            "       x: [ 2.500e-01  2.500e-01  2.500e-01  2.500e-01]\n",
            "     nit: 1\n",
            "     jac: [       nan        nan        nan        nan]\n",
            "    nfev: 5\n",
            "    njev: 1\n",
            " message: Inequality constraints incompatible\n",
            " success: False\n",
            "  status: 4\n",
            "     fun: nan\n",
            "       x: [ 2.500e-01  2.500e-01  2.500e-01  2.500e-01]\n",
            "     nit: 1\n",
            "     jac: [       nan        nan        nan        nan]\n",
            "    nfev: 5\n",
            "    njev: 1\n",
            " message: Inequality constraints incompatible\n",
            " success: False\n",
            "  status: 4\n",
            "     fun: nan\n",
            "       x: [ 2.500e-01  2.500e-01  2.500e-01  2.500e-01]\n",
            "     nit: 1\n",
            "     jac: [       nan        nan        nan        nan]\n",
            "    nfev: 5\n",
            "    njev: 1\n",
            " message: Inequality constraints incompatible\n",
            " success: False\n",
            "  status: 4\n",
            "     fun: nan\n",
            "       x: [ 2.500e-01  2.500e-01  2.500e-01  2.500e-01]\n",
            "     nit: 1\n",
            "     jac: [       nan        nan        nan        nan]\n",
            "    nfev: 5\n",
            "    njev: 1\n",
            " message: Inequality constraints incompatible\n",
            " success: False\n",
            "  status: 4\n",
            "     fun: nan\n",
            "       x: [ 2.500e-01  2.500e-01  2.500e-01  2.500e-01]\n",
            "     nit: 1\n",
            "     jac: [       nan        nan        nan        nan]\n",
            "    nfev: 5\n",
            "    njev: 1\n",
            " message: Inequality constraints incompatible\n",
            " success: False\n",
            "  status: 4\n",
            "     fun: nan\n",
            "       x: [ 2.500e-01  2.500e-01  2.500e-01  2.500e-01]\n",
            "     nit: 1\n",
            "     jac: [       nan        nan        nan        nan]\n",
            "    nfev: 5\n",
            "    njev: 1\n",
            " message: Inequality constraints incompatible\n",
            " success: False\n",
            "  status: 4\n",
            "     fun: nan\n",
            "       x: [ 2.500e-01  2.500e-01  2.500e-01  2.500e-01]\n",
            "     nit: 1\n",
            "     jac: [       nan        nan        nan        nan]\n",
            "    nfev: 5\n",
            "    njev: 1\n",
            " message: Inequality constraints incompatible\n",
            " success: False\n",
            "  status: 4\n",
            "     fun: nan\n",
            "       x: [ 2.500e-01  2.500e-01  2.500e-01  2.500e-01]\n",
            "     nit: 1\n",
            "     jac: [       nan        nan        nan        nan]\n",
            "    nfev: 5\n",
            "    njev: 1\n",
            " message: Inequality constraints incompatible\n",
            " success: False\n",
            "  status: 4\n",
            "     fun: nan\n",
            "       x: [ 2.500e-01  2.500e-01  2.500e-01  2.500e-01]\n",
            "     nit: 1\n",
            "     jac: [       nan        nan        nan        nan]\n",
            "    nfev: 5\n",
            "    njev: 1\n",
            " message: Inequality constraints incompatible\n",
            " success: False\n",
            "  status: 4\n",
            "     fun: nan\n",
            "       x: [ 2.500e-01  2.500e-01  2.500e-01  2.500e-01]\n",
            "     nit: 1\n",
            "     jac: [       nan        nan        nan        nan]\n",
            "    nfev: 5\n",
            "    njev: 1\n",
            " message: Inequality constraints incompatible\n",
            " success: False\n",
            "  status: 4\n",
            "     fun: nan\n",
            "       x: [ 2.500e-01  2.500e-01  2.500e-01  2.500e-01]\n",
            "     nit: 1\n",
            "     jac: [       nan        nan        nan        nan]\n",
            "    nfev: 5\n",
            "    njev: 1\n",
            " message: Inequality constraints incompatible\n",
            " success: False\n",
            "  status: 4\n",
            "     fun: nan\n",
            "       x: [ 2.500e-01  2.500e-01  2.500e-01  2.500e-01]\n",
            "     nit: 1\n",
            "     jac: [       nan        nan        nan        nan]\n",
            "    nfev: 5\n",
            "    njev: 1\n",
            " message: Inequality constraints incompatible\n",
            " success: False\n",
            "  status: 4\n",
            "     fun: nan\n",
            "       x: [ 2.500e-01  2.500e-01  2.500e-01  2.500e-01]\n",
            "     nit: 1\n",
            "     jac: [       nan        nan        nan        nan]\n",
            "    nfev: 5\n",
            "    njev: 1\n",
            " message: Inequality constraints incompatible\n",
            " success: False\n",
            "  status: 4\n",
            "     fun: nan\n",
            "       x: [ 2.500e-01  2.500e-01  2.500e-01  2.500e-01]\n",
            "     nit: 1\n",
            "     jac: [       nan        nan        nan        nan]\n",
            "    nfev: 5\n",
            "    njev: 1\n",
            " message: Inequality constraints incompatible\n",
            " success: False\n",
            "  status: 4\n",
            "     fun: nan\n",
            "       x: [ 2.500e-01  2.500e-01  2.500e-01  2.500e-01]\n",
            "     nit: 1\n",
            "     jac: [       nan        nan        nan        nan]\n",
            "    nfev: 5\n",
            "    njev: 1\n",
            " message: Inequality constraints incompatible\n",
            " success: False\n",
            "  status: 4\n",
            "     fun: nan\n",
            "       x: [ 2.500e-01  2.500e-01  2.500e-01  2.500e-01]\n",
            "     nit: 1\n",
            "     jac: [       nan        nan        nan        nan]\n",
            "    nfev: 5\n",
            "    njev: 1\n",
            " message: Inequality constraints incompatible\n",
            " success: False\n",
            "  status: 4\n",
            "     fun: nan\n",
            "       x: [ 2.500e-01  2.500e-01  2.500e-01  2.500e-01]\n",
            "     nit: 1\n",
            "     jac: [       nan        nan        nan        nan]\n",
            "    nfev: 5\n",
            "    njev: 1\n",
            " message: Inequality constraints incompatible\n",
            " success: False\n",
            "  status: 4\n",
            "     fun: nan\n",
            "       x: [ 2.500e-01  2.500e-01  2.500e-01  2.500e-01]\n",
            "     nit: 1\n",
            "     jac: [       nan        nan        nan        nan]\n",
            "    nfev: 5\n",
            "    njev: 1\n",
            " message: Inequality constraints incompatible\n",
            " success: False\n",
            "  status: 4\n",
            "     fun: nan\n",
            "       x: [ 2.500e-01  2.500e-01  2.500e-01  2.500e-01]\n",
            "     nit: 1\n",
            "     jac: [       nan        nan        nan        nan]\n",
            "    nfev: 5\n",
            "    njev: 1\n",
            " message: Inequality constraints incompatible\n",
            " success: False\n",
            "  status: 4\n",
            "     fun: nan\n",
            "       x: [ 2.500e-01  2.500e-01  2.500e-01  2.500e-01]\n",
            "     nit: 1\n",
            "     jac: [       nan        nan        nan        nan]\n",
            "    nfev: 5\n",
            "    njev: 1\n",
            " message: Inequality constraints incompatible\n",
            " success: False\n",
            "  status: 4\n",
            "     fun: nan\n",
            "       x: [ 2.500e-01  2.500e-01  2.500e-01  2.500e-01]\n",
            "     nit: 1\n",
            "     jac: [       nan        nan        nan        nan]\n",
            "    nfev: 5\n",
            "    njev: 1\n",
            " message: Inequality constraints incompatible\n",
            " success: False\n",
            "  status: 4\n",
            "     fun: nan\n",
            "       x: [ 2.500e-01  2.500e-01  2.500e-01  2.500e-01]\n",
            "     nit: 1\n",
            "     jac: [       nan        nan        nan        nan]\n",
            "    nfev: 5\n",
            "    njev: 1\n",
            " message: Inequality constraints incompatible\n",
            " success: False\n",
            "  status: 4\n",
            "     fun: nan\n",
            "       x: [ 2.500e-01  2.500e-01  2.500e-01  2.500e-01]\n",
            "     nit: 1\n",
            "     jac: [       nan        nan        nan        nan]\n",
            "    nfev: 5\n",
            "    njev: 1\n",
            " message: Inequality constraints incompatible\n",
            " success: False\n",
            "  status: 4\n",
            "     fun: nan\n",
            "       x: [ 2.500e-01  2.500e-01  2.500e-01  2.500e-01]\n",
            "     nit: 1\n",
            "     jac: [       nan        nan        nan        nan]\n",
            "    nfev: 5\n",
            "    njev: 1\n",
            " message: Inequality constraints incompatible\n",
            " success: False\n",
            "  status: 4\n",
            "     fun: nan\n",
            "       x: [ 2.500e-01  2.500e-01  2.500e-01  2.500e-01]\n",
            "     nit: 1\n",
            "     jac: [       nan        nan        nan        nan]\n",
            "    nfev: 5\n",
            "    njev: 1\n",
            " message: Inequality constraints incompatible\n",
            " success: False\n",
            "  status: 4\n",
            "     fun: nan\n",
            "       x: [ 2.500e-01  2.500e-01  2.500e-01  2.500e-01]\n",
            "     nit: 1\n",
            "     jac: [       nan        nan        nan        nan]\n",
            "    nfev: 5\n",
            "    njev: 1\n",
            " message: Inequality constraints incompatible\n",
            " success: False\n",
            "  status: 4\n",
            "     fun: nan\n",
            "       x: [ 2.500e-01  2.500e-01  2.500e-01  2.500e-01]\n",
            "     nit: 1\n",
            "     jac: [       nan        nan        nan        nan]\n",
            "    nfev: 5\n",
            "    njev: 1\n",
            " message: Inequality constraints incompatible\n",
            " success: False\n",
            "  status: 4\n",
            "     fun: nan\n",
            "       x: [ 2.500e-01  2.500e-01  2.500e-01  2.500e-01]\n",
            "     nit: 1\n",
            "     jac: [       nan        nan        nan        nan]\n",
            "    nfev: 5\n",
            "    njev: 1\n",
            " message: Inequality constraints incompatible\n",
            " success: False\n",
            "  status: 4\n",
            "     fun: nan\n",
            "       x: [ 2.500e-01  2.500e-01  2.500e-01  2.500e-01]\n",
            "     nit: 1\n",
            "     jac: [       nan        nan        nan        nan]\n",
            "    nfev: 5\n",
            "    njev: 1\n",
            " message: Inequality constraints incompatible\n",
            " success: False\n",
            "  status: 4\n",
            "     fun: nan\n",
            "       x: [ 2.500e-01  2.500e-01  2.500e-01  2.500e-01]\n",
            "     nit: 1\n",
            "     jac: [       nan        nan        nan        nan]\n",
            "    nfev: 5\n",
            "    njev: 1\n",
            " message: Inequality constraints incompatible\n",
            " success: False\n",
            "  status: 4\n",
            "     fun: nan\n",
            "       x: [ 2.500e-01  2.500e-01  2.500e-01  2.500e-01]\n",
            "     nit: 1\n",
            "     jac: [       nan        nan        nan        nan]\n",
            "    nfev: 5\n",
            "    njev: 1\n",
            " message: Inequality constraints incompatible\n",
            " success: False\n",
            "  status: 4\n",
            "     fun: nan\n",
            "       x: [ 2.500e-01  2.500e-01  2.500e-01  2.500e-01]\n",
            "     nit: 1\n",
            "     jac: [       nan        nan        nan        nan]\n",
            "    nfev: 5\n",
            "    njev: 1\n",
            " message: Inequality constraints incompatible\n",
            " success: False\n",
            "  status: 4\n",
            "     fun: nan\n",
            "       x: [ 2.500e-01  2.500e-01  2.500e-01  2.500e-01]\n",
            "     nit: 1\n",
            "     jac: [       nan        nan        nan        nan]\n",
            "    nfev: 5\n",
            "    njev: 1\n",
            " message: Inequality constraints incompatible\n",
            " success: False\n",
            "  status: 4\n",
            "     fun: nan\n",
            "       x: [ 2.500e-01  2.500e-01  2.500e-01  2.500e-01]\n",
            "     nit: 1\n",
            "     jac: [       nan        nan        nan        nan]\n",
            "    nfev: 5\n",
            "    njev: 1\n",
            " message: Inequality constraints incompatible\n",
            " success: False\n",
            "  status: 4\n",
            "     fun: nan\n",
            "       x: [ 2.500e-01  2.500e-01  2.500e-01  2.500e-01]\n",
            "     nit: 1\n",
            "     jac: [       nan        nan        nan        nan]\n",
            "    nfev: 5\n",
            "    njev: 1\n",
            " message: Inequality constraints incompatible\n",
            " success: False\n",
            "  status: 4\n",
            "     fun: nan\n",
            "       x: [ 2.500e-01  2.500e-01  2.500e-01  2.500e-01]\n",
            "     nit: 1\n",
            "     jac: [       nan        nan        nan        nan]\n",
            "    nfev: 5\n",
            "    njev: 1\n",
            " message: Inequality constraints incompatible\n",
            " success: False\n",
            "  status: 4\n",
            "     fun: nan\n",
            "       x: [ 2.500e-01  2.500e-01  2.500e-01  2.500e-01]\n",
            "     nit: 1\n",
            "     jac: [       nan        nan        nan        nan]\n",
            "    nfev: 5\n",
            "    njev: 1\n",
            " message: Inequality constraints incompatible\n",
            " success: False\n",
            "  status: 4\n",
            "     fun: nan\n",
            "       x: [ 2.500e-01  2.500e-01  2.500e-01  2.500e-01]\n",
            "     nit: 1\n",
            "     jac: [       nan        nan        nan        nan]\n",
            "    nfev: 5\n",
            "    njev: 1\n",
            " message: Inequality constraints incompatible\n",
            " success: False\n",
            "  status: 4\n",
            "     fun: nan\n",
            "       x: [ 2.500e-01  2.500e-01  2.500e-01  2.500e-01]\n",
            "     nit: 1\n",
            "     jac: [       nan        nan        nan        nan]\n",
            "    nfev: 5\n",
            "    njev: 1\n",
            " message: Inequality constraints incompatible\n",
            " success: False\n",
            "  status: 4\n",
            "     fun: nan\n",
            "       x: [ 2.500e-01  2.500e-01  2.500e-01  2.500e-01]\n",
            "     nit: 1\n",
            "     jac: [       nan        nan        nan        nan]\n",
            "    nfev: 5\n",
            "    njev: 1\n",
            " message: Inequality constraints incompatible\n",
            " success: False\n",
            "  status: 4\n",
            "     fun: nan\n",
            "       x: [ 2.500e-01  2.500e-01  2.500e-01  2.500e-01]\n",
            "     nit: 1\n",
            "     jac: [       nan        nan        nan        nan]\n",
            "    nfev: 5\n",
            "    njev: 1\n",
            " message: Inequality constraints incompatible\n",
            " success: False\n",
            "  status: 4\n",
            "     fun: nan\n",
            "       x: [ 2.500e-01  2.500e-01  2.500e-01  2.500e-01]\n",
            "     nit: 1\n",
            "     jac: [       nan        nan        nan        nan]\n",
            "    nfev: 5\n",
            "    njev: 1\n",
            " message: Inequality constraints incompatible\n",
            " success: False\n",
            "  status: 4\n",
            "     fun: nan\n",
            "       x: [ 2.500e-01  2.500e-01  2.500e-01  2.500e-01]\n",
            "     nit: 1\n",
            "     jac: [       nan        nan        nan        nan]\n",
            "    nfev: 5\n",
            "    njev: 1\n",
            " message: Inequality constraints incompatible\n",
            " success: False\n",
            "  status: 4\n",
            "     fun: nan\n",
            "       x: [ 2.500e-01  2.500e-01  2.500e-01  2.500e-01]\n",
            "     nit: 1\n",
            "     jac: [       nan        nan        nan        nan]\n",
            "    nfev: 5\n",
            "    njev: 1\n",
            " message: Inequality constraints incompatible\n",
            " success: False\n",
            "  status: 4\n",
            "     fun: nan\n",
            "       x: [ 2.500e-01  2.500e-01  2.500e-01  2.500e-01]\n",
            "     nit: 1\n",
            "     jac: [       nan        nan        nan        nan]\n",
            "    nfev: 5\n",
            "    njev: 1\n",
            " message: Inequality constraints incompatible\n",
            " success: False\n",
            "  status: 4\n",
            "     fun: nan\n",
            "       x: [ 2.500e-01  2.500e-01  2.500e-01  2.500e-01]\n",
            "     nit: 1\n",
            "     jac: [       nan        nan        nan        nan]\n",
            "    nfev: 5\n",
            "    njev: 1\n",
            " message: Inequality constraints incompatible\n",
            " success: False\n",
            "  status: 4\n",
            "     fun: nan\n",
            "       x: [ 2.500e-01  2.500e-01  2.500e-01  2.500e-01]\n",
            "     nit: 1\n",
            "     jac: [       nan        nan        nan        nan]\n",
            "    nfev: 5\n",
            "    njev: 1\n",
            " message: Inequality constraints incompatible\n",
            " success: False\n",
            "  status: 4\n",
            "     fun: nan\n",
            "       x: [ 2.500e-01  2.500e-01  2.500e-01  2.500e-01]\n",
            "     nit: 1\n",
            "     jac: [       nan        nan        nan        nan]\n",
            "    nfev: 5\n",
            "    njev: 1\n",
            " message: Inequality constraints incompatible\n",
            " success: False\n",
            "  status: 4\n",
            "     fun: nan\n",
            "       x: [ 2.500e-01  2.500e-01  2.500e-01  2.500e-01]\n",
            "     nit: 1\n",
            "     jac: [       nan        nan        nan        nan]\n",
            "    nfev: 5\n",
            "    njev: 1\n",
            " message: Inequality constraints incompatible\n",
            " success: False\n",
            "  status: 4\n",
            "     fun: nan\n",
            "       x: [ 2.500e-01  2.500e-01  2.500e-01  2.500e-01]\n",
            "     nit: 1\n",
            "     jac: [       nan        nan        nan        nan]\n",
            "    nfev: 5\n",
            "    njev: 1\n",
            " message: Inequality constraints incompatible\n",
            " success: False\n",
            "  status: 4\n",
            "     fun: nan\n",
            "       x: [ 2.500e-01  2.500e-01  2.500e-01  2.500e-01]\n",
            "     nit: 1\n",
            "     jac: [       nan        nan        nan        nan]\n",
            "    nfev: 5\n",
            "    njev: 1\n",
            " message: Inequality constraints incompatible\n",
            " success: False\n",
            "  status: 4\n",
            "     fun: nan\n",
            "       x: [ 2.500e-01  2.500e-01  2.500e-01  2.500e-01]\n",
            "     nit: 1\n",
            "     jac: [       nan        nan        nan        nan]\n",
            "    nfev: 5\n",
            "    njev: 1\n",
            " message: Inequality constraints incompatible\n",
            " success: False\n",
            "  status: 4\n",
            "     fun: nan\n",
            "       x: [ 2.500e-01  2.500e-01  2.500e-01  2.500e-01]\n",
            "     nit: 1\n",
            "     jac: [       nan        nan        nan        nan]\n",
            "    nfev: 5\n",
            "    njev: 1\n",
            " message: Inequality constraints incompatible\n",
            " success: False\n",
            "  status: 4\n",
            "     fun: nan\n",
            "       x: [ 2.500e-01  2.500e-01  2.500e-01  2.500e-01]\n",
            "     nit: 1\n",
            "     jac: [       nan        nan        nan        nan]\n",
            "    nfev: 5\n",
            "    njev: 1\n",
            " message: Inequality constraints incompatible\n",
            " success: False\n",
            "  status: 4\n",
            "     fun: nan\n",
            "       x: [ 2.500e-01  2.500e-01  2.500e-01  2.500e-01]\n",
            "     nit: 1\n",
            "     jac: [       nan        nan        nan        nan]\n",
            "    nfev: 5\n",
            "    njev: 1\n",
            " message: Inequality constraints incompatible\n",
            " success: False\n",
            "  status: 4\n",
            "     fun: nan\n",
            "       x: [ 2.500e-01  2.500e-01  2.500e-01  2.500e-01]\n",
            "     nit: 1\n",
            "     jac: [       nan        nan        nan        nan]\n",
            "    nfev: 5\n",
            "    njev: 1\n",
            " message: Inequality constraints incompatible\n",
            " success: False\n",
            "  status: 4\n",
            "     fun: nan\n",
            "       x: [ 2.500e-01  2.500e-01  2.500e-01  2.500e-01]\n",
            "     nit: 1\n",
            "     jac: [       nan        nan        nan        nan]\n",
            "    nfev: 5\n",
            "    njev: 1\n",
            " message: Inequality constraints incompatible\n",
            " success: False\n",
            "  status: 4\n",
            "     fun: nan\n",
            "       x: [ 2.500e-01  2.500e-01  2.500e-01  2.500e-01]\n",
            "     nit: 1\n",
            "     jac: [       nan        nan        nan        nan]\n",
            "    nfev: 5\n",
            "    njev: 1\n",
            " message: Inequality constraints incompatible\n",
            " success: False\n",
            "  status: 4\n",
            "     fun: nan\n",
            "       x: [ 2.500e-01  2.500e-01  2.500e-01  2.500e-01]\n",
            "     nit: 1\n",
            "     jac: [       nan        nan        nan        nan]\n",
            "    nfev: 5\n",
            "    njev: 1\n",
            " message: Inequality constraints incompatible\n",
            " success: False\n",
            "  status: 4\n",
            "     fun: nan\n",
            "       x: [ 2.500e-01  2.500e-01  2.500e-01  2.500e-01]\n",
            "     nit: 1\n",
            "     jac: [       nan        nan        nan        nan]\n",
            "    nfev: 5\n",
            "    njev: 1\n",
            " message: Inequality constraints incompatible\n",
            " success: False\n",
            "  status: 4\n",
            "     fun: nan\n",
            "       x: [ 2.500e-01  2.500e-01  2.500e-01  2.500e-01]\n",
            "     nit: 1\n",
            "     jac: [       nan        nan        nan        nan]\n",
            "    nfev: 5\n",
            "    njev: 1\n",
            " message: Inequality constraints incompatible\n",
            " success: False\n",
            "  status: 4\n",
            "     fun: nan\n",
            "       x: [ 2.500e-01  2.500e-01  2.500e-01  2.500e-01]\n",
            "     nit: 1\n",
            "     jac: [       nan        nan        nan        nan]\n",
            "    nfev: 5\n",
            "    njev: 1\n",
            " message: Inequality constraints incompatible\n",
            " success: False\n",
            "  status: 4\n",
            "     fun: nan\n",
            "       x: [ 2.500e-01  2.500e-01  2.500e-01  2.500e-01]\n",
            "     nit: 1\n",
            "     jac: [       nan        nan        nan        nan]\n",
            "    nfev: 5\n",
            "    njev: 1\n",
            " message: Inequality constraints incompatible\n",
            " success: False\n",
            "  status: 4\n",
            "     fun: nan\n",
            "       x: [ 2.500e-01  2.500e-01  2.500e-01  2.500e-01]\n",
            "     nit: 1\n",
            "     jac: [       nan        nan        nan        nan]\n",
            "    nfev: 5\n",
            "    njev: 1\n",
            " message: Inequality constraints incompatible\n",
            " success: False\n",
            "  status: 4\n",
            "     fun: nan\n",
            "       x: [ 2.500e-01  2.500e-01  2.500e-01  2.500e-01]\n",
            "     nit: 1\n",
            "     jac: [       nan        nan        nan        nan]\n",
            "    nfev: 5\n",
            "    njev: 1\n",
            " message: Inequality constraints incompatible\n",
            " success: False\n",
            "  status: 4\n",
            "     fun: nan\n",
            "       x: [ 2.500e-01  2.500e-01  2.500e-01  2.500e-01]\n",
            "     nit: 1\n",
            "     jac: [       nan        nan        nan        nan]\n",
            "    nfev: 5\n",
            "    njev: 1\n",
            " message: Inequality constraints incompatible\n",
            " success: False\n",
            "  status: 4\n",
            "     fun: nan\n",
            "       x: [ 2.500e-01  2.500e-01  2.500e-01  2.500e-01]\n",
            "     nit: 1\n",
            "     jac: [       nan        nan        nan        nan]\n",
            "    nfev: 5\n",
            "    njev: 1\n",
            " message: Inequality constraints incompatible\n",
            " success: False\n",
            "  status: 4\n",
            "     fun: nan\n",
            "       x: [ 2.500e-01  2.500e-01  2.500e-01  2.500e-01]\n",
            "     nit: 1\n",
            "     jac: [       nan        nan        nan        nan]\n",
            "    nfev: 5\n",
            "    njev: 1\n",
            " message: Inequality constraints incompatible\n",
            " success: False\n",
            "  status: 4\n",
            "     fun: nan\n",
            "       x: [ 2.500e-01  2.500e-01  2.500e-01  2.500e-01]\n",
            "     nit: 1\n",
            "     jac: [       nan        nan        nan        nan]\n",
            "    nfev: 5\n",
            "    njev: 1\n",
            " message: Inequality constraints incompatible\n",
            " success: False\n",
            "  status: 4\n",
            "     fun: nan\n",
            "       x: [ 2.500e-01  2.500e-01  2.500e-01  2.500e-01]\n",
            "     nit: 1\n",
            "     jac: [       nan        nan        nan        nan]\n",
            "    nfev: 5\n",
            "    njev: 1\n",
            " message: Inequality constraints incompatible\n",
            " success: False\n",
            "  status: 4\n",
            "     fun: nan\n",
            "       x: [ 2.500e-01  2.500e-01  2.500e-01  2.500e-01]\n",
            "     nit: 1\n",
            "     jac: [       nan        nan        nan        nan]\n",
            "    nfev: 5\n",
            "    njev: 1\n",
            " message: Inequality constraints incompatible\n",
            " success: False\n",
            "  status: 4\n",
            "     fun: nan\n",
            "       x: [ 2.500e-01  2.500e-01  2.500e-01  2.500e-01]\n",
            "     nit: 1\n",
            "     jac: [       nan        nan        nan        nan]\n",
            "    nfev: 5\n",
            "    njev: 1\n",
            " message: Inequality constraints incompatible\n",
            " success: False\n",
            "  status: 4\n",
            "     fun: nan\n",
            "       x: [ 2.500e-01  2.500e-01  2.500e-01  2.500e-01]\n",
            "     nit: 1\n",
            "     jac: [       nan        nan        nan        nan]\n",
            "    nfev: 5\n",
            "    njev: 1\n",
            " message: Inequality constraints incompatible\n",
            " success: False\n",
            "  status: 4\n",
            "     fun: nan\n",
            "       x: [ 2.500e-01  2.500e-01  2.500e-01  2.500e-01]\n",
            "     nit: 1\n",
            "     jac: [       nan        nan        nan        nan]\n",
            "    nfev: 5\n",
            "    njev: 1\n",
            " message: Inequality constraints incompatible\n",
            " success: False\n",
            "  status: 4\n",
            "     fun: nan\n",
            "       x: [ 2.500e-01  2.500e-01  2.500e-01  2.500e-01]\n",
            "     nit: 1\n",
            "     jac: [       nan        nan        nan        nan]\n",
            "    nfev: 5\n",
            "    njev: 1\n",
            " message: Inequality constraints incompatible\n",
            " success: False\n",
            "  status: 4\n",
            "     fun: nan\n",
            "       x: [ 2.500e-01  2.500e-01  2.500e-01  2.500e-01]\n",
            "     nit: 1\n",
            "     jac: [       nan        nan        nan        nan]\n",
            "    nfev: 5\n",
            "    njev: 1\n",
            " message: Inequality constraints incompatible\n",
            " success: False\n",
            "  status: 4\n",
            "     fun: nan\n",
            "       x: [ 2.500e-01  2.500e-01  2.500e-01  2.500e-01]\n",
            "     nit: 1\n",
            "     jac: [       nan        nan        nan        nan]\n",
            "    nfev: 5\n",
            "    njev: 1\n",
            " message: Inequality constraints incompatible\n",
            " success: False\n",
            "  status: 4\n",
            "     fun: nan\n",
            "       x: [ 2.500e-01  2.500e-01  2.500e-01  2.500e-01]\n",
            "     nit: 1\n",
            "     jac: [       nan        nan        nan        nan]\n",
            "    nfev: 5\n",
            "    njev: 1\n",
            " message: Inequality constraints incompatible\n",
            " success: False\n",
            "  status: 4\n",
            "     fun: nan\n",
            "       x: [ 2.500e-01  2.500e-01  2.500e-01  2.500e-01]\n",
            "     nit: 1\n",
            "     jac: [       nan        nan        nan        nan]\n",
            "    nfev: 5\n",
            "    njev: 1\n"
          ]
        }
      ]
    },
    {
      "cell_type": "code",
      "source": [
        "plt.scatter(risks, returns, alpha=0.1);\n",
        "plt.plot(optimized_risks, target_returns, c='black');"
      ],
      "metadata": {
        "colab": {
          "base_uri": "https://localhost:8080/",
          "height": 430
        },
        "id": "QbalqwQWiBSf",
        "outputId": "0aecaf1e-9f30-4099-9a63-b81921847402"
      },
      "execution_count": null,
      "outputs": [
        {
          "output_type": "display_data",
          "data": {
            "text/plain": [
              "<Figure size 640x480 with 1 Axes>"
            ],
            "image/png": "[encoded data removed]"
          },
          "metadata": {}
        }
      ]
    },
    {
      "cell_type": "code",
      "source": [
        "# min variance portfolio\n",
        "# limiting the magnitude of the weights\n",
        "res = minimize(\n",
        "    fun=get_portfolio_variance,\n",
        "    x0=np.ones(D) / D, # uniform\n",
        "    method='SLSQP',\n",
        "    constraints={\n",
        "        'type': 'eq',\n",
        "        'fun': portfolio_constraint,\n",
        "    },\n",
        "    bounds=bounds,\n",
        ")\n",
        "res"
      ],
      "metadata": {
        "colab": {
          "base_uri": "https://localhost:8080/"
        },
        "id": "7ihAr0owiS5Z",
        "outputId": "017986f8-67a4-4e8d-ee8d-78b418444e50"
      },
      "execution_count": null,
      "outputs": [
        {
          "output_type": "execute_result",
          "data": {
            "text/plain": [
              " message: Inequality constraints incompatible\n",
              " success: False\n",
              "  status: 4\n",
              "     fun: nan\n",
              "       x: [ 2.500e-01  2.500e-01  2.500e-01  2.500e-01]\n",
              "     nit: 1\n",
              "     jac: [       nan        nan        nan        nan]\n",
              "    nfev: 5\n",
              "    njev: 1"
            ]
          },
          "metadata": {},
          "execution_count": 59
        }
      ]
    },
    {
      "cell_type": "code",
      "source": [
        "mv_risk = np.sqrt(res.fun)\n",
        "mv_weights = res.x\n",
        "mv_ret = mv_weights.dot(mean_return)"
      ],
      "metadata": {
        "id": "wxe7Awv6oXbF"
      },
      "execution_count": null,
      "outputs": []
    },
    {
      "cell_type": "code",
      "source": [
        "plt.scatter(risks, returns, alpha=0.1);\n",
        "plt.plot(optimized_risks, target_returns, c='black');\n",
        "plt.scatter([mv_risk], [mv_ret], c='red');"
      ],
      "metadata": {
        "colab": {
          "base_uri": "https://localhost:8080/",
          "height": 430
        },
        "id": "7p6yBigmotIh",
        "outputId": "3f404af6-b335-4c27-ba4c-7bb6ba7ac22b"
      },
      "execution_count": null,
      "outputs": [
        {
          "output_type": "display_data",
          "data": {
            "text/plain": [
              "<Figure size 640x480 with 1 Axes>"
            ],
            "image/png": "[encoded data removed]"
          },
          "metadata": {}
        }
      ]
    },
    {
      "cell_type": "markdown",
      "source": [
        "#Sharpe Ratio"
      ],
      "metadata": {
        "id": "OY7xUYUwpSkp"
      }
    },
    {
      "cell_type": "code",
      "source": [
        "# https://fred.stlouisfed.org/series/TB3MS\n",
        "risk_free_rate = 0.03 / 252"
      ],
      "metadata": {
        "id": "NGBwdUjCpBKo"
      },
      "execution_count": null,
      "outputs": []
    },
    {
      "cell_type": "code",
      "source": [],
      "metadata": {
        "id": "pKynYYAxvGFm"
      },
      "execution_count": null,
      "outputs": []
    },
    {
      "cell_type": "code",
      "source": [
        "def neg_sharpe_ratio(weights):\n",
        "  mean = weights.dot(mean_return)\n",
        "  sd = np.sqrt(weights.dot(cov).dot(weights))\n",
        "  return - (mean - risk_free_rate) / sd"
      ],
      "metadata": {
        "id": "WvGcem_JpdUD"
      },
      "execution_count": null,
      "outputs": []
    },
    {
      "cell_type": "code",
      "source": [
        "res = minimize(\n",
        "    fun=neg_sharpe_ratio,\n",
        "    x0=np.ones(D) / D, # uniform,\n",
        "    method='SLSQP',\n",
        "    constraints={\n",
        "        'type': 'eq',\n",
        "        'fun': portfolio_constraint,\n",
        "    },\n",
        "    bounds=bounds\n",
        ")\n",
        "res"
      ],
      "metadata": {
        "colab": {
          "base_uri": "https://localhost:8080/"
        },
        "id": "qIgHoRkSp0mb",
        "outputId": "756f695d-775f-4893-c21d-5a7ff6004ba9"
      },
      "execution_count": null,
      "outputs": [
        {
          "output_type": "execute_result",
          "data": {
            "text/plain": [
              " message: Inequality constraints incompatible\n",
              " success: False\n",
              "  status: 4\n",
              "     fun: nan\n",
              "       x: [ 2.500e-01  2.500e-01  2.500e-01  2.500e-01]\n",
              "     nit: 1\n",
              "     jac: [       nan        nan        nan        nan]\n",
              "    nfev: 5\n",
              "    njev: 1"
            ]
          },
          "metadata": {},
          "execution_count": 95
        }
      ]
    },
    {
      "cell_type": "code",
      "source": [
        "best_sr, best_w = -res.fun, res.x"
      ],
      "metadata": {
        "id": "zL8pvQQrqVE-"
      },
      "execution_count": null,
      "outputs": []
    },
    {
      "cell_type": "code",
      "source": [
        "mc_best_w = None\n",
        "mc_best_sr = float('-inf')\n",
        "for i, (risk, ret) in enumerate(zip(risks, returns)):\n",
        "  sr = (ret - risk_free_rate) / risk\n",
        "  if sr > mc_best_sr:\n",
        "    mc_best_sr = sr\n",
        "    mc_best_w = random_weights[i]\n",
        "print(mc_best_w, mc_best_sr)"
      ],
      "metadata": {
        "id": "6zjRFI_FvOZp",
        "colab": {
          "base_uri": "https://localhost:8080/"
        },
        "outputId": "b0ee89c1-7fb5-45f5-932f-b4da138df02b"
      },
      "execution_count": null,
      "outputs": [
        {
          "output_type": "stream",
          "name": "stdout",
          "text": [
            "None -inf\n"
          ]
        }
      ]
    },
    {
      "cell_type": "code",
      "source": [
        "fig, ax = plt.subplots(figsize=(10, 5))\n",
        "plt.scatter(risks, returns, alpha=0.1);\n",
        "plt.plot(optimized_risks, target_returns, c='black');\n",
        "\n",
        "# found by optimization\n",
        "opt_risk = np.sqrt(best_w.dot(cov).dot(best_w))\n",
        "opt_ret = mean_return.dot(best_w)\n",
        "plt.scatter([opt_risk], [opt_ret], c='red');\n",
        "\n",
        "# found by monte carlo simulation\n",
        "mc_risk = np.sqrt(mc_best_w.dot(cov).dot(mc_best_w))\n",
        "mc_ret = mean_return.dot(mc_best_w)\n",
        "plt.scatter([mc_risk], [mc_ret], c='pink');"
      ],
      "metadata": {
        "colab": {
          "base_uri": "https://localhost:8080/",
          "height": 646
        },
        "id": "75IP0X56wgrH",
        "outputId": "50e59f86-e969-4b1f-cf89-05c5604c67be"
      },
      "execution_count": null,
      "outputs": [
        {
          "output_type": "error",
          "ename": "AttributeError",
          "evalue": "'NoneType' object has no attribute 'dot'",
          "traceback": [
            "\u001b[0;31m---------------------------------------------------------------------------\u001b[0m",
            "\u001b[0;31mAttributeError\u001b[0m                            Traceback (most recent call last)",
            "\u001b[0;32m<ipython-input-99-8760cdd80dd9>\u001b[0m in \u001b[0;36m<cell line: 11>\u001b[0;34m()\u001b[0m\n\u001b[1;32m      9\u001b[0m \u001b[0;34m\u001b[0m\u001b[0m\n\u001b[1;32m     10\u001b[0m \u001b[0;31m# found by monte carlo simulation\u001b[0m\u001b[0;34m\u001b[0m\u001b[0;34m\u001b[0m\u001b[0m\n\u001b[0;32m---> 11\u001b[0;31m \u001b[0mmc_risk\u001b[0m \u001b[0;34m=\u001b[0m \u001b[0mnp\u001b[0m\u001b[0;34m.\u001b[0m\u001b[0msqrt\u001b[0m\u001b[0;34m(\u001b[0m\u001b[0mmc_best_w\u001b[0m\u001b[0;34m.\u001b[0m\u001b[0mdot\u001b[0m\u001b[0;34m(\u001b[0m\u001b[0mcov\u001b[0m\u001b[0;34m)\u001b[0m\u001b[0;34m.\u001b[0m\u001b[0mdot\u001b[0m\u001b[0;34m(\u001b[0m\u001b[0mmc_best_w\u001b[0m\u001b[0;34m)\u001b[0m\u001b[0;34m)\u001b[0m\u001b[0;34m\u001b[0m\u001b[0;34m\u001b[0m\u001b[0m\n\u001b[0m\u001b[1;32m     12\u001b[0m \u001b[0mmc_ret\u001b[0m \u001b[0;34m=\u001b[0m \u001b[0mmean_return\u001b[0m\u001b[0;34m.\u001b[0m\u001b[0mdot\u001b[0m\u001b[0;34m(\u001b[0m\u001b[0mmc_best_w\u001b[0m\u001b[0;34m)\u001b[0m\u001b[0;34m\u001b[0m\u001b[0;34m\u001b[0m\u001b[0m\n\u001b[1;32m     13\u001b[0m \u001b[0mplt\u001b[0m\u001b[0;34m.\u001b[0m\u001b[0mscatter\u001b[0m\u001b[0;34m(\u001b[0m\u001b[0;34m[\u001b[0m\u001b[0mmc_risk\u001b[0m\u001b[0;34m]\u001b[0m\u001b[0;34m,\u001b[0m \u001b[0;34m[\u001b[0m\u001b[0mmc_ret\u001b[0m\u001b[0;34m]\u001b[0m\u001b[0;34m,\u001b[0m \u001b[0mc\u001b[0m\u001b[0;34m=\u001b[0m\u001b[0;34m'pink'\u001b[0m\u001b[0;34m)\u001b[0m\u001b[0;34m;\u001b[0m\u001b[0;34m\u001b[0m\u001b[0;34m\u001b[0m\u001b[0m\n",
            "\u001b[0;31mAttributeError\u001b[0m: 'NoneType' object has no attribute 'dot'"
          ]
        },
        {
          "output_type": "display_data",
          "data": {
            "text/plain": [
              "<Figure size 1000x500 with 1 Axes>"
            ],
            "image/png": "[encoded data removed]"
          },
          "metadata": {}
        }
      ]
    },
    {
      "cell_type": "markdown",
      "source": [
        "#Risk Free Asset With Tangency Portfolio"
      ],
      "metadata": {
        "id": "QtbOyzCkwq_C"
      }
    },
    {
      "cell_type": "code",
      "source": [
        "fig, ax = plt.subplots(figsize=(10, 5))\n",
        "plt.scatter(risks, returns, alpha=0.1);\n",
        "plt.plot(optimized_risks, target_returns, c='black');\n",
        "\n",
        "# found by optimization\n",
        "opt_risk = np.sqrt(best_w.dot(cov).dot(best_w))\n",
        "opt_ret = mean_return.dot(best_w)\n",
        "plt.scatter([opt_risk], [opt_ret], c='red');\n",
        "\n",
        "# tangent line\n",
        "x1 = 0\n",
        "y1 = risk_free_rate\n",
        "x2 = opt_risk\n",
        "y2 = opt_ret\n",
        "plt.plot([x1, x2], [y1, y2]);"
      ],
      "metadata": {
        "colab": {
          "base_uri": "https://localhost:8080/",
          "height": 445
        },
        "id": "Hdg1AGl5widW",
        "outputId": "9f6d3d05-64d6-4e8a-c6e9-07c2c214869c"
      },
      "execution_count": null,
      "outputs": [
        {
          "output_type": "display_data",
          "data": {
            "text/plain": [
              "<Figure size 1000x500 with 1 Axes>"
            ],
            "image/png": "[encoded data removed]"
          },
          "metadata": {}
        }
      ]
    },
    {
      "cell_type": "code",
      "source": [],
      "metadata": {
        "id": "Sm9qsDIUw3Wu"
      },
      "execution_count": null,
      "outputs": []
    },
    {
      "cell_type": "code",
      "source": [
        "\n"
      ],
      "metadata": {
        "id": "j8QCl2XSwzVJ"
      },
      "execution_count": null,
      "outputs": []
    }
  ]
}
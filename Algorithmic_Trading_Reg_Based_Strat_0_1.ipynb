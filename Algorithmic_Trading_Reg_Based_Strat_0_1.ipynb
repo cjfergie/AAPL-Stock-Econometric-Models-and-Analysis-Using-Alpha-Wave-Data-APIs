{
  "nbformat": 4,
  "nbformat_minor": 0,
  "metadata": {
    "colab": {
      "provenance": [],
      "authorship_tag": "ABX9TyP0c8bnAN/fgZhSDIi1SMQb",
      "include_colab_link": true
    },
    "kernelspec": {
      "name": "python3",
      "display_name": "Python 3"
    },
    "language_info": {
      "name": "python"
    }
  },
  "cells": [
    {
      "cell_type": "markdown",
      "metadata": {
        "id": "view-in-github",
        "colab_type": "text"
      },
      "source": [
        "<a href=\"https://colab.research.google.com/github/cjfergie/AAPL-Stock-Econometric-Models-and-Analysis-Using-Alpha-Wave-Data-APIs/blob/main/Algorithmic_Trading_Reg_Based_Strat_0_1.ipynb\" target=\"_parent\"><img src=\"https://colab.research.google.com/assets/colab-badge.svg\" alt=\"Open In Colab\"/></a>"
      ]
    },
    {
      "cell_type": "code",
      "execution_count": 1,
      "metadata": {
        "colab": {
          "base_uri": "https://localhost:8080/"
        },
        "id": "xruc4gPpUxQL",
        "outputId": "def2b504-a9d5-415b-9c9b-43677ab38994"
      },
      "outputs": [
        {
          "output_type": "stream",
          "name": "stdout",
          "text": [
            "--2024-03-29 20:50:09--  https://lazyprogrammer.me/course_files/sp500_closefull.csv\n",
            "Resolving lazyprogrammer.me (lazyprogrammer.me)... 104.21.23.210, 172.67.213.166, 2606:4700:3031::6815:17d2, ...\n",
            "Connecting to lazyprogrammer.me (lazyprogrammer.me)|104.21.23.210|:443... connected.\n",
            "HTTP request sent, awaiting response... 200 OK\n",
            "Length: 18464866 (18M) [text/csv]\n",
            "Saving to: ‘sp500_closefull.csv’\n",
            "\n",
            "sp500_closefull.csv 100%[===================>]  17.61M  31.2MB/s    in 0.6s    \n",
            "\n",
            "2024-03-29 20:50:10 (31.2 MB/s) - ‘sp500_closefull.csv’ saved [18464866/18464866]\n",
            "\n"
          ]
        }
      ],
      "source": [
        "!wget -nc https://lazyprogrammer.me/course_files/sp500_closefull.csv"
      ]
    },
    {
      "cell_type": "code",
      "source": [
        "import pandas as pd\n",
        "import numpy as np\n",
        "import matplotlib.pyplot as plt\n"
      ],
      "metadata": {
        "id": "tger2TeGAYTv"
      },
      "execution_count": 2,
      "outputs": []
    },
    {
      "cell_type": "code",
      "source": [
        "df = pd.read_csv('sp500_closefull.csv', index_col=0, parse_dates=True)"
      ],
      "metadata": {
        "id": "kptfq6USAgP-"
      },
      "execution_count": 3,
      "outputs": []
    },
    {
      "cell_type": "code",
      "source": [
        "df.head()"
      ],
      "metadata": {
        "colab": {
          "base_uri": "https://localhost:8080/",
          "height": 373
        },
        "id": "WTXpNKzyAvZe",
        "outputId": "5aaf12ce-7844-4060-a963-ad5439359082"
      },
      "execution_count": 4,
      "outputs": [
        {
          "output_type": "execute_result",
          "data": {
            "text/plain": [
              "                 CSCO    UAL       TROW        ISRG       PRGO        TPR  \\\n",
              "Date                                                                        \n",
              "2010-01-04  24.690001  12.80  54.400002  102.923332  40.349998  36.310001   \n",
              "2010-01-05  24.580000  13.91  55.009998  102.459999  38.790001  36.750000   \n",
              "2010-01-06  24.420000  13.27  54.150002  103.946663  38.299999  37.470001   \n",
              "2010-01-07  24.530001  13.55  54.110001  103.556664  37.990002  37.490002   \n",
              "2010-01-08  24.660000  13.33  53.900002  102.986664  37.779999  37.270000   \n",
              "\n",
              "                  DVN        MRO         BA       VRTX  ...          M  \\\n",
              "Date                                                    ...              \n",
              "2010-01-04  76.570000  19.153616  56.180000  44.240002  ...  17.059999   \n",
              "2010-01-05  76.650002  19.171511  58.020000  42.779999  ...  16.860001   \n",
              "2010-01-06  76.419998  19.595024  59.779999  42.029999  ...  17.100000   \n",
              "2010-01-07  75.970001  19.475725  62.200001  41.500000  ...  17.490000   \n",
              "2010-01-08  76.120003  19.505550  61.599998  40.669998  ...  16.920000   \n",
              "\n",
              "                  CRM        PGR        WAT        BWA       LRCX    NWL  \\\n",
              "Date                                                                       \n",
              "2010-01-04  18.705000  18.030001  61.630001  16.889999  39.880001  15.20   \n",
              "2010-01-05  18.625000  17.969999  60.790001  17.695000  39.610001  15.11   \n",
              "2010-01-06  18.592501  17.790001  60.900002  18.344999  39.430000  15.38   \n",
              "2010-01-07  18.510000  17.549999  61.160000  18.594999  39.360001  15.82   \n",
              "2010-01-08  18.537500  17.709999  61.209999  18.254999  40.349998  15.77   \n",
              "\n",
              "                UAA         BLK        PPL  \n",
              "Date                                        \n",
              "2010-01-04  3.51000  238.580002  30.242558  \n",
              "2010-01-05  3.61500  239.610001  29.851370  \n",
              "2010-01-06  3.69500  234.669998  29.916569  \n",
              "2010-01-07  3.65125  237.250000  29.627834  \n",
              "2010-01-08  3.64375  238.919998  29.534695  \n",
              "\n",
              "[5 rows x 480 columns]"
            ],
            "text/html": [
              "\n",
              "  <div id=\"df-d33f234b-e992-496f-8a48-aad3025886f7\" class=\"colab-df-container\">\n",
              "    <div>\n",
              "<style scoped>\n",
              "    .dataframe tbody tr th:only-of-type {\n",
              "        vertical-align: middle;\n",
              "    }\n",
              "\n",
              "    .dataframe tbody tr th {\n",
              "        vertical-align: top;\n",
              "    }\n",
              "\n",
              "    .dataframe thead th {\n",
              "        text-align: right;\n",
              "    }\n",
              "</style>\n",
              "<table border=\"1\" class=\"dataframe\">\n",
              "  <thead>\n",
              "    <tr style=\"text-align: right;\">\n",
              "      <th></th>\n",
              "      <th>CSCO</th>\n",
              "      <th>UAL</th>\n",
              "      <th>TROW</th>\n",
              "      <th>ISRG</th>\n",
              "      <th>PRGO</th>\n",
              "      <th>TPR</th>\n",
              "      <th>DVN</th>\n",
              "      <th>MRO</th>\n",
              "      <th>BA</th>\n",
              "      <th>VRTX</th>\n",
              "      <th>...</th>\n",
              "      <th>M</th>\n",
              "      <th>CRM</th>\n",
              "      <th>PGR</th>\n",
              "      <th>WAT</th>\n",
              "      <th>BWA</th>\n",
              "      <th>LRCX</th>\n",
              "      <th>NWL</th>\n",
              "      <th>UAA</th>\n",
              "      <th>BLK</th>\n",
              "      <th>PPL</th>\n",
              "    </tr>\n",
              "    <tr>\n",
              "      <th>Date</th>\n",
              "      <th></th>\n",
              "      <th></th>\n",
              "      <th></th>\n",
              "      <th></th>\n",
              "      <th></th>\n",
              "      <th></th>\n",
              "      <th></th>\n",
              "      <th></th>\n",
              "      <th></th>\n",
              "      <th></th>\n",
              "      <th></th>\n",
              "      <th></th>\n",
              "      <th></th>\n",
              "      <th></th>\n",
              "      <th></th>\n",
              "      <th></th>\n",
              "      <th></th>\n",
              "      <th></th>\n",
              "      <th></th>\n",
              "      <th></th>\n",
              "      <th></th>\n",
              "    </tr>\n",
              "  </thead>\n",
              "  <tbody>\n",
              "    <tr>\n",
              "      <th>2010-01-04</th>\n",
              "      <td>24.690001</td>\n",
              "      <td>12.80</td>\n",
              "      <td>54.400002</td>\n",
              "      <td>102.923332</td>\n",
              "      <td>40.349998</td>\n",
              "      <td>36.310001</td>\n",
              "      <td>76.570000</td>\n",
              "      <td>19.153616</td>\n",
              "      <td>56.180000</td>\n",
              "      <td>44.240002</td>\n",
              "      <td>...</td>\n",
              "      <td>17.059999</td>\n",
              "      <td>18.705000</td>\n",
              "      <td>18.030001</td>\n",
              "      <td>61.630001</td>\n",
              "      <td>16.889999</td>\n",
              "      <td>39.880001</td>\n",
              "      <td>15.20</td>\n",
              "      <td>3.51000</td>\n",
              "      <td>238.580002</td>\n",
              "      <td>30.242558</td>\n",
              "    </tr>\n",
              "    <tr>\n",
              "      <th>2010-01-05</th>\n",
              "      <td>24.580000</td>\n",
              "      <td>13.91</td>\n",
              "      <td>55.009998</td>\n",
              "      <td>102.459999</td>\n",
              "      <td>38.790001</td>\n",
              "      <td>36.750000</td>\n",
              "      <td>76.650002</td>\n",
              "      <td>19.171511</td>\n",
              "      <td>58.020000</td>\n",
              "      <td>42.779999</td>\n",
              "      <td>...</td>\n",
              "      <td>16.860001</td>\n",
              "      <td>18.625000</td>\n",
              "      <td>17.969999</td>\n",
              "      <td>60.790001</td>\n",
              "      <td>17.695000</td>\n",
              "      <td>39.610001</td>\n",
              "      <td>15.11</td>\n",
              "      <td>3.61500</td>\n",
              "      <td>239.610001</td>\n",
              "      <td>29.851370</td>\n",
              "    </tr>\n",
              "    <tr>\n",
              "      <th>2010-01-06</th>\n",
              "      <td>24.420000</td>\n",
              "      <td>13.27</td>\n",
              "      <td>54.150002</td>\n",
              "      <td>103.946663</td>\n",
              "      <td>38.299999</td>\n",
              "      <td>37.470001</td>\n",
              "      <td>76.419998</td>\n",
              "      <td>19.595024</td>\n",
              "      <td>59.779999</td>\n",
              "      <td>42.029999</td>\n",
              "      <td>...</td>\n",
              "      <td>17.100000</td>\n",
              "      <td>18.592501</td>\n",
              "      <td>17.790001</td>\n",
              "      <td>60.900002</td>\n",
              "      <td>18.344999</td>\n",
              "      <td>39.430000</td>\n",
              "      <td>15.38</td>\n",
              "      <td>3.69500</td>\n",
              "      <td>234.669998</td>\n",
              "      <td>29.916569</td>\n",
              "    </tr>\n",
              "    <tr>\n",
              "      <th>2010-01-07</th>\n",
              "      <td>24.530001</td>\n",
              "      <td>13.55</td>\n",
              "      <td>54.110001</td>\n",
              "      <td>103.556664</td>\n",
              "      <td>37.990002</td>\n",
              "      <td>37.490002</td>\n",
              "      <td>75.970001</td>\n",
              "      <td>19.475725</td>\n",
              "      <td>62.200001</td>\n",
              "      <td>41.500000</td>\n",
              "      <td>...</td>\n",
              "      <td>17.490000</td>\n",
              "      <td>18.510000</td>\n",
              "      <td>17.549999</td>\n",
              "      <td>61.160000</td>\n",
              "      <td>18.594999</td>\n",
              "      <td>39.360001</td>\n",
              "      <td>15.82</td>\n",
              "      <td>3.65125</td>\n",
              "      <td>237.250000</td>\n",
              "      <td>29.627834</td>\n",
              "    </tr>\n",
              "    <tr>\n",
              "      <th>2010-01-08</th>\n",
              "      <td>24.660000</td>\n",
              "      <td>13.33</td>\n",
              "      <td>53.900002</td>\n",
              "      <td>102.986664</td>\n",
              "      <td>37.779999</td>\n",
              "      <td>37.270000</td>\n",
              "      <td>76.120003</td>\n",
              "      <td>19.505550</td>\n",
              "      <td>61.599998</td>\n",
              "      <td>40.669998</td>\n",
              "      <td>...</td>\n",
              "      <td>16.920000</td>\n",
              "      <td>18.537500</td>\n",
              "      <td>17.709999</td>\n",
              "      <td>61.209999</td>\n",
              "      <td>18.254999</td>\n",
              "      <td>40.349998</td>\n",
              "      <td>15.77</td>\n",
              "      <td>3.64375</td>\n",
              "      <td>238.919998</td>\n",
              "      <td>29.534695</td>\n",
              "    </tr>\n",
              "  </tbody>\n",
              "</table>\n",
              "<p>5 rows × 480 columns</p>\n",
              "</div>\n",
              "    <div class=\"colab-df-buttons\">\n",
              "\n",
              "  <div class=\"colab-df-container\">\n",
              "    <button class=\"colab-df-convert\" onclick=\"convertToInteractive('df-d33f234b-e992-496f-8a48-aad3025886f7')\"\n",
              "            title=\"Convert this dataframe to an interactive table.\"\n",
              "            style=\"display:none;\">\n",
              "\n",
              "  <svg xmlns=\"http://www.w3.org/2000/svg\" height=\"24px\" viewBox=\"0 -960 960 960\">\n",
              "    <path d=\"M120-120v-720h720v720H120Zm60-500h600v-160H180v160Zm220 220h160v-160H400v160Zm0 220h160v-160H400v160ZM180-400h160v-160H180v160Zm440 0h160v-160H620v160ZM180-180h160v-160H180v160Zm440 0h160v-160H620v160Z\"/>\n",
              "  </svg>\n",
              "    </button>\n",
              "\n",
              "  <style>\n",
              "    .colab-df-container {\n",
              "      display:flex;\n",
              "      gap: 12px;\n",
              "    }\n",
              "\n",
              "    .colab-df-convert {\n",
              "      background-color: #E8F0FE;\n",
              "      border: none;\n",
              "      border-radius: 50%;\n",
              "      cursor: pointer;\n",
              "      display: none;\n",
              "      fill: #1967D2;\n",
              "      height: 32px;\n",
              "      padding: 0 0 0 0;\n",
              "      width: 32px;\n",
              "    }\n",
              "\n",
              "    .colab-df-convert:hover {\n",
              "      background-color: #E2EBFA;\n",
              "      box-shadow: 0px 1px 2px rgba(60, 64, 67, 0.3), 0px 1px 3px 1px rgba(60, 64, 67, 0.15);\n",
              "      fill: #174EA6;\n",
              "    }\n",
              "\n",
              "    .colab-df-buttons div {\n",
              "      margin-bottom: 4px;\n",
              "    }\n",
              "\n",
              "    [theme=dark] .colab-df-convert {\n",
              "      background-color: #3B4455;\n",
              "      fill: #D2E3FC;\n",
              "    }\n",
              "\n",
              "    [theme=dark] .colab-df-convert:hover {\n",
              "      background-color: #434B5C;\n",
              "      box-shadow: 0px 1px 3px 1px rgba(0, 0, 0, 0.15);\n",
              "      filter: drop-shadow(0px 1px 2px rgba(0, 0, 0, 0.3));\n",
              "      fill: #FFFFFF;\n",
              "    }\n",
              "  </style>\n",
              "\n",
              "    <script>\n",
              "      const buttonEl =\n",
              "        document.querySelector('#df-d33f234b-e992-496f-8a48-aad3025886f7 button.colab-df-convert');\n",
              "      buttonEl.style.display =\n",
              "        google.colab.kernel.accessAllowed ? 'block' : 'none';\n",
              "\n",
              "      async function convertToInteractive(key) {\n",
              "        const element = document.querySelector('#df-d33f234b-e992-496f-8a48-aad3025886f7');\n",
              "        const dataTable =\n",
              "          await google.colab.kernel.invokeFunction('convertToInteractive',\n",
              "                                                    [key], {});\n",
              "        if (!dataTable) return;\n",
              "\n",
              "        const docLinkHtml = 'Like what you see? Visit the ' +\n",
              "          '<a target=\"_blank\" href=https://colab.research.google.com/notebooks/data_table.ipynb>data table notebook</a>'\n",
              "          + ' to learn more about interactive tables.';\n",
              "        element.innerHTML = '';\n",
              "        dataTable['output_type'] = 'display_data';\n",
              "        await google.colab.output.renderOutput(dataTable, element);\n",
              "        const docLink = document.createElement('div');\n",
              "        docLink.innerHTML = docLinkHtml;\n",
              "        element.appendChild(docLink);\n",
              "      }\n",
              "    </script>\n",
              "  </div>\n",
              "\n",
              "\n",
              "<div id=\"df-793781ea-e1e8-4376-9d6c-5de93e64d1f0\">\n",
              "  <button class=\"colab-df-quickchart\" onclick=\"quickchart('df-793781ea-e1e8-4376-9d6c-5de93e64d1f0')\"\n",
              "            title=\"Suggest charts\"\n",
              "            style=\"display:none;\">\n",
              "\n",
              "<svg xmlns=\"http://www.w3.org/2000/svg\" height=\"24px\"viewBox=\"0 0 24 24\"\n",
              "     width=\"24px\">\n",
              "    <g>\n",
              "        <path d=\"M19 3H5c-1.1 0-2 .9-2 2v14c0 1.1.9 2 2 2h14c1.1 0 2-.9 2-2V5c0-1.1-.9-2-2-2zM9 17H7v-7h2v7zm4 0h-2V7h2v10zm4 0h-2v-4h2v4z\"/>\n",
              "    </g>\n",
              "</svg>\n",
              "  </button>\n",
              "\n",
              "<style>\n",
              "  .colab-df-quickchart {\n",
              "      --bg-color: #E8F0FE;\n",
              "      --fill-color: #1967D2;\n",
              "      --hover-bg-color: #E2EBFA;\n",
              "      --hover-fill-color: #174EA6;\n",
              "      --disabled-fill-color: #AAA;\n",
              "      --disabled-bg-color: #DDD;\n",
              "  }\n",
              "\n",
              "  [theme=dark] .colab-df-quickchart {\n",
              "      --bg-color: #3B4455;\n",
              "      --fill-color: #D2E3FC;\n",
              "      --hover-bg-color: #434B5C;\n",
              "      --hover-fill-color: #FFFFFF;\n",
              "      --disabled-bg-color: #3B4455;\n",
              "      --disabled-fill-color: #666;\n",
              "  }\n",
              "\n",
              "  .colab-df-quickchart {\n",
              "    background-color: var(--bg-color);\n",
              "    border: none;\n",
              "    border-radius: 50%;\n",
              "    cursor: pointer;\n",
              "    display: none;\n",
              "    fill: var(--fill-color);\n",
              "    height: 32px;\n",
              "    padding: 0;\n",
              "    width: 32px;\n",
              "  }\n",
              "\n",
              "  .colab-df-quickchart:hover {\n",
              "    background-color: var(--hover-bg-color);\n",
              "    box-shadow: 0 1px 2px rgba(60, 64, 67, 0.3), 0 1px 3px 1px rgba(60, 64, 67, 0.15);\n",
              "    fill: var(--button-hover-fill-color);\n",
              "  }\n",
              "\n",
              "  .colab-df-quickchart-complete:disabled,\n",
              "  .colab-df-quickchart-complete:disabled:hover {\n",
              "    background-color: var(--disabled-bg-color);\n",
              "    fill: var(--disabled-fill-color);\n",
              "    box-shadow: none;\n",
              "  }\n",
              "\n",
              "  .colab-df-spinner {\n",
              "    border: 2px solid var(--fill-color);\n",
              "    border-color: transparent;\n",
              "    border-bottom-color: var(--fill-color);\n",
              "    animation:\n",
              "      spin 1s steps(1) infinite;\n",
              "  }\n",
              "\n",
              "  @keyframes spin {\n",
              "    0% {\n",
              "      border-color: transparent;\n",
              "      border-bottom-color: var(--fill-color);\n",
              "      border-left-color: var(--fill-color);\n",
              "    }\n",
              "    20% {\n",
              "      border-color: transparent;\n",
              "      border-left-color: var(--fill-color);\n",
              "      border-top-color: var(--fill-color);\n",
              "    }\n",
              "    30% {\n",
              "      border-color: transparent;\n",
              "      border-left-color: var(--fill-color);\n",
              "      border-top-color: var(--fill-color);\n",
              "      border-right-color: var(--fill-color);\n",
              "    }\n",
              "    40% {\n",
              "      border-color: transparent;\n",
              "      border-right-color: var(--fill-color);\n",
              "      border-top-color: var(--fill-color);\n",
              "    }\n",
              "    60% {\n",
              "      border-color: transparent;\n",
              "      border-right-color: var(--fill-color);\n",
              "    }\n",
              "    80% {\n",
              "      border-color: transparent;\n",
              "      border-right-color: var(--fill-color);\n",
              "      border-bottom-color: var(--fill-color);\n",
              "    }\n",
              "    90% {\n",
              "      border-color: transparent;\n",
              "      border-bottom-color: var(--fill-color);\n",
              "    }\n",
              "  }\n",
              "</style>\n",
              "\n",
              "  <script>\n",
              "    async function quickchart(key) {\n",
              "      const quickchartButtonEl =\n",
              "        document.querySelector('#' + key + ' button');\n",
              "      quickchartButtonEl.disabled = true;  // To prevent multiple clicks.\n",
              "      quickchartButtonEl.classList.add('colab-df-spinner');\n",
              "      try {\n",
              "        const charts = await google.colab.kernel.invokeFunction(\n",
              "            'suggestCharts', [key], {});\n",
              "      } catch (error) {\n",
              "        console.error('Error during call to suggestCharts:', error);\n",
              "      }\n",
              "      quickchartButtonEl.classList.remove('colab-df-spinner');\n",
              "      quickchartButtonEl.classList.add('colab-df-quickchart-complete');\n",
              "    }\n",
              "    (() => {\n",
              "      let quickchartButtonEl =\n",
              "        document.querySelector('#df-793781ea-e1e8-4376-9d6c-5de93e64d1f0 button');\n",
              "      quickchartButtonEl.style.display =\n",
              "        google.colab.kernel.accessAllowed ? 'block' : 'none';\n",
              "    })();\n",
              "  </script>\n",
              "</div>\n",
              "\n",
              "    </div>\n",
              "  </div>\n"
            ],
            "application/vnd.google.colaboratory.intrinsic+json": {
              "type": "dataframe",
              "variable_name": "df"
            }
          },
          "metadata": {},
          "execution_count": 4
        }
      ]
    },
    {
      "cell_type": "code",
      "source": [
        "df.dropna(axis=0, how='all', inplace=True)"
      ],
      "metadata": {
        "id": "3SDTJciIA-Tn"
      },
      "execution_count": 5,
      "outputs": []
    },
    {
      "cell_type": "code",
      "source": [
        "df.shape"
      ],
      "metadata": {
        "colab": {
          "base_uri": "https://localhost:8080/"
        },
        "id": "-IPzfdzzBIjy",
        "outputId": "80d9ebad-8d66-481e-c5ad-389fa9fb3d4d"
      },
      "execution_count": 6,
      "outputs": [
        {
          "output_type": "execute_result",
          "data": {
            "text/plain": [
              "(2263, 480)"
            ]
          },
          "metadata": {},
          "execution_count": 6
        }
      ]
    },
    {
      "cell_type": "code",
      "source": [
        "df.dropna(axis=1, how='any', inplace=True)"
      ],
      "metadata": {
        "id": "Co1_oe7BBK0p"
      },
      "execution_count": 7,
      "outputs": []
    },
    {
      "cell_type": "code",
      "source": [
        "df.shape"
      ],
      "metadata": {
        "colab": {
          "base_uri": "https://localhost:8080/"
        },
        "id": "xe9NcTSkBT2B",
        "outputId": "ddb14b40-b0b9-4280-9da8-2980205333e9"
      },
      "execution_count": 8,
      "outputs": [
        {
          "output_type": "execute_result",
          "data": {
            "text/plain": [
              "(2263, 429)"
            ]
          },
          "metadata": {},
          "execution_count": 8
        }
      ]
    },
    {
      "cell_type": "code",
      "source": [
        "df.isna().sum().sum()"
      ],
      "metadata": {
        "colab": {
          "base_uri": "https://localhost:8080/"
        },
        "id": "C3cHBTCVBV-g",
        "outputId": "aaba60f5-0233-49b9-84bd-ec680485d333"
      },
      "execution_count": 9,
      "outputs": [
        {
          "output_type": "execute_result",
          "data": {
            "text/plain": [
              "0"
            ]
          },
          "metadata": {},
          "execution_count": 9
        }
      ]
    },
    {
      "cell_type": "code",
      "source": [
        "df_returns = pd.DataFrame()"
      ],
      "metadata": {
        "id": "u0EdRwGdBdan"
      },
      "execution_count": 10,
      "outputs": []
    },
    {
      "cell_type": "code",
      "source": [
        "for name in df.columns:\n",
        "  df_returns[name] = np.log(df[name]).diff()\n"
      ],
      "metadata": {
        "id": "Y6j4CGxwCjer"
      },
      "execution_count": 23,
      "outputs": []
    },
    {
      "cell_type": "code",
      "source": [
        "df_returns.head()"
      ],
      "metadata": {
        "colab": {
          "base_uri": "https://localhost:8080/",
          "height": 373
        },
        "id": "aMK5xcpfB9Bn",
        "outputId": "922ed748-ff5d-43e7-c676-08b80103cc75"
      },
      "execution_count": 12,
      "outputs": [
        {
          "output_type": "execute_result",
          "data": {
            "text/plain": [
              "                CSCO       UAL      TROW      ISRG      PRGO       TPR  \\\n",
              "Date                                                                     \n",
              "2010-01-04       NaN       NaN       NaN       NaN       NaN       NaN   \n",
              "2010-01-05 -0.004465  0.083163  0.011151 -0.004512 -0.039429  0.012045   \n",
              "2010-01-06 -0.006531 -0.047102 -0.015757  0.014405 -0.012713  0.019402   \n",
              "2010-01-07  0.004494  0.020881 -0.000739 -0.003759 -0.008127  0.000534   \n",
              "2010-01-08  0.005286 -0.016369 -0.003889 -0.005519 -0.005543 -0.005886   \n",
              "\n",
              "                 DVN       MRO        BA      VRTX  ...         M       CRM  \\\n",
              "Date                                                ...                       \n",
              "2010-01-04       NaN       NaN       NaN       NaN  ...       NaN       NaN   \n",
              "2010-01-05  0.001044  0.000934  0.032227 -0.033559  ... -0.011793 -0.004286   \n",
              "2010-01-06 -0.003005  0.021850  0.029883 -0.017687  ...  0.014134 -0.001746   \n",
              "2010-01-07 -0.005906 -0.006107  0.039684 -0.012690  ...  0.022551 -0.004447   \n",
              "2010-01-08  0.001973  0.001530 -0.009693 -0.020203  ... -0.033133  0.001485   \n",
              "\n",
              "                 PGR       WAT       BWA      LRCX       NWL       UAA  \\\n",
              "Date                                                                     \n",
              "2010-01-04       NaN       NaN       NaN       NaN       NaN       NaN   \n",
              "2010-01-05 -0.003333 -0.013723  0.046560 -0.006793 -0.005939  0.029476   \n",
              "2010-01-06 -0.010067  0.001808  0.036075 -0.004555  0.017711  0.021889   \n",
              "2010-01-07 -0.013583  0.004260  0.013536 -0.001777  0.028207 -0.011911   \n",
              "2010-01-08  0.009075  0.000817 -0.018454  0.024841 -0.003166 -0.002056   \n",
              "\n",
              "                 BLK       PPL  \n",
              "Date                            \n",
              "2010-01-04       NaN       NaN  \n",
              "2010-01-05  0.004308 -0.013019  \n",
              "2010-01-06 -0.020832  0.002182  \n",
              "2010-01-07  0.010934 -0.009698  \n",
              "2010-01-08  0.007014 -0.003149  \n",
              "\n",
              "[5 rows x 429 columns]"
            ],
            "text/html": [
              "\n",
              "  <div id=\"df-990e3461-090a-43e2-8531-afe4ad7d69e3\" class=\"colab-df-container\">\n",
              "    <div>\n",
              "<style scoped>\n",
              "    .dataframe tbody tr th:only-of-type {\n",
              "        vertical-align: middle;\n",
              "    }\n",
              "\n",
              "    .dataframe tbody tr th {\n",
              "        vertical-align: top;\n",
              "    }\n",
              "\n",
              "    .dataframe thead th {\n",
              "        text-align: right;\n",
              "    }\n",
              "</style>\n",
              "<table border=\"1\" class=\"dataframe\">\n",
              "  <thead>\n",
              "    <tr style=\"text-align: right;\">\n",
              "      <th></th>\n",
              "      <th>CSCO</th>\n",
              "      <th>UAL</th>\n",
              "      <th>TROW</th>\n",
              "      <th>ISRG</th>\n",
              "      <th>PRGO</th>\n",
              "      <th>TPR</th>\n",
              "      <th>DVN</th>\n",
              "      <th>MRO</th>\n",
              "      <th>BA</th>\n",
              "      <th>VRTX</th>\n",
              "      <th>...</th>\n",
              "      <th>M</th>\n",
              "      <th>CRM</th>\n",
              "      <th>PGR</th>\n",
              "      <th>WAT</th>\n",
              "      <th>BWA</th>\n",
              "      <th>LRCX</th>\n",
              "      <th>NWL</th>\n",
              "      <th>UAA</th>\n",
              "      <th>BLK</th>\n",
              "      <th>PPL</th>\n",
              "    </tr>\n",
              "    <tr>\n",
              "      <th>Date</th>\n",
              "      <th></th>\n",
              "      <th></th>\n",
              "      <th></th>\n",
              "      <th></th>\n",
              "      <th></th>\n",
              "      <th></th>\n",
              "      <th></th>\n",
              "      <th></th>\n",
              "      <th></th>\n",
              "      <th></th>\n",
              "      <th></th>\n",
              "      <th></th>\n",
              "      <th></th>\n",
              "      <th></th>\n",
              "      <th></th>\n",
              "      <th></th>\n",
              "      <th></th>\n",
              "      <th></th>\n",
              "      <th></th>\n",
              "      <th></th>\n",
              "      <th></th>\n",
              "    </tr>\n",
              "  </thead>\n",
              "  <tbody>\n",
              "    <tr>\n",
              "      <th>2010-01-04</th>\n",
              "      <td>NaN</td>\n",
              "      <td>NaN</td>\n",
              "      <td>NaN</td>\n",
              "      <td>NaN</td>\n",
              "      <td>NaN</td>\n",
              "      <td>NaN</td>\n",
              "      <td>NaN</td>\n",
              "      <td>NaN</td>\n",
              "      <td>NaN</td>\n",
              "      <td>NaN</td>\n",
              "      <td>...</td>\n",
              "      <td>NaN</td>\n",
              "      <td>NaN</td>\n",
              "      <td>NaN</td>\n",
              "      <td>NaN</td>\n",
              "      <td>NaN</td>\n",
              "      <td>NaN</td>\n",
              "      <td>NaN</td>\n",
              "      <td>NaN</td>\n",
              "      <td>NaN</td>\n",
              "      <td>NaN</td>\n",
              "    </tr>\n",
              "    <tr>\n",
              "      <th>2010-01-05</th>\n",
              "      <td>-0.004465</td>\n",
              "      <td>0.083163</td>\n",
              "      <td>0.011151</td>\n",
              "      <td>-0.004512</td>\n",
              "      <td>-0.039429</td>\n",
              "      <td>0.012045</td>\n",
              "      <td>0.001044</td>\n",
              "      <td>0.000934</td>\n",
              "      <td>0.032227</td>\n",
              "      <td>-0.033559</td>\n",
              "      <td>...</td>\n",
              "      <td>-0.011793</td>\n",
              "      <td>-0.004286</td>\n",
              "      <td>-0.003333</td>\n",
              "      <td>-0.013723</td>\n",
              "      <td>0.046560</td>\n",
              "      <td>-0.006793</td>\n",
              "      <td>-0.005939</td>\n",
              "      <td>0.029476</td>\n",
              "      <td>0.004308</td>\n",
              "      <td>-0.013019</td>\n",
              "    </tr>\n",
              "    <tr>\n",
              "      <th>2010-01-06</th>\n",
              "      <td>-0.006531</td>\n",
              "      <td>-0.047102</td>\n",
              "      <td>-0.015757</td>\n",
              "      <td>0.014405</td>\n",
              "      <td>-0.012713</td>\n",
              "      <td>0.019402</td>\n",
              "      <td>-0.003005</td>\n",
              "      <td>0.021850</td>\n",
              "      <td>0.029883</td>\n",
              "      <td>-0.017687</td>\n",
              "      <td>...</td>\n",
              "      <td>0.014134</td>\n",
              "      <td>-0.001746</td>\n",
              "      <td>-0.010067</td>\n",
              "      <td>0.001808</td>\n",
              "      <td>0.036075</td>\n",
              "      <td>-0.004555</td>\n",
              "      <td>0.017711</td>\n",
              "      <td>0.021889</td>\n",
              "      <td>-0.020832</td>\n",
              "      <td>0.002182</td>\n",
              "    </tr>\n",
              "    <tr>\n",
              "      <th>2010-01-07</th>\n",
              "      <td>0.004494</td>\n",
              "      <td>0.020881</td>\n",
              "      <td>-0.000739</td>\n",
              "      <td>-0.003759</td>\n",
              "      <td>-0.008127</td>\n",
              "      <td>0.000534</td>\n",
              "      <td>-0.005906</td>\n",
              "      <td>-0.006107</td>\n",
              "      <td>0.039684</td>\n",
              "      <td>-0.012690</td>\n",
              "      <td>...</td>\n",
              "      <td>0.022551</td>\n",
              "      <td>-0.004447</td>\n",
              "      <td>-0.013583</td>\n",
              "      <td>0.004260</td>\n",
              "      <td>0.013536</td>\n",
              "      <td>-0.001777</td>\n",
              "      <td>0.028207</td>\n",
              "      <td>-0.011911</td>\n",
              "      <td>0.010934</td>\n",
              "      <td>-0.009698</td>\n",
              "    </tr>\n",
              "    <tr>\n",
              "      <th>2010-01-08</th>\n",
              "      <td>0.005286</td>\n",
              "      <td>-0.016369</td>\n",
              "      <td>-0.003889</td>\n",
              "      <td>-0.005519</td>\n",
              "      <td>-0.005543</td>\n",
              "      <td>-0.005886</td>\n",
              "      <td>0.001973</td>\n",
              "      <td>0.001530</td>\n",
              "      <td>-0.009693</td>\n",
              "      <td>-0.020203</td>\n",
              "      <td>...</td>\n",
              "      <td>-0.033133</td>\n",
              "      <td>0.001485</td>\n",
              "      <td>0.009075</td>\n",
              "      <td>0.000817</td>\n",
              "      <td>-0.018454</td>\n",
              "      <td>0.024841</td>\n",
              "      <td>-0.003166</td>\n",
              "      <td>-0.002056</td>\n",
              "      <td>0.007014</td>\n",
              "      <td>-0.003149</td>\n",
              "    </tr>\n",
              "  </tbody>\n",
              "</table>\n",
              "<p>5 rows × 429 columns</p>\n",
              "</div>\n",
              "    <div class=\"colab-df-buttons\">\n",
              "\n",
              "  <div class=\"colab-df-container\">\n",
              "    <button class=\"colab-df-convert\" onclick=\"convertToInteractive('df-990e3461-090a-43e2-8531-afe4ad7d69e3')\"\n",
              "            title=\"Convert this dataframe to an interactive table.\"\n",
              "            style=\"display:none;\">\n",
              "\n",
              "  <svg xmlns=\"http://www.w3.org/2000/svg\" height=\"24px\" viewBox=\"0 -960 960 960\">\n",
              "    <path d=\"M120-120v-720h720v720H120Zm60-500h600v-160H180v160Zm220 220h160v-160H400v160Zm0 220h160v-160H400v160ZM180-400h160v-160H180v160Zm440 0h160v-160H620v160ZM180-180h160v-160H180v160Zm440 0h160v-160H620v160Z\"/>\n",
              "  </svg>\n",
              "    </button>\n",
              "\n",
              "  <style>\n",
              "    .colab-df-container {\n",
              "      display:flex;\n",
              "      gap: 12px;\n",
              "    }\n",
              "\n",
              "    .colab-df-convert {\n",
              "      background-color: #E8F0FE;\n",
              "      border: none;\n",
              "      border-radius: 50%;\n",
              "      cursor: pointer;\n",
              "      display: none;\n",
              "      fill: #1967D2;\n",
              "      height: 32px;\n",
              "      padding: 0 0 0 0;\n",
              "      width: 32px;\n",
              "    }\n",
              "\n",
              "    .colab-df-convert:hover {\n",
              "      background-color: #E2EBFA;\n",
              "      box-shadow: 0px 1px 2px rgba(60, 64, 67, 0.3), 0px 1px 3px 1px rgba(60, 64, 67, 0.15);\n",
              "      fill: #174EA6;\n",
              "    }\n",
              "\n",
              "    .colab-df-buttons div {\n",
              "      margin-bottom: 4px;\n",
              "    }\n",
              "\n",
              "    [theme=dark] .colab-df-convert {\n",
              "      background-color: #3B4455;\n",
              "      fill: #D2E3FC;\n",
              "    }\n",
              "\n",
              "    [theme=dark] .colab-df-convert:hover {\n",
              "      background-color: #434B5C;\n",
              "      box-shadow: 0px 1px 3px 1px rgba(0, 0, 0, 0.15);\n",
              "      filter: drop-shadow(0px 1px 2px rgba(0, 0, 0, 0.3));\n",
              "      fill: #FFFFFF;\n",
              "    }\n",
              "  </style>\n",
              "\n",
              "    <script>\n",
              "      const buttonEl =\n",
              "        document.querySelector('#df-990e3461-090a-43e2-8531-afe4ad7d69e3 button.colab-df-convert');\n",
              "      buttonEl.style.display =\n",
              "        google.colab.kernel.accessAllowed ? 'block' : 'none';\n",
              "\n",
              "      async function convertToInteractive(key) {\n",
              "        const element = document.querySelector('#df-990e3461-090a-43e2-8531-afe4ad7d69e3');\n",
              "        const dataTable =\n",
              "          await google.colab.kernel.invokeFunction('convertToInteractive',\n",
              "                                                    [key], {});\n",
              "        if (!dataTable) return;\n",
              "\n",
              "        const docLinkHtml = 'Like what you see? Visit the ' +\n",
              "          '<a target=\"_blank\" href=https://colab.research.google.com/notebooks/data_table.ipynb>data table notebook</a>'\n",
              "          + ' to learn more about interactive tables.';\n",
              "        element.innerHTML = '';\n",
              "        dataTable['output_type'] = 'display_data';\n",
              "        await google.colab.output.renderOutput(dataTable, element);\n",
              "        const docLink = document.createElement('div');\n",
              "        docLink.innerHTML = docLinkHtml;\n",
              "        element.appendChild(docLink);\n",
              "      }\n",
              "    </script>\n",
              "  </div>\n",
              "\n",
              "\n",
              "<div id=\"df-cc7a7ac3-7e24-4b33-bc92-b37f6b964e17\">\n",
              "  <button class=\"colab-df-quickchart\" onclick=\"quickchart('df-cc7a7ac3-7e24-4b33-bc92-b37f6b964e17')\"\n",
              "            title=\"Suggest charts\"\n",
              "            style=\"display:none;\">\n",
              "\n",
              "<svg xmlns=\"http://www.w3.org/2000/svg\" height=\"24px\"viewBox=\"0 0 24 24\"\n",
              "     width=\"24px\">\n",
              "    <g>\n",
              "        <path d=\"M19 3H5c-1.1 0-2 .9-2 2v14c0 1.1.9 2 2 2h14c1.1 0 2-.9 2-2V5c0-1.1-.9-2-2-2zM9 17H7v-7h2v7zm4 0h-2V7h2v10zm4 0h-2v-4h2v4z\"/>\n",
              "    </g>\n",
              "</svg>\n",
              "  </button>\n",
              "\n",
              "<style>\n",
              "  .colab-df-quickchart {\n",
              "      --bg-color: #E8F0FE;\n",
              "      --fill-color: #1967D2;\n",
              "      --hover-bg-color: #E2EBFA;\n",
              "      --hover-fill-color: #174EA6;\n",
              "      --disabled-fill-color: #AAA;\n",
              "      --disabled-bg-color: #DDD;\n",
              "  }\n",
              "\n",
              "  [theme=dark] .colab-df-quickchart {\n",
              "      --bg-color: #3B4455;\n",
              "      --fill-color: #D2E3FC;\n",
              "      --hover-bg-color: #434B5C;\n",
              "      --hover-fill-color: #FFFFFF;\n",
              "      --disabled-bg-color: #3B4455;\n",
              "      --disabled-fill-color: #666;\n",
              "  }\n",
              "\n",
              "  .colab-df-quickchart {\n",
              "    background-color: var(--bg-color);\n",
              "    border: none;\n",
              "    border-radius: 50%;\n",
              "    cursor: pointer;\n",
              "    display: none;\n",
              "    fill: var(--fill-color);\n",
              "    height: 32px;\n",
              "    padding: 0;\n",
              "    width: 32px;\n",
              "  }\n",
              "\n",
              "  .colab-df-quickchart:hover {\n",
              "    background-color: var(--hover-bg-color);\n",
              "    box-shadow: 0 1px 2px rgba(60, 64, 67, 0.3), 0 1px 3px 1px rgba(60, 64, 67, 0.15);\n",
              "    fill: var(--button-hover-fill-color);\n",
              "  }\n",
              "\n",
              "  .colab-df-quickchart-complete:disabled,\n",
              "  .colab-df-quickchart-complete:disabled:hover {\n",
              "    background-color: var(--disabled-bg-color);\n",
              "    fill: var(--disabled-fill-color);\n",
              "    box-shadow: none;\n",
              "  }\n",
              "\n",
              "  .colab-df-spinner {\n",
              "    border: 2px solid var(--fill-color);\n",
              "    border-color: transparent;\n",
              "    border-bottom-color: var(--fill-color);\n",
              "    animation:\n",
              "      spin 1s steps(1) infinite;\n",
              "  }\n",
              "\n",
              "  @keyframes spin {\n",
              "    0% {\n",
              "      border-color: transparent;\n",
              "      border-bottom-color: var(--fill-color);\n",
              "      border-left-color: var(--fill-color);\n",
              "    }\n",
              "    20% {\n",
              "      border-color: transparent;\n",
              "      border-left-color: var(--fill-color);\n",
              "      border-top-color: var(--fill-color);\n",
              "    }\n",
              "    30% {\n",
              "      border-color: transparent;\n",
              "      border-left-color: var(--fill-color);\n",
              "      border-top-color: var(--fill-color);\n",
              "      border-right-color: var(--fill-color);\n",
              "    }\n",
              "    40% {\n",
              "      border-color: transparent;\n",
              "      border-right-color: var(--fill-color);\n",
              "      border-top-color: var(--fill-color);\n",
              "    }\n",
              "    60% {\n",
              "      border-color: transparent;\n",
              "      border-right-color: var(--fill-color);\n",
              "    }\n",
              "    80% {\n",
              "      border-color: transparent;\n",
              "      border-right-color: var(--fill-color);\n",
              "      border-bottom-color: var(--fill-color);\n",
              "    }\n",
              "    90% {\n",
              "      border-color: transparent;\n",
              "      border-bottom-color: var(--fill-color);\n",
              "    }\n",
              "  }\n",
              "</style>\n",
              "\n",
              "  <script>\n",
              "    async function quickchart(key) {\n",
              "      const quickchartButtonEl =\n",
              "        document.querySelector('#' + key + ' button');\n",
              "      quickchartButtonEl.disabled = true;  // To prevent multiple clicks.\n",
              "      quickchartButtonEl.classList.add('colab-df-spinner');\n",
              "      try {\n",
              "        const charts = await google.colab.kernel.invokeFunction(\n",
              "            'suggestCharts', [key], {});\n",
              "      } catch (error) {\n",
              "        console.error('Error during call to suggestCharts:', error);\n",
              "      }\n",
              "      quickchartButtonEl.classList.remove('colab-df-spinner');\n",
              "      quickchartButtonEl.classList.add('colab-df-quickchart-complete');\n",
              "    }\n",
              "    (() => {\n",
              "      let quickchartButtonEl =\n",
              "        document.querySelector('#df-cc7a7ac3-7e24-4b33-bc92-b37f6b964e17 button');\n",
              "      quickchartButtonEl.style.display =\n",
              "        google.colab.kernel.accessAllowed ? 'block' : 'none';\n",
              "    })();\n",
              "  </script>\n",
              "</div>\n",
              "\n",
              "    </div>\n",
              "  </div>\n"
            ],
            "application/vnd.google.colaboratory.intrinsic+json": {
              "type": "dataframe",
              "variable_name": "df_returns"
            }
          },
          "metadata": {},
          "execution_count": 12
        }
      ]
    },
    {
      "cell_type": "code",
      "source": [
        "df_returns['SPY'] = df_returns['SPY'].shift(-1)\n",
        "df_returns['SPY'].tail()"
      ],
      "metadata": {
        "colab": {
          "base_uri": "https://localhost:8080/"
        },
        "id": "QrHea13RDFQ-",
        "outputId": "17b74137-3869-42af-ff7e-9c0b7543435e"
      },
      "execution_count": 13,
      "outputs": [
        {
          "output_type": "execute_result",
          "data": {
            "text/plain": [
              "Date\n",
              "2018-12-21   -0.026778\n",
              "2018-12-24    0.049290\n",
              "2018-12-26    0.007648\n",
              "2018-12-27   -0.001291\n",
              "2018-12-28         NaN\n",
              "Name: SPY, dtype: float64"
            ]
          },
          "metadata": {},
          "execution_count": 13
        }
      ]
    },
    {
      "cell_type": "code",
      "source": [
        "Ntest = 1000\n",
        "train = df_returns.iloc[1:-Ntest]\n",
        "test = df_returns.iloc[-Ntest:-1]"
      ],
      "metadata": {
        "id": "quIxOYlHDS7K"
      },
      "execution_count": 14,
      "outputs": []
    },
    {
      "cell_type": "code",
      "source": [
        "df_returns.columns"
      ],
      "metadata": {
        "colab": {
          "base_uri": "https://localhost:8080/"
        },
        "id": "hGVvocXqhBkO",
        "outputId": "1953f801-a1c7-4c6e-bdb4-b58f310f7aeb"
      },
      "execution_count": 15,
      "outputs": [
        {
          "output_type": "execute_result",
          "data": {
            "text/plain": [
              "Index(['CSCO', 'UAL', 'TROW', 'ISRG', 'PRGO', 'TPR', 'DVN', 'MRO', 'BA',\n",
              "       'VRTX',\n",
              "       ...\n",
              "       'M', 'CRM', 'PGR', 'WAT', 'BWA', 'LRCX', 'NWL', 'UAA', 'BLK', 'PPL'],\n",
              "      dtype='object', length=429)"
            ]
          },
          "metadata": {},
          "execution_count": 15
        }
      ]
    },
    {
      "cell_type": "code",
      "source": [
        "# x_cols = df.columns.drop('SPY')\n",
        "x_cols = ['AAPL', 'MSFT', 'AMZN', 'JNJ', 'V', 'PG', 'JPM']\n",
        "x_cols"
      ],
      "metadata": {
        "colab": {
          "base_uri": "https://localhost:8080/"
        },
        "id": "UewV1KMshDie",
        "outputId": "6168296f-4860-476c-b0d7-8549016d6ff6"
      },
      "execution_count": 16,
      "outputs": [
        {
          "output_type": "execute_result",
          "data": {
            "text/plain": [
              "['AAPL', 'MSFT', 'AMZN', 'JNJ', 'V', 'PG', 'JPM']"
            ]
          },
          "metadata": {},
          "execution_count": 16
        }
      ]
    },
    {
      "cell_type": "code",
      "source": [
        "Xtrain = train[x_cols]\n",
        "Ytrain = train['SPY']\n",
        "Xtest = test[x_cols]\n",
        "Ytest = test['SPY']"
      ],
      "metadata": {
        "id": "ZC2e6PYKhRrq"
      },
      "execution_count": 17,
      "outputs": []
    },
    {
      "cell_type": "code",
      "source": [
        "Xtrain.head()"
      ],
      "metadata": {
        "colab": {
          "base_uri": "https://localhost:8080/",
          "height": 237
        },
        "id": "bgzaRU5rhnm5",
        "outputId": "b20ef566-694d-4b32-ed3f-f3ace34e2d4a"
      },
      "execution_count": 18,
      "outputs": [
        {
          "output_type": "execute_result",
          "data": {
            "text/plain": [
              "                AAPL      MSFT      AMZN       JNJ         V        PG  \\\n",
              "Date                                                                     \n",
              "2010-01-05  0.001727  0.000323  0.005883 -0.011663 -0.011525  0.000327   \n",
              "2010-01-06 -0.016034 -0.006156 -0.018282  0.008101 -0.013519 -0.004755   \n",
              "2010-01-07 -0.001850 -0.010454 -0.017160 -0.007163  0.009264 -0.005438   \n",
              "2010-01-08  0.006626  0.006873  0.026717  0.003432  0.002762 -0.001323   \n",
              "2010-01-11 -0.008861 -0.012802 -0.024335  0.000156 -0.002878 -0.003979   \n",
              "\n",
              "                 JPM  \n",
              "Date                  \n",
              "2010-01-05  0.019185  \n",
              "2010-01-06  0.005479  \n",
              "2010-01-07  0.019615  \n",
              "2010-01-08 -0.002459  \n",
              "2010-01-11 -0.003363  "
            ],
            "text/html": [
              "\n",
              "  <div id=\"df-570539b6-ac53-40c5-92e5-029536b3e41d\" class=\"colab-df-container\">\n",
              "    <div>\n",
              "<style scoped>\n",
              "    .dataframe tbody tr th:only-of-type {\n",
              "        vertical-align: middle;\n",
              "    }\n",
              "\n",
              "    .dataframe tbody tr th {\n",
              "        vertical-align: top;\n",
              "    }\n",
              "\n",
              "    .dataframe thead th {\n",
              "        text-align: right;\n",
              "    }\n",
              "</style>\n",
              "<table border=\"1\" class=\"dataframe\">\n",
              "  <thead>\n",
              "    <tr style=\"text-align: right;\">\n",
              "      <th></th>\n",
              "      <th>AAPL</th>\n",
              "      <th>MSFT</th>\n",
              "      <th>AMZN</th>\n",
              "      <th>JNJ</th>\n",
              "      <th>V</th>\n",
              "      <th>PG</th>\n",
              "      <th>JPM</th>\n",
              "    </tr>\n",
              "    <tr>\n",
              "      <th>Date</th>\n",
              "      <th></th>\n",
              "      <th></th>\n",
              "      <th></th>\n",
              "      <th></th>\n",
              "      <th></th>\n",
              "      <th></th>\n",
              "      <th></th>\n",
              "    </tr>\n",
              "  </thead>\n",
              "  <tbody>\n",
              "    <tr>\n",
              "      <th>2010-01-05</th>\n",
              "      <td>0.001727</td>\n",
              "      <td>0.000323</td>\n",
              "      <td>0.005883</td>\n",
              "      <td>-0.011663</td>\n",
              "      <td>-0.011525</td>\n",
              "      <td>0.000327</td>\n",
              "      <td>0.019185</td>\n",
              "    </tr>\n",
              "    <tr>\n",
              "      <th>2010-01-06</th>\n",
              "      <td>-0.016034</td>\n",
              "      <td>-0.006156</td>\n",
              "      <td>-0.018282</td>\n",
              "      <td>0.008101</td>\n",
              "      <td>-0.013519</td>\n",
              "      <td>-0.004755</td>\n",
              "      <td>0.005479</td>\n",
              "    </tr>\n",
              "    <tr>\n",
              "      <th>2010-01-07</th>\n",
              "      <td>-0.001850</td>\n",
              "      <td>-0.010454</td>\n",
              "      <td>-0.017160</td>\n",
              "      <td>-0.007163</td>\n",
              "      <td>0.009264</td>\n",
              "      <td>-0.005438</td>\n",
              "      <td>0.019615</td>\n",
              "    </tr>\n",
              "    <tr>\n",
              "      <th>2010-01-08</th>\n",
              "      <td>0.006626</td>\n",
              "      <td>0.006873</td>\n",
              "      <td>0.026717</td>\n",
              "      <td>0.003432</td>\n",
              "      <td>0.002762</td>\n",
              "      <td>-0.001323</td>\n",
              "      <td>-0.002459</td>\n",
              "    </tr>\n",
              "    <tr>\n",
              "      <th>2010-01-11</th>\n",
              "      <td>-0.008861</td>\n",
              "      <td>-0.012802</td>\n",
              "      <td>-0.024335</td>\n",
              "      <td>0.000156</td>\n",
              "      <td>-0.002878</td>\n",
              "      <td>-0.003979</td>\n",
              "      <td>-0.003363</td>\n",
              "    </tr>\n",
              "  </tbody>\n",
              "</table>\n",
              "</div>\n",
              "    <div class=\"colab-df-buttons\">\n",
              "\n",
              "  <div class=\"colab-df-container\">\n",
              "    <button class=\"colab-df-convert\" onclick=\"convertToInteractive('df-570539b6-ac53-40c5-92e5-029536b3e41d')\"\n",
              "            title=\"Convert this dataframe to an interactive table.\"\n",
              "            style=\"display:none;\">\n",
              "\n",
              "  <svg xmlns=\"http://www.w3.org/2000/svg\" height=\"24px\" viewBox=\"0 -960 960 960\">\n",
              "    <path d=\"M120-120v-720h720v720H120Zm60-500h600v-160H180v160Zm220 220h160v-160H400v160Zm0 220h160v-160H400v160ZM180-400h160v-160H180v160Zm440 0h160v-160H620v160ZM180-180h160v-160H180v160Zm440 0h160v-160H620v160Z\"/>\n",
              "  </svg>\n",
              "    </button>\n",
              "\n",
              "  <style>\n",
              "    .colab-df-container {\n",
              "      display:flex;\n",
              "      gap: 12px;\n",
              "    }\n",
              "\n",
              "    .colab-df-convert {\n",
              "      background-color: #E8F0FE;\n",
              "      border: none;\n",
              "      border-radius: 50%;\n",
              "      cursor: pointer;\n",
              "      display: none;\n",
              "      fill: #1967D2;\n",
              "      height: 32px;\n",
              "      padding: 0 0 0 0;\n",
              "      width: 32px;\n",
              "    }\n",
              "\n",
              "    .colab-df-convert:hover {\n",
              "      background-color: #E2EBFA;\n",
              "      box-shadow: 0px 1px 2px rgba(60, 64, 67, 0.3), 0px 1px 3px 1px rgba(60, 64, 67, 0.15);\n",
              "      fill: #174EA6;\n",
              "    }\n",
              "\n",
              "    .colab-df-buttons div {\n",
              "      margin-bottom: 4px;\n",
              "    }\n",
              "\n",
              "    [theme=dark] .colab-df-convert {\n",
              "      background-color: #3B4455;\n",
              "      fill: #D2E3FC;\n",
              "    }\n",
              "\n",
              "    [theme=dark] .colab-df-convert:hover {\n",
              "      background-color: #434B5C;\n",
              "      box-shadow: 0px 1px 3px 1px rgba(0, 0, 0, 0.15);\n",
              "      filter: drop-shadow(0px 1px 2px rgba(0, 0, 0, 0.3));\n",
              "      fill: #FFFFFF;\n",
              "    }\n",
              "  </style>\n",
              "\n",
              "    <script>\n",
              "      const buttonEl =\n",
              "        document.querySelector('#df-570539b6-ac53-40c5-92e5-029536b3e41d button.colab-df-convert');\n",
              "      buttonEl.style.display =\n",
              "        google.colab.kernel.accessAllowed ? 'block' : 'none';\n",
              "\n",
              "      async function convertToInteractive(key) {\n",
              "        const element = document.querySelector('#df-570539b6-ac53-40c5-92e5-029536b3e41d');\n",
              "        const dataTable =\n",
              "          await google.colab.kernel.invokeFunction('convertToInteractive',\n",
              "                                                    [key], {});\n",
              "        if (!dataTable) return;\n",
              "\n",
              "        const docLinkHtml = 'Like what you see? Visit the ' +\n",
              "          '<a target=\"_blank\" href=https://colab.research.google.com/notebooks/data_table.ipynb>data table notebook</a>'\n",
              "          + ' to learn more about interactive tables.';\n",
              "        element.innerHTML = '';\n",
              "        dataTable['output_type'] = 'display_data';\n",
              "        await google.colab.output.renderOutput(dataTable, element);\n",
              "        const docLink = document.createElement('div');\n",
              "        docLink.innerHTML = docLinkHtml;\n",
              "        element.appendChild(docLink);\n",
              "      }\n",
              "    </script>\n",
              "  </div>\n",
              "\n",
              "\n",
              "<div id=\"df-dd9dfe86-6217-4853-bbcb-7b4e684214f0\">\n",
              "  <button class=\"colab-df-quickchart\" onclick=\"quickchart('df-dd9dfe86-6217-4853-bbcb-7b4e684214f0')\"\n",
              "            title=\"Suggest charts\"\n",
              "            style=\"display:none;\">\n",
              "\n",
              "<svg xmlns=\"http://www.w3.org/2000/svg\" height=\"24px\"viewBox=\"0 0 24 24\"\n",
              "     width=\"24px\">\n",
              "    <g>\n",
              "        <path d=\"M19 3H5c-1.1 0-2 .9-2 2v14c0 1.1.9 2 2 2h14c1.1 0 2-.9 2-2V5c0-1.1-.9-2-2-2zM9 17H7v-7h2v7zm4 0h-2V7h2v10zm4 0h-2v-4h2v4z\"/>\n",
              "    </g>\n",
              "</svg>\n",
              "  </button>\n",
              "\n",
              "<style>\n",
              "  .colab-df-quickchart {\n",
              "      --bg-color: #E8F0FE;\n",
              "      --fill-color: #1967D2;\n",
              "      --hover-bg-color: #E2EBFA;\n",
              "      --hover-fill-color: #174EA6;\n",
              "      --disabled-fill-color: #AAA;\n",
              "      --disabled-bg-color: #DDD;\n",
              "  }\n",
              "\n",
              "  [theme=dark] .colab-df-quickchart {\n",
              "      --bg-color: #3B4455;\n",
              "      --fill-color: #D2E3FC;\n",
              "      --hover-bg-color: #434B5C;\n",
              "      --hover-fill-color: #FFFFFF;\n",
              "      --disabled-bg-color: #3B4455;\n",
              "      --disabled-fill-color: #666;\n",
              "  }\n",
              "\n",
              "  .colab-df-quickchart {\n",
              "    background-color: var(--bg-color);\n",
              "    border: none;\n",
              "    border-radius: 50%;\n",
              "    cursor: pointer;\n",
              "    display: none;\n",
              "    fill: var(--fill-color);\n",
              "    height: 32px;\n",
              "    padding: 0;\n",
              "    width: 32px;\n",
              "  }\n",
              "\n",
              "  .colab-df-quickchart:hover {\n",
              "    background-color: var(--hover-bg-color);\n",
              "    box-shadow: 0 1px 2px rgba(60, 64, 67, 0.3), 0 1px 3px 1px rgba(60, 64, 67, 0.15);\n",
              "    fill: var(--button-hover-fill-color);\n",
              "  }\n",
              "\n",
              "  .colab-df-quickchart-complete:disabled,\n",
              "  .colab-df-quickchart-complete:disabled:hover {\n",
              "    background-color: var(--disabled-bg-color);\n",
              "    fill: var(--disabled-fill-color);\n",
              "    box-shadow: none;\n",
              "  }\n",
              "\n",
              "  .colab-df-spinner {\n",
              "    border: 2px solid var(--fill-color);\n",
              "    border-color: transparent;\n",
              "    border-bottom-color: var(--fill-color);\n",
              "    animation:\n",
              "      spin 1s steps(1) infinite;\n",
              "  }\n",
              "\n",
              "  @keyframes spin {\n",
              "    0% {\n",
              "      border-color: transparent;\n",
              "      border-bottom-color: var(--fill-color);\n",
              "      border-left-color: var(--fill-color);\n",
              "    }\n",
              "    20% {\n",
              "      border-color: transparent;\n",
              "      border-left-color: var(--fill-color);\n",
              "      border-top-color: var(--fill-color);\n",
              "    }\n",
              "    30% {\n",
              "      border-color: transparent;\n",
              "      border-left-color: var(--fill-color);\n",
              "      border-top-color: var(--fill-color);\n",
              "      border-right-color: var(--fill-color);\n",
              "    }\n",
              "    40% {\n",
              "      border-color: transparent;\n",
              "      border-right-color: var(--fill-color);\n",
              "      border-top-color: var(--fill-color);\n",
              "    }\n",
              "    60% {\n",
              "      border-color: transparent;\n",
              "      border-right-color: var(--fill-color);\n",
              "    }\n",
              "    80% {\n",
              "      border-color: transparent;\n",
              "      border-right-color: var(--fill-color);\n",
              "      border-bottom-color: var(--fill-color);\n",
              "    }\n",
              "    90% {\n",
              "      border-color: transparent;\n",
              "      border-bottom-color: var(--fill-color);\n",
              "    }\n",
              "  }\n",
              "</style>\n",
              "\n",
              "  <script>\n",
              "    async function quickchart(key) {\n",
              "      const quickchartButtonEl =\n",
              "        document.querySelector('#' + key + ' button');\n",
              "      quickchartButtonEl.disabled = true;  // To prevent multiple clicks.\n",
              "      quickchartButtonEl.classList.add('colab-df-spinner');\n",
              "      try {\n",
              "        const charts = await google.colab.kernel.invokeFunction(\n",
              "            'suggestCharts', [key], {});\n",
              "      } catch (error) {\n",
              "        console.error('Error during call to suggestCharts:', error);\n",
              "      }\n",
              "      quickchartButtonEl.classList.remove('colab-df-spinner');\n",
              "      quickchartButtonEl.classList.add('colab-df-quickchart-complete');\n",
              "    }\n",
              "    (() => {\n",
              "      let quickchartButtonEl =\n",
              "        document.querySelector('#df-dd9dfe86-6217-4853-bbcb-7b4e684214f0 button');\n",
              "      quickchartButtonEl.style.display =\n",
              "        google.colab.kernel.accessAllowed ? 'block' : 'none';\n",
              "    })();\n",
              "  </script>\n",
              "</div>\n",
              "\n",
              "    </div>\n",
              "  </div>\n"
            ],
            "application/vnd.google.colaboratory.intrinsic+json": {
              "type": "dataframe",
              "variable_name": "Xtrain",
              "summary": "{\n  \"name\": \"Xtrain\",\n  \"rows\": 1262,\n  \"fields\": [\n    {\n      \"column\": \"Date\",\n      \"properties\": {\n        \"dtype\": \"date\",\n        \"min\": \"2010-01-05 00:00:00\",\n        \"max\": \"2015-01-08 00:00:00\",\n        \"num_unique_values\": 1262,\n        \"samples\": [\n          \"2014-10-20 00:00:00\",\n          \"2013-06-18 00:00:00\",\n          \"2012-02-14 00:00:00\"\n        ],\n        \"semantic_type\": \"\",\n        \"description\": \"\"\n      }\n    },\n    {\n      \"column\": \"AAPL\",\n      \"properties\": {\n        \"dtype\": \"number\",\n        \"std\": 0.016836421558920643,\n        \"min\": -0.1318846984326294,\n        \"max\": 0.08502232447975011,\n        \"num_unique_values\": 1262,\n        \"samples\": [\n          0.021172892073453298,\n          -0.0005325922920533799,\n          0.01355665685373797\n        ],\n        \"semantic_type\": \"\",\n        \"description\": \"\"\n      }\n    },\n    {\n      \"column\": \"MSFT\",\n      \"properties\": {\n        \"dtype\": \"number\",\n        \"std\": 0.013990220193753393,\n        \"min\": -0.1210332062216426,\n        \"max\": 0.07032985767139044,\n        \"num_unique_values\": 1247,\n        \"samples\": [\n          -0.004178089609010893,\n          0.0022496853673743544,\n          0.0037162921547744254\n        ],\n        \"semantic_type\": \"\",\n        \"description\": \"\"\n      }\n    },\n    {\n      \"column\": \"AMZN\",\n      \"properties\": {\n        \"dtype\": \"number\",\n        \"std\": 0.02055842133446308,\n        \"min\": -0.13532540124834913,\n        \"max\": 0.14622536746693982,\n        \"num_unique_values\": 1257,\n        \"samples\": [\n          -0.03216025972578507,\n          0.024605527062636412,\n          -0.018319758271558406\n        ],\n        \"semantic_type\": \"\",\n        \"description\": \"\"\n      }\n    },\n    {\n      \"column\": \"JNJ\",\n      \"properties\": {\n        \"dtype\": \"number\",\n        \"std\": 0.00863622390145936,\n        \"min\": -0.032682647022853395,\n        \"max\": 0.05242219069131959,\n        \"num_unique_values\": 1245,\n        \"samples\": [\n          0.00014087683269359275,\n          -0.0015556703524106652,\n          0.009910912733824162\n        ],\n        \"semantic_type\": \"\",\n        \"description\": \"\"\n      }\n    },\n    {\n      \"column\": \"V\",\n      \"properties\": {\n        \"dtype\": \"number\",\n        \"std\": 0.01642732814216896,\n        \"min\": -0.13550146578753353,\n        \"max\": 0.13973885264087116,\n        \"num_unique_values\": 1261,\n        \"samples\": [\n          0.014126323121641526,\n          -0.015714097911065927,\n          -0.004287853947900544\n        ],\n        \"semantic_type\": \"\",\n        \"description\": \"\"\n      }\n    },\n    {\n      \"column\": \"PG\",\n      \"properties\": {\n        \"dtype\": \"number\",\n        \"std\": 0.008826133924418377,\n        \"min\": -0.0679203494996754,\n        \"max\": 0.03961161060284013,\n        \"num_unique_values\": 1246,\n        \"samples\": [\n          -0.01588020186656358,\n          0.013829809178608876,\n          0.0026222038733729747\n        ],\n        \"semantic_type\": \"\",\n        \"description\": \"\"\n      }\n    },\n    {\n      \"column\": \"JPM\",\n      \"properties\": {\n        \"dtype\": \"number\",\n        \"std\": 0.01799454711925233,\n        \"min\": -0.09888029425966094,\n        \"max\": 0.08101185304191283,\n        \"num_unique_values\": 1254,\n        \"samples\": [\n          0.02210034206017575,\n          -0.02662729969506783,\n          -0.004363277708390179\n        ],\n        \"semantic_type\": \"\",\n        \"description\": \"\"\n      }\n    }\n  ]\n}"
            }
          },
          "metadata": {},
          "execution_count": 18
        }
      ]
    },
    {
      "cell_type": "code",
      "source": [
        "Ytrain.head()"
      ],
      "metadata": {
        "colab": {
          "base_uri": "https://localhost:8080/"
        },
        "id": "D4YRJ47nhqY4",
        "outputId": "22a28d8b-9644-4289-a152-fdc2f4063786"
      },
      "execution_count": 19,
      "outputs": [
        {
          "output_type": "execute_result",
          "data": {
            "text/plain": [
              "Date\n",
              "2010-01-05    0.000704\n",
              "2010-01-06    0.004212\n",
              "2010-01-07    0.003322\n",
              "2010-01-08    0.001396\n",
              "2010-01-11   -0.009370\n",
              "Name: SPY, dtype: float64"
            ]
          },
          "metadata": {},
          "execution_count": 19
        }
      ]
    },
    {
      "cell_type": "code",
      "source": [
        "from sklearn.linear_model import LinearRegression\n",
        "model = LinearRegression()\n",
        "model.fit(Xtrain, Ytrain)\n",
        "model.score(Xtrain, Ytrain), model.score(Xtest, Ytest)"
      ],
      "metadata": {
        "colab": {
          "base_uri": "https://localhost:8080/"
        },
        "id": "si5Nc94Fhuey",
        "outputId": "66befab0-3c3c-40b3-9137-e9483a978c8c"
      },
      "execution_count": 20,
      "outputs": [
        {
          "output_type": "execute_result",
          "data": {
            "text/plain": [
              "(0.008271754178782675, -0.011369618185063324)"
            ]
          },
          "metadata": {},
          "execution_count": 20
        }
      ]
    },
    {
      "cell_type": "code",
      "source": [
        "#Direction\n",
        "Ptrain = model.predict(Xtrain)\n",
        "Ptest = model.predict(Xtest)\n",
        "np.mean(np.sign(Ptrain) == np.sign(Ytrain)), np.mean(np.sign(Ptest) == np.sign(Ytest))"
      ],
      "metadata": {
        "colab": {
          "base_uri": "https://localhost:8080/"
        },
        "id": "mfDbhZEBi2hV",
        "outputId": "c90220bd-8e64-4f6f-b401-afb34ac56109"
      },
      "execution_count": 21,
      "outputs": [
        {
          "output_type": "execute_result",
          "data": {
            "text/plain": [
              "(0.528526148969889, 0.5285285285285285)"
            ]
          },
          "metadata": {},
          "execution_count": 21
        }
      ]
    },
    {
      "cell_type": "code",
      "source": [
        "set(np.sign(Ptrain)), set(np.sign(Ptest))"
      ],
      "metadata": {
        "colab": {
          "base_uri": "https://localhost:8080/"
        },
        "id": "8qpPmKZCjTT8",
        "outputId": "da9c30a1-95dd-4406-d4c8-10680615782f"
      },
      "execution_count": 34,
      "outputs": [
        {
          "output_type": "execute_result",
          "data": {
            "text/plain": [
              "({-1.0, 1.0}, {-1.0, 1.0})"
            ]
          },
          "metadata": {},
          "execution_count": 34
        }
      ]
    },
    {
      "cell_type": "code",
      "source": [
        "train_idx = df.index <= train.index[-1]\n",
        "test_idx = df.index > train.index[-1]\n",
        "\n",
        "train_idx[0] = False\n",
        "test_idx[-1] = False"
      ],
      "metadata": {
        "id": "ahNtSaFpjfVq"
      },
      "execution_count": 35,
      "outputs": []
    },
    {
      "cell_type": "code",
      "source": [
        "df_returns['Position'] = 0 #create a new column\n",
        "df_returns.loc[train_idx, 'Position'] = (Ptrain > 0)\n",
        "df_returns.loc[test_idx, 'Position'] = (Ptest > 0)"
      ],
      "metadata": {
        "id": "0ffdzke5xbUS"
      },
      "execution_count": 36,
      "outputs": []
    },
    {
      "cell_type": "code",
      "source": [
        "df_returns['AlgoReturn'] = df_returns['Position'] * df_returns['SPY']"
      ],
      "metadata": {
        "id": "khJHbXUKzpA5"
      },
      "execution_count": 37,
      "outputs": []
    },
    {
      "cell_type": "code",
      "source": [
        "#Total algo log return train\n",
        "df_returns.iloc[1:-Ntest]['AlgoReturn'].sum()"
      ],
      "metadata": {
        "colab": {
          "base_uri": "https://localhost:8080/"
        },
        "id": "iZJXNTjaz49L",
        "outputId": "1512097f-afb0-4aed-8660-7bb443e888d3"
      },
      "execution_count": 41,
      "outputs": [
        {
          "output_type": "execute_result",
          "data": {
            "text/plain": [
              "-2.3266687854027674"
            ]
          },
          "metadata": {},
          "execution_count": 41
        }
      ]
    },
    {
      "cell_type": "code",
      "source": [
        "# Total algo log return test\n",
        "df_returns.iloc[-Ntest:-1]['AlgoReturn'].sum()"
      ],
      "metadata": {
        "colab": {
          "base_uri": "https://localhost:8080/"
        },
        "id": "pFoNlgWy0FG9",
        "outputId": "d01182ad-c438-4e23-f7f5-98822ad0e5a6"
      },
      "execution_count": 42,
      "outputs": [
        {
          "output_type": "execute_result",
          "data": {
            "text/plain": [
              "-1.711853877601473"
            ]
          },
          "metadata": {},
          "execution_count": 42
        }
      ]
    },
    {
      "cell_type": "code",
      "source": [
        "#Total return buy and hold train\n",
        "Ytrain.sum()"
      ],
      "metadata": {
        "colab": {
          "base_uri": "https://localhost:8080/"
        },
        "id": "5oa99FGB0l5G",
        "outputId": "c093da84-ce2a-4b85-dc21-1cac4404a46c"
      },
      "execution_count": 43,
      "outputs": [
        {
          "output_type": "execute_result",
          "data": {
            "text/plain": [
              "0.5863972019814705"
            ]
          },
          "metadata": {},
          "execution_count": 43
        }
      ]
    },
    {
      "cell_type": "code",
      "source": [
        "#Total return buy and hold test\n",
        "Ytest.sum()"
      ],
      "metadata": {
        "colab": {
          "base_uri": "https://localhost:8080/"
        },
        "id": "BZrHMBXS0s8Z",
        "outputId": "732e839d-6995-4e35-bb03-d5e9e00661df"
      },
      "execution_count": 44,
      "outputs": [
        {
          "output_type": "execute_result",
          "data": {
            "text/plain": [
              "0.19307543946998518"
            ]
          },
          "metadata": {},
          "execution_count": 44
        }
      ]
    },
    {
      "cell_type": "code",
      "source": [
        "from sklearn.linear_model import LogisticRegression\n",
        "model = LogisticRegression(C=10)\n",
        "Ctrain = (Ytrain > 0)\n",
        "Ctest = (Ytest > 0)\n",
        "model.fit(Xtrain, Ctrain)\n",
        "model.score(Xtrain, Ctrain), model.score(Xtest, Ctest)"
      ],
      "metadata": {
        "colab": {
          "base_uri": "https://localhost:8080/"
        },
        "id": "SfYSeB_C0zi4",
        "outputId": "f3081d6b-8ab8-45d4-e393-71d04ad5f0e1"
      },
      "execution_count": 46,
      "outputs": [
        {
          "output_type": "execute_result",
          "data": {
            "text/plain": [
              "(0.5586370839936609, 0.5285285285285285)"
            ]
          },
          "metadata": {},
          "execution_count": 46
        }
      ]
    },
    {
      "cell_type": "code",
      "source": [
        "Ptrain = model.predict(Xtrain)\n",
        "Ptest = model.predict(Xtest)\n",
        "set(Ptrain), set(Ptest)"
      ],
      "metadata": {
        "colab": {
          "base_uri": "https://localhost:8080/"
        },
        "id": "P3zdTGta1gsW",
        "outputId": "04528088-9d0d-409b-df7a-3930f689d64e"
      },
      "execution_count": 47,
      "outputs": [
        {
          "output_type": "execute_result",
          "data": {
            "text/plain": [
              "({False, True}, {False, True})"
            ]
          },
          "metadata": {},
          "execution_count": 47
        }
      ]
    },
    {
      "cell_type": "code",
      "source": [
        "df_returns.loc[train_idx, 'Position'] = Ptrain\n",
        "df_returns.loc[test_idx, 'Position'] = Ptest\n",
        "df_returns['AlgoReturn'] = df_returns['Position'] * df_returns['SPY']"
      ],
      "metadata": {
        "id": "hoEDzVLw1wh9"
      },
      "execution_count": 49,
      "outputs": []
    },
    {
      "cell_type": "code",
      "source": [
        "#Total algo log return train\n",
        "df_returns.iloc[1:-Ntest]['AlgoReturn'].sum()"
      ],
      "metadata": {
        "colab": {
          "base_uri": "https://localhost:8080/"
        },
        "id": "1O-VcGbV2QXt",
        "outputId": "5127932f-100d-4d77-91a8-c7021aeb2773"
      },
      "execution_count": 50,
      "outputs": [
        {
          "output_type": "execute_result",
          "data": {
            "text/plain": [
              "0.5913016343429724"
            ]
          },
          "metadata": {},
          "execution_count": 50
        }
      ]
    },
    {
      "cell_type": "code",
      "source": [
        "#Total algo log return test\n",
        "df_returns.iloc[-Ntest:-1]['AlgoReturn'].sum()"
      ],
      "metadata": {
        "colab": {
          "base_uri": "https://localhost:8080/"
        },
        "id": "ELgvCpkX2do-",
        "outputId": "63eaaa9f-735f-4c95-ac0c-1323b0a4bcc5"
      },
      "execution_count": 51,
      "outputs": [
        {
          "output_type": "execute_result",
          "data": {
            "text/plain": [
              "0.17817746857797623"
            ]
          },
          "metadata": {},
          "execution_count": 51
        }
      ]
    },
    {
      "cell_type": "code",
      "source": [
        "# Total Return buy and hold\n",
        "Ytrain.sum(), Ytest.sum()"
      ],
      "metadata": {
        "colab": {
          "base_uri": "https://localhost:8080/"
        },
        "id": "rB-8MSD82xIJ",
        "outputId": "171f43bf-7497-4115-e330-2c0ee9ef82c8"
      },
      "execution_count": 52,
      "outputs": [
        {
          "output_type": "execute_result",
          "data": {
            "text/plain": [
              "(0.5863972019814705, 0.19307543946998518)"
            ]
          },
          "metadata": {},
          "execution_count": 52
        }
      ]
    },
    {
      "cell_type": "code",
      "source": [
        "from sklearn.ensemble import RandomForestClassifier\n",
        "model = RandomForestClassifier(random_state=2)\n",
        "model.fit(Xtrain, Ctrain)\n",
        "model.score(Xtrain, Ctrain), model.score(Xtest, Ctest)"
      ],
      "metadata": {
        "colab": {
          "base_uri": "https://localhost:8080/"
        },
        "id": "kB3uhNl-25aK",
        "outputId": "68f39780-a707-4bcb-9f5d-0b4d64d85a10"
      },
      "execution_count": 53,
      "outputs": [
        {
          "output_type": "execute_result",
          "data": {
            "text/plain": [
              "(1.0, 0.5255255255255256)"
            ]
          },
          "metadata": {},
          "execution_count": 53
        }
      ]
    },
    {
      "cell_type": "code",
      "source": [
        "Ptrain = model.predict(Xtrain)\n",
        "Ptest = model.predict(Xtest)"
      ],
      "metadata": {
        "id": "v46iG_BO3hYR"
      },
      "execution_count": 54,
      "outputs": []
    },
    {
      "cell_type": "code",
      "source": [
        "df_returns.loc[train_idx, 'Position'] = Ptrain\n",
        "df_returns.loc[test_idx, 'Position'] = Ptest"
      ],
      "metadata": {
        "id": "f854AULZ3sIG"
      },
      "execution_count": 55,
      "outputs": []
    },
    {
      "cell_type": "code",
      "source": [
        "df_returns['AlgoReturn'] = df_returns['Position'] * df_returns['SPY']"
      ],
      "metadata": {
        "id": "A_rN7ZJJ37-s"
      },
      "execution_count": 56,
      "outputs": []
    },
    {
      "cell_type": "code",
      "source": [
        "#Total algo log return train\n",
        "df_returns.iloc[1:-Ntest]['AlgoReturn'].sum()"
      ],
      "metadata": {
        "colab": {
          "base_uri": "https://localhost:8080/"
        },
        "id": "Bsyty4O04JZ_",
        "outputId": "5a637312-15a4-4478-e00a-3b8a4ea9950d"
      },
      "execution_count": 57,
      "outputs": [
        {
          "output_type": "execute_result",
          "data": {
            "text/plain": [
              "0.2513962018834892"
            ]
          },
          "metadata": {},
          "execution_count": 57
        }
      ]
    },
    {
      "cell_type": "code",
      "source": [
        "#Total algo log return test\n",
        "df_returns.iloc[-Ntest:-1]['AlgoReturn'].sum()"
      ],
      "metadata": {
        "colab": {
          "base_uri": "https://localhost:8080/"
        },
        "id": "k8pFIUWu4aCN",
        "outputId": "0a8276f5-5459-4ab1-d3fe-31c1d1a7a679"
      },
      "execution_count": 58,
      "outputs": [
        {
          "output_type": "execute_result",
          "data": {
            "text/plain": [
              "-0.13496434703821425"
            ]
          },
          "metadata": {},
          "execution_count": 58
        }
      ]
    },
    {
      "cell_type": "code",
      "source": [
        "#Total buy and hold\n",
        "Ytrain.sum(), Ytest.sum()"
      ],
      "metadata": {
        "colab": {
          "base_uri": "https://localhost:8080/"
        },
        "id": "RItgCAs64pv5",
        "outputId": "dbfc27f1-0a5f-4197-8434-c37e51ef7232"
      },
      "execution_count": 59,
      "outputs": [
        {
          "output_type": "execute_result",
          "data": {
            "text/plain": [
              "(0.5863972019814705, 0.19307543946998518)"
            ]
          },
          "metadata": {},
          "execution_count": 59
        }
      ]
    }
  ]
}